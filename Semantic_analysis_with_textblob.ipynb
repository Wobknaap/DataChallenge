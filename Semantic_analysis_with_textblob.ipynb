{
 "cells": [
  {
   "cell_type": "code",
   "execution_count": null,
   "metadata": {},
   "outputs": [],
   "source": [
    "#pip install textblob"
   ]
  },
  {
   "cell_type": "code",
   "execution_count": 8,
   "metadata": {},
   "outputs": [],
   "source": [
    "import pandas as pd\n",
    "import json\n",
    "from textblob import TextBlob\n",
    "from translate import Translator                    # translation api \n",
    "pd.set_option('display.max_colwidth', -1)\n",
    "\n",
    "\n",
    "analyser = SentimentIntensityAnalyzer()                     # library documention https://github.com/cjhutto/vaderSentiment/blob/master/README.rst\n",
    "translator = Translator(to_lang = 'english')\n",
    "\n",
    "                         # opening one json for testing \n",
    "df= pd.read_json('C:/Users/20193623/Desktop/DBL Data Challange/JSON file 1/airlines-1558527599826.json', lines = True)\n"
   ]
  },
  {
   "cell_type": "code",
   "execution_count": 9,
   "metadata": {},
   "outputs": [],
   "source": [
    "def sentiment_analyzer_scores(text, engl=True):\n",
    "    if engl:                                     # if the leng is engl it skips the translation\n",
    "        trans = text\n",
    "    else:\n",
    "        trans = translator.translate(text).text # it translates the text\n",
    "        \n",
    "        \n",
    "        \n",
    "    score = TextBlob(trans).sentiment.polarity     # gets the scores from the library \n",
    "    \n",
    "    \n",
    "    \n",
    "    lb = score\n",
    "    if lb >= 0.33:                              # divides the sentiment score into (-1,0,1) \n",
    "        return 1                                # can be changed to even more catagories\n",
    "    elif (lb > -0.33) and (lb < 0.33):               \n",
    "        return 0\n",
    "    else:\n",
    "        return -1"
   ]
  },
  {
   "cell_type": "code",
   "execution_count": 10,
   "metadata": {},
   "outputs": [],
   "source": [
    "sentiment = []                        # gets a list of all the sentimental values of the tweets\n",
    "for x in range(len(df)) :  \n",
    "    \n",
    "    sentiment.append(sentiment_analyzer_scores(str(df['text'][x])))\n"
   ]
  },
  {
   "cell_type": "code",
   "execution_count": 11,
   "metadata": {},
   "outputs": [],
   "source": [
    "df.insert(28 ,'sentiment', sentiment)   # inserting the sentimental values into the dataframe"
   ]
  },
  {
   "cell_type": "code",
   "execution_count": 12,
   "metadata": {},
   "outputs": [
    {
     "data": {
      "text/html": [
       "<div>\n",
       "<style scoped>\n",
       "    .dataframe tbody tr th:only-of-type {\n",
       "        vertical-align: middle;\n",
       "    }\n",
       "\n",
       "    .dataframe tbody tr th {\n",
       "        vertical-align: top;\n",
       "    }\n",
       "\n",
       "    .dataframe thead th {\n",
       "        text-align: right;\n",
       "    }\n",
       "</style>\n",
       "<table border=\"1\" class=\"dataframe\">\n",
       "  <thead>\n",
       "    <tr style=\"text-align: right;\">\n",
       "      <th></th>\n",
       "      <th>text</th>\n",
       "      <th>sentiment</th>\n",
       "    </tr>\n",
       "  </thead>\n",
       "  <tbody>\n",
       "    <tr>\n",
       "      <th>3011</th>\n",
       "      <td>RT @cnni: A Ryanair passenger somehow ended up on the wrong plane and launched into an angry tirade when he wound up hundreds of miles from…</td>\n",
       "      <td>-1</td>\n",
       "    </tr>\n",
       "    <tr>\n",
       "      <th>8171</th>\n",
       "      <td>@AmericanAir cancelled my flight less than 12 hours prior to 7 AM departure with no explanation. I had already made… https://t.co/04iBzCR5TK</td>\n",
       "      <td>0</td>\n",
       "    </tr>\n",
       "    <tr>\n",
       "      <th>8700</th>\n",
       "      <td>@AupolNews Im guessing she can sit anywhere she likes on a QANTAS plane.</td>\n",
       "      <td>0</td>\n",
       "    </tr>\n",
       "    <tr>\n",
       "      <th>14052</th>\n",
       "      <td>RT @RoyalFamily: The Queen sees how the @British_Airways uniform has evolved over time – from the 1930s to the present day! https://t.co/Nt…</td>\n",
       "      <td>0</td>\n",
       "    </tr>\n",
       "    <tr>\n",
       "      <th>1839</th>\n",
       "      <td>@crankyflier @AmericanAir @airliners_net There’s about 4 737 and 767 getting worked on in TPA by Pemco 😬</td>\n",
       "      <td>0</td>\n",
       "    </tr>\n",
       "    <tr>\n",
       "      <th>11246</th>\n",
       "      <td>In a rare fee-cutting move, @AmericanAir has made it cheaper for surfers and others with bulky equipment to fly.… https://t.co/l3YbyxwAqj</td>\n",
       "      <td>0</td>\n",
       "    </tr>\n",
       "    <tr>\n",
       "      <th>3608</th>\n",
       "      <td>@Ryanair I RESERVED A CAR IN PORTUGAL AND PAID BY PREPAID MASTERCARD, YOU ACCEPETED THE PAYMENT WITH THAT CARD AND… https://t.co/kDeziXV8P8</td>\n",
       "      <td>0</td>\n",
       "    </tr>\n",
       "    <tr>\n",
       "      <th>2021</th>\n",
       "      <td>RT @taalmissers: Het achtuurjournaal heeft er net als de KLM moeite mee .... #taalmisser\\n\\nDank @JaapvanA https://t.co/uTqEkEOsrL</td>\n",
       "      <td>0</td>\n",
       "    </tr>\n",
       "    <tr>\n",
       "      <th>11383</th>\n",
       "      <td>@hi2sin Please reach out to our Baggage team for help. https://t.co/c2WPmpJSpV</td>\n",
       "      <td>0</td>\n",
       "    </tr>\n",
       "    <tr>\n",
       "      <th>11811</th>\n",
       "      <td>UK-bound passenger dies on Ryanair jet waiting to leave Majorca Medics failed to save woman, 58, taken ill on plane… https://t.co/eQzwhNJkZZ</td>\n",
       "      <td>-1</td>\n",
       "    </tr>\n",
       "  </tbody>\n",
       "</table>\n",
       "</div>"
      ],
      "text/plain": [
       "                                                                                                                                               text  \\\n",
       "3011   RT @cnni: A Ryanair passenger somehow ended up on the wrong plane and launched into an angry tirade when he wound up hundreds of miles from…   \n",
       "8171   @AmericanAir cancelled my flight less than 12 hours prior to 7 AM departure with no explanation. I had already made… https://t.co/04iBzCR5TK   \n",
       "8700   @AupolNews Im guessing she can sit anywhere she likes on a QANTAS plane.                                                                       \n",
       "14052  RT @RoyalFamily: The Queen sees how the @British_Airways uniform has evolved over time – from the 1930s to the present day! https://t.co/Nt…   \n",
       "1839   @crankyflier @AmericanAir @airliners_net There’s about 4 737 and 767 getting worked on in TPA by Pemco 😬                                       \n",
       "11246  In a rare fee-cutting move, @AmericanAir has made it cheaper for surfers and others with bulky equipment to fly.… https://t.co/l3YbyxwAqj      \n",
       "3608   @Ryanair I RESERVED A CAR IN PORTUGAL AND PAID BY PREPAID MASTERCARD, YOU ACCEPETED THE PAYMENT WITH THAT CARD AND… https://t.co/kDeziXV8P8    \n",
       "2021   RT @taalmissers: Het achtuurjournaal heeft er net als de KLM moeite mee .... #taalmisser\\n\\nDank @JaapvanA https://t.co/uTqEkEOsrL             \n",
       "11383  @hi2sin Please reach out to our Baggage team for help. https://t.co/c2WPmpJSpV                                                                 \n",
       "11811  UK-bound passenger dies on Ryanair jet waiting to leave Majorca Medics failed to save woman, 58, taken ill on plane… https://t.co/eQzwhNJkZZ   \n",
       "\n",
       "       sentiment  \n",
       "3011  -1          \n",
       "8171   0          \n",
       "8700   0          \n",
       "14052  0          \n",
       "1839   0          \n",
       "11246  0          \n",
       "3608   0          \n",
       "2021   0          \n",
       "11383  0          \n",
       "11811 -1          "
      ]
     },
     "execution_count": 12,
     "metadata": {},
     "output_type": "execute_result"
    }
   ],
   "source": [
    "df[['text','sentiment']].sample(10)"
   ]
  }
 ],
 "metadata": {
  "kernelspec": {
   "display_name": "Python 3",
   "language": "python",
   "name": "python3"
  },
  "language_info": {
   "codemirror_mode": {
    "name": "ipython",
    "version": 3
   },
   "file_extension": ".py",
   "mimetype": "text/x-python",
   "name": "python",
   "nbconvert_exporter": "python",
   "pygments_lexer": "ipython3",
   "version": "3.7.3"
  }
 },
 "nbformat": 4,
 "nbformat_minor": 4
}
