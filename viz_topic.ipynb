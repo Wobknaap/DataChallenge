{
 "cells": [
  {
   "cell_type": "code",
   "execution_count": 3,
   "metadata": {},
   "outputs": [
    {
     "name": "stderr",
     "output_type": "stream",
     "text": [
      "C:\\Users\\20193623\\AppData\\Local\\Continuum\\anaconda3\\lib\\site-packages\\statsmodels\\tools\\_testing.py:19: FutureWarning: pandas.util.testing is deprecated. Use the functions in the public API at pandas.testing instead.\n",
      "  import pandas.util.testing as tm\n"
     ]
    }
   ],
   "source": [
    "import numpy as np\n",
    "import pandas as pd\n",
    "import random\n",
    "# next command ensures that plots appear inside the notebook\n",
    "%matplotlib inline\n",
    "import matplotlib as mpl\n",
    "import matplotlib.pyplot as plt\n",
    "import seaborn as sns  # also improves the look of plots\n",
    "sns.set()  # set Seaborn defaults\n",
    "plt.rcParams['figure.figsize'] = 10, 5  # default hor./vert. size of plots, in inches\n",
    "plt.rcParams['lines.markeredgewidth'] = 1  # to fix issue with seaborn box plots; needed after import seaborn\n",
    "pd.options.display.float_format = '{:,.0f}'.format \n"
   ]
  },
  {
   "cell_type": "code",
   "execution_count": 7,
   "metadata": {},
   "outputs": [],
   "source": [
    "df_s = pd.read_csv('topicairlinesentiment.csv')    #opening and selecting the rows that contain relevent infomration \n",
    "df_s = df_s[df_s['Topic'].notna()]\n",
    "df_m = pd.read_csv('sent_mention.csv')"
   ]
  },
  {
   "cell_type": "code",
   "execution_count": 5,
   "metadata": {},
   "outputs": [],
   "source": [
    "def sentiment_topic_airline(airline : str , topic : str) -> \".jpg file\" :\n",
    "    \"\"\"Saves a jpg of a histogram of the sentiment per airline about a topic.\n",
    "    \"\"\"\n",
    "    topic_label =  {'baggage': '1',           # dictionary for decoding of variables in df\n",
    "      'delay': '2',\n",
    "      'pollute': '3',\n",
    "      'cancel': '4',\n",
    "      'service': '5',\n",
    "      'ticket': '6',\n",
    "      'corona': '7'}\n",
    "\n",
    "    color_airline = { 'KLM' : '#00a1e4' ,    # colorcode for airline color used in plots \n",
    "          'British Airways' : '#A9A9A9' , \n",
    "          'American Air' : '#e92026' , \n",
    "          'Lufthansa': '#00235f' , \n",
    "          'RyanAir' : '#f1c933'}\n",
    "    \n",
    "    df = df_s[df_s[airline]==1]               # creates a data frame for the desired airline\n",
    "\n",
    "\n",
    "    df_topic = df[df['Topic'] == int(topic_label[topic])]   #  creates a data frame for the desired topic and airline \n",
    "\n",
    "    df_topic['sentiment'].plot.hist(grid=True, bins=7, rwidth=0.9,        # plots the historgram with labels and title \n",
    "                   color=color_airline[airline])  # selects the color that applies to the airline from the dictionary \n",
    "    plt.title('Sentiment of tweets towards {} about {}'.format(airline, topic))\n",
    "    plt.xlabel('Sentiment')\n",
    "    plt.ylabel('Counts')\n",
    "    plt.xticks([-1,0,1])\n",
    "    plt.grid(axis='y', alpha=0.75)\n",
    "    plt.savefig('Delay Sentiment/sentiment_{}_{}.jpg'.format(airline , topic))  # saves the plot to a folder in the same dir as the notebook \n"
   ]
  },
  {
   "cell_type": "code",
   "execution_count": 49,
   "metadata": {},
   "outputs": [
    {
     "data": {
      "image/png": "[encoded data removed]",
      "text/plain": [
       "<Figure size 432x288 with 1 Axes>"
      ]
     },
     "metadata": {
      "needs_background": "light"
     },
     "output_type": "display_data"
    }
   ],
   "source": [
    "sentiment_topic_airline('KLM' , 'service')"
   ]
  }
 ],
 "metadata": {
  "kernelspec": {
   "display_name": "Python 3",
   "language": "python",
   "name": "python3"
  },
  "language_info": {
   "codemirror_mode": {
    "name": "ipython",
    "version": 3
   },
   "file_extension": ".py",
   "mimetype": "text/x-python",
   "name": "python",
   "nbconvert_exporter": "python",
   "pygments_lexer": "ipython3",
   "version": "3.7.3"
  }
 },
 "nbformat": 4,
 "nbformat_minor": 4
}
