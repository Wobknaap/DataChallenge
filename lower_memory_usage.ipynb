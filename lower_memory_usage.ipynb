{
 "cells": [
  {
   "cell_type": "code",
   "execution_count": 1,
   "metadata": {
    "colab": {},
    "colab_type": "code",
    "id": "rne8TXLWd2wM"
   },
   "outputs": [],
   "source": [
    "import pandas as pd\n",
    "import numpy as np"
   ]
  },
  {
   "cell_type": "code",
   "execution_count": 2,
   "metadata": {
    "colab": {
     "base_uri": "https://localhost:8080/",
     "height": 34
    },
    "colab_type": "code",
    "executionInfo": {
     "elapsed": 5062,
     "status": "ok",
     "timestamp": 1589186331421,
     "user": {
      "displayName": "phhil",
      "photoUrl": "",
      "userId": "08514152688446212477"
     },
     "user_tz": -120
    },
    "id": "DHBBRhWNeWmF",
    "outputId": "dabd0752-599b-41b5-e21d-a2d3ab2d9912"
   },
   "outputs": [],
   "source": [
    "# from google.colab import drive\n",
    "# drive.mount('/content/gdrive/')\n",
    "\n",
    "# # import single json file as dataframe\n",
    "# df = pd.read_json('/content/gdrive/My Drive/Data challenge/code/airlines-1558527599826.json', orient = 'records', lines = True)"
   ]
  },
  {
   "cell_type": "code",
   "execution_count": 3,
   "metadata": {},
   "outputs": [],
   "source": [
    "df = pd.read_json('airlines-1558527599826.json', orient = 'records', lines = True)"
   ]
  },
  {
   "cell_type": "code",
   "execution_count": 4,
   "metadata": {
    "colab": {},
    "colab_type": "code",
    "id": "zCJt-hie0SKk"
   },
   "outputs": [],
   "source": [
    "def mem_usage(pandas_obj):\n",
    "    if isinstance(pandas_obj,pd.DataFrame):\n",
    "        usage_b = pandas_obj.memory_usage(deep=True).sum()\n",
    "    else: # we assume if not a df it's a series\n",
    "        usage_b = pandas_obj.memory_usage(deep=True)\n",
    "    usage_mb = usage_b / 1024 ** 2 # convert bytes to megabytes\n",
    "    return \"{:03.2f} MB\".format(usage_mb)"
   ]
  },
  {
   "cell_type": "code",
   "execution_count": 5,
   "metadata": {
    "colab": {
     "base_uri": "https://localhost:8080/",
     "height": 663
    },
    "colab_type": "code",
    "executionInfo": {
     "elapsed": 5044,
     "status": "ok",
     "timestamp": 1589186331423,
     "user": {
      "displayName": "phhil",
      "photoUrl": "",
      "userId": "08514152688446212477"
     },
     "user_tz": -120
    },
    "id": "tbW3Uy5Ke2m4",
    "outputId": "5726fab7-d75d-455b-d007-bed2467c94c7"
   },
   "outputs": [
    {
     "data": {
      "text/plain": [
       "contributors                        float64\n",
       "coordinates                          object\n",
       "created_at                   datetime64[ns]\n",
       "delete                               object\n",
       "display_text_range                   object\n",
       "entities                             object\n",
       "extended_entities                    object\n",
       "extended_tweet                       object\n",
       "favorite_count                      float64\n",
       "favorited                           float64\n",
       "filter_level                         object\n",
       "geo                                  object\n",
       "id                                  float64\n",
       "id_str                              float64\n",
       "in_reply_to_screen_name              object\n",
       "in_reply_to_status_id               float64\n",
       "in_reply_to_status_id_str           float64\n",
       "in_reply_to_user_id                 float64\n",
       "in_reply_to_user_id_str             float64\n",
       "is_quote_status                     float64\n",
       "lang                                 object\n",
       "place                                object\n",
       "possibly_sensitive                  float64\n",
       "quote_count                         float64\n",
       "quoted_status                        object\n",
       "quoted_status_id                    float64\n",
       "quoted_status_id_str                float64\n",
       "quoted_status_permalink              object\n",
       "reply_count                         float64\n",
       "retweet_count                       float64\n",
       "retweeted                           float64\n",
       "retweeted_status                     object\n",
       "source                               object\n",
       "text                                 object\n",
       "timestamp_ms                 datetime64[ns]\n",
       "truncated                           float64\n",
       "user                                 object\n",
       "dtype: object"
      ]
     },
     "execution_count": 5,
     "metadata": {},
     "output_type": "execute_result"
    }
   ],
   "source": [
    "df.dtypes"
   ]
  },
  {
   "cell_type": "code",
   "execution_count": 6,
   "metadata": {
    "colab": {
     "base_uri": "https://localhost:8080/",
     "height": 34
    },
    "colab_type": "code",
    "executionInfo": {
     "elapsed": 5757,
     "status": "ok",
     "timestamp": 1589186332146,
     "user": {
      "displayName": "phhil",
      "photoUrl": "",
      "userId": "08514152688446212477"
     },
     "user_tz": -120
    },
    "id": "A86t6YAq1LLy",
    "outputId": "15a4157d-bd85-46ac-c5ef-0b7adeaf568c"
   },
   "outputs": [
    {
     "data": {
      "text/plain": [
       "'41.22 MB'"
      ]
     },
     "execution_count": 6,
     "metadata": {},
     "output_type": "execute_result"
    }
   ],
   "source": [
    "mem_usage(df)"
   ]
  },
  {
   "cell_type": "code",
   "execution_count": 7,
   "metadata": {
    "colab": {
     "base_uri": "https://localhost:8080/",
     "height": 51
    },
    "colab_type": "code",
    "executionInfo": {
     "elapsed": 832,
     "status": "ok",
     "timestamp": 1589186525449,
     "user": {
      "displayName": "phhil",
      "photoUrl": "",
      "userId": "08514152688446212477"
     },
     "user_tz": -120
    },
    "id": "miYKGoRw1KLp",
    "outputId": "03a30285-954d-48ae-e5e0-6ef4155952d5"
   },
   "outputs": [
    {
     "name": "stdout",
     "output_type": "stream",
     "text": [
      "0.00 MB\n",
      "0.00 MB\n"
     ]
    },
    {
     "data": {
      "text/html": [
       "<div>\n",
       "<style scoped>\n",
       "    .dataframe tbody tr th:only-of-type {\n",
       "        vertical-align: middle;\n",
       "    }\n",
       "\n",
       "    .dataframe tbody tr th {\n",
       "        vertical-align: top;\n",
       "    }\n",
       "\n",
       "    .dataframe thead th {\n",
       "        text-align: right;\n",
       "    }\n",
       "</style>\n",
       "<table border=\"1\" class=\"dataframe\">\n",
       "  <thead>\n",
       "    <tr style=\"text-align: right;\">\n",
       "      <th></th>\n",
       "      <th>before</th>\n",
       "      <th>after</th>\n",
       "    </tr>\n",
       "  </thead>\n",
       "  <tbody>\n",
       "  </tbody>\n",
       "</table>\n",
       "</div>"
      ],
      "text/plain": [
       "Empty DataFrame\n",
       "Columns: [before, after]\n",
       "Index: []"
      ]
     },
     "execution_count": 7,
     "metadata": {},
     "output_type": "execute_result"
    }
   ],
   "source": [
    "df_int = df.select_dtypes(include=['int'])\n",
    "converted_int = df_int.apply(pd.to_numeric,downcast='unsigned')\n",
    "print(mem_usage(df_int))\n",
    "print(mem_usage(converted_int))\n",
    "compare_ints = pd.concat([df_int.dtypes,converted_int.dtypes],axis=1)\n",
    "compare_ints.columns = ['before','after']\n",
    "compare_ints.apply(pd.Series.value_counts)\n"
   ]
  },
  {
   "cell_type": "code",
   "execution_count": 8,
   "metadata": {
    "colab": {},
    "colab_type": "code",
    "id": "xaI0daPa5kaw"
   },
   "outputs": [],
   "source": [
    "df[converted_int.columns]=converted_int"
   ]
  },
  {
   "cell_type": "code",
   "execution_count": 9,
   "metadata": {
    "colab": {
     "base_uri": "https://localhost:8080/",
     "height": 34
    },
    "colab_type": "code",
    "executionInfo": {
     "elapsed": 712,
     "status": "ok",
     "timestamp": 1589186551061,
     "user": {
      "displayName": "phhil",
      "photoUrl": "",
      "userId": "08514152688446212477"
     },
     "user_tz": -120
    },
    "id": "2ib7ODAAegZM",
    "outputId": "4aa89a76-66c5-401a-cafb-b9edb3693d6b"
   },
   "outputs": [
    {
     "data": {
      "text/plain": [
       "'41.22 MB'"
      ]
     },
     "execution_count": 9,
     "metadata": {},
     "output_type": "execute_result"
    }
   ],
   "source": [
    "mem_usage(df)"
   ]
  },
  {
   "cell_type": "code",
   "execution_count": 10,
   "metadata": {
    "colab": {
     "base_uri": "https://localhost:8080/",
     "height": 83
    },
    "colab_type": "code",
    "executionInfo": {
     "elapsed": 786,
     "status": "ok",
     "timestamp": 1589186537591,
     "user": {
      "displayName": "phhil",
      "photoUrl": "",
      "userId": "08514152688446212477"
     },
     "user_tz": -120
    },
    "id": "cBq8K3GremDU",
    "outputId": "5d198070-9c40-42c7-906c-65cf13f03d46"
   },
   "outputs": [
    {
     "name": "stdout",
     "output_type": "stream",
     "text": [
      "1.98 MB\n",
      "0.99 MB\n"
     ]
    },
    {
     "data": {
      "text/html": [
       "<div>\n",
       "<style scoped>\n",
       "    .dataframe tbody tr th:only-of-type {\n",
       "        vertical-align: middle;\n",
       "    }\n",
       "\n",
       "    .dataframe tbody tr th {\n",
       "        vertical-align: top;\n",
       "    }\n",
       "\n",
       "    .dataframe thead th {\n",
       "        text-align: right;\n",
       "    }\n",
       "</style>\n",
       "<table border=\"1\" class=\"dataframe\">\n",
       "  <thead>\n",
       "    <tr style=\"text-align: right;\">\n",
       "      <th></th>\n",
       "      <th>before</th>\n",
       "      <th>after</th>\n",
       "    </tr>\n",
       "  </thead>\n",
       "  <tbody>\n",
       "    <tr>\n",
       "      <th>float32</th>\n",
       "      <td>NaN</td>\n",
       "      <td>18.0</td>\n",
       "    </tr>\n",
       "    <tr>\n",
       "      <th>float64</th>\n",
       "      <td>18.0</td>\n",
       "      <td>NaN</td>\n",
       "    </tr>\n",
       "  </tbody>\n",
       "</table>\n",
       "</div>"
      ],
      "text/plain": [
       "         before  after\n",
       "float32     NaN   18.0\n",
       "float64    18.0    NaN"
      ]
     },
     "execution_count": 10,
     "metadata": {},
     "output_type": "execute_result"
    }
   ],
   "source": [
    "df_float = df.select_dtypes(include=['float'])\n",
    "converted_float = df_float.apply(pd.to_numeric,downcast='float')\n",
    "print(mem_usage(df_float))\n",
    "print(mem_usage(converted_float))\n",
    "compare_floats = pd.concat([df_float.dtypes,converted_float.dtypes],axis=1)\n",
    "compare_floats.columns = ['before','after']\n",
    "compare_floats.apply(pd.Series.value_counts)\n"
   ]
  },
  {
   "cell_type": "code",
   "execution_count": 11,
   "metadata": {
    "colab": {},
    "colab_type": "code",
    "id": "sRFJ_0325hnK"
   },
   "outputs": [],
   "source": [
    "df[converted_float.columns]=converted_float"
   ]
  },
  {
   "cell_type": "code",
   "execution_count": 12,
   "metadata": {
    "colab": {
     "base_uri": "https://localhost:8080/",
     "height": 34
    },
    "colab_type": "code",
    "executionInfo": {
     "elapsed": 7242,
     "status": "ok",
     "timestamp": 1589186333684,
     "user": {
      "displayName": "phhil",
      "photoUrl": "",
      "userId": "08514152688446212477"
     },
     "user_tz": -120
    },
    "id": "w4asFzAme5Ko",
    "outputId": "f5eb5488-fc00-4464-8ea0-a3c3694c95ee"
   },
   "outputs": [
    {
     "data": {
      "text/plain": [
       "'40.23 MB'"
      ]
     },
     "execution_count": 12,
     "metadata": {},
     "output_type": "execute_result"
    }
   ],
   "source": [
    "mem_usage(df)"
   ]
  },
  {
   "cell_type": "code",
   "execution_count": 13,
   "metadata": {
    "colab": {
     "base_uri": "https://localhost:8080/",
     "height": 969
    },
    "colab_type": "code",
    "executionInfo": {
     "elapsed": 72577,
     "status": "ok",
     "timestamp": 1589186399030,
     "user": {
      "displayName": "phhil",
      "photoUrl": "",
      "userId": "08514152688446212477"
     },
     "user_tz": -120
    },
    "id": "fPUdU6HCe6Mb",
    "outputId": "136f1014-132f-444b-9707-3ff9872a80f2",
    "scrolled": true
   },
   "outputs": [
    {
     "name": "stdout",
     "output_type": "stream",
     "text": [
      "contributors float32 1\n",
      "changed A\n",
      "changed B\n",
      "created_at datetime64[ns] 13058\n",
      "changed B\n",
      "changed B\n",
      "not changed B\n",
      "not changed B\n",
      "not changed B\n",
      "favorite_count float32 2\n",
      "changed A\n",
      "favorited float32 2\n",
      "changed A\n",
      "filter_level object 2\n",
      "changed A\n",
      "changed B\n",
      "id float32 4673\n",
      "not changed A\n",
      "id_str float32 4673\n",
      "not changed A\n",
      "in_reply_to_screen_name object 2406\n",
      "changed A\n",
      "in_reply_to_status_id float32 2783\n",
      "not changed A\n",
      "in_reply_to_status_id_str float32 2783\n",
      "not changed A\n",
      "in_reply_to_user_id float32 2404\n",
      "not changed A\n",
      "in_reply_to_user_id_str float32 2404\n",
      "not changed A\n",
      "is_quote_status float32 3\n",
      "changed A\n",
      "lang object 39\n",
      "changed A\n",
      "changed B\n",
      "possibly_sensitive float32 3\n",
      "changed A\n",
      "quote_count float32 2\n",
      "changed A\n",
      "not changed B\n",
      "quoted_status_id float32 475\n",
      "not changed A\n",
      "quoted_status_id_str float32 475\n",
      "not changed A\n",
      "changed B\n",
      "reply_count float32 2\n",
      "changed A\n",
      "retweet_count float32 2\n",
      "changed A\n",
      "retweeted float32 2\n",
      "changed A\n",
      "not changed B\n",
      "source object 287\n",
      "changed A\n",
      "text object 11422\n",
      "timestamp_ms datetime64[ns] 14386\n",
      "truncated float32 3\n",
      "changed A\n",
      "not changed B\n",
      "Wall time: 1.73 s\n"
     ]
    }
   ],
   "source": [
    "%%time\n",
    "for col in df.columns:\n",
    "    try:\n",
    "        col_len=len(df[col].unique())\n",
    "        print(col,df[col].dtype,col_len)\n",
    "        if col_len>=len(df)/2:continue\n",
    "        if float(mem_usage(df[col].astype('category'))[:-3])<float(mem_usage(df[col])[:-3]):\n",
    "            df[col]=df[col].astype('category')\n",
    "            print('changed A')\n",
    "        else:\n",
    "            print('not changed A')\n",
    "    except:\n",
    "        if float(mem_usage(df[col].astype(str).astype('category'))[:-3])<float(mem_usage(df[col])[:-3]):\n",
    "            df[col]=df[col].astype(str).astype('category')\n",
    "            print('changed B')\n",
    "        else:\n",
    "            print('not changed B')"
   ]
  },
  {
   "cell_type": "code",
   "execution_count": 14,
   "metadata": {
    "colab": {
     "base_uri": "https://localhost:8080/",
     "height": 34
    },
    "colab_type": "code",
    "executionInfo": {
     "elapsed": 72938,
     "status": "ok",
     "timestamp": 1589186399421,
     "user": {
      "displayName": "phhil",
      "photoUrl": "",
      "userId": "08514152688446212477"
     },
     "user_tz": -120
    },
    "id": "ZprhJ5cWe7Qr",
    "outputId": "90cb1aa6-1705-4de8-f11f-9738842c04d5"
   },
   "outputs": [
    {
     "data": {
      "text/plain": [
       "'34.10 MB'"
      ]
     },
     "execution_count": 14,
     "metadata": {},
     "output_type": "execute_result"
    }
   ],
   "source": [
    "mem_usage(df)"
   ]
  },
  {
   "cell_type": "code",
   "execution_count": 15,
   "metadata": {
    "colab": {
     "base_uri": "https://localhost:8080/",
     "height": 1000
    },
    "colab_type": "code",
    "executionInfo": {
     "elapsed": 72926,
     "status": "ok",
     "timestamp": 1589186399423,
     "user": {
      "displayName": "phhil",
      "photoUrl": "",
      "userId": "08514152688446212477"
     },
     "user_tz": -120
    },
    "id": "3quZl3Dke87z",
    "outputId": "d4883499-c1d5-466d-8ba6-7f2e77e2ce1c"
   },
   "outputs": [
    {
     "data": {
      "text/plain": [
       "{'contributors': CategoricalDtype(categories=[], ordered=False),\n",
       " 'coordinates': CategoricalDtype(categories=['None', 'nan',\n",
       "                   '{'type': 'Point', 'coordinates': [-0.12731805000000002, 51.50711486]}',\n",
       "                   '{'type': 'Point', 'coordinates': [-0.16413999, 51.15497787]}',\n",
       "                   '{'type': 'Point', 'coordinates': [-0.17699628, 51.16024654]}',\n",
       "                   '{'type': 'Point', 'coordinates': [-0.44903773, 51.46972988]}',\n",
       "                   '{'type': 'Point', 'coordinates': [-0.6540400000000001, 38.08668]}',\n",
       "                   '{'type': 'Point', 'coordinates': [-101.292, 48.2332]}',\n",
       "                   '{'type': 'Point', 'coordinates': [-111.8239732, 40.42144775]}',\n",
       "                   '{'type': 'Point', 'coordinates': [-118.34249496, 34.09782174]}',\n",
       "                   '{'type': 'Point', 'coordinates': [-123.1762466, 49.1947594]}',\n",
       "                   '{'type': 'Point', 'coordinates': [-46.48084933, -23.4274212]}',\n",
       "                   '{'type': 'Point', 'coordinates': [-6.21590022, 54.66173027]}',\n",
       "                   '{'type': 'Point', 'coordinates': [-73.9317949, 40.85046]}',\n",
       "                   '{'type': 'Point', 'coordinates': [-77.04239359, 38.85217148]}',\n",
       "                   '{'type': 'Point', 'coordinates': [-87.89138391, 41.97493806]}',\n",
       "                   '{'type': 'Point', 'coordinates': [-87.89962323, 41.974533]}',\n",
       "                   '{'type': 'Point', 'coordinates': [-93.2107632, 44.883049]}',\n",
       "                   '{'type': 'Point', 'coordinates': [-97.03787546, 32.89849574]}',\n",
       "                   '{'type': 'Point', 'coordinates': [-99.07765585, 19.43746412]}',\n",
       "                   '{'type': 'Point', 'coordinates': [11.79339409, 48.35302649]}',\n",
       "                   '{'type': 'Point', 'coordinates': [12.25248364, 41.79663868]}',\n",
       "                   '{'type': 'Point', 'coordinates': [13.51854589, 52.38859076]}',\n",
       "                   '{'type': 'Point', 'coordinates': [14.42083333, 50.09944444]}',\n",
       "                   '{'type': 'Point', 'coordinates': [14.49058, 50.03109867]}',\n",
       "                   '{'type': 'Point', 'coordinates': [151.16663575, -33.93532238]}',\n",
       "                   '{'type': 'Point', 'coordinates': [151.16801513, -33.93618532]}',\n",
       "                   '{'type': 'Point', 'coordinates': [151.17813058, -33.93237676]}',\n",
       "                   '{'type': 'Point', 'coordinates': [2.07514946, 41.28954949]}',\n",
       "                   '{'type': 'Point', 'coordinates': [2.09689, 41.32483]}',\n",
       "                   '{'type': 'Point', 'coordinates': [2.5768134099999997, 49.00634634]}',\n",
       "                   '{'type': 'Point', 'coordinates': [2.7658658799999998, 41.89795999]}',\n",
       "                   '{'type': 'Point', 'coordinates': [4.83333333, 52.66666667]}',\n",
       "                   '{'type': 'Point', 'coordinates': [6.15, 46.2]}',\n",
       "                   '{'type': 'Point', 'coordinates': [8.56863328, 50.04806623]}',\n",
       "                   '{'type': 'Point', 'coordinates': [8.6709, 50.1154]}',\n",
       "                   '{'type': 'Point', 'coordinates': [8.71386621, 45.62734359]}'],\n",
       "                  ordered=False),\n",
       " 'created_at': dtype('<M8[ns]'),\n",
       " 'delete': CategoricalDtype(categories=['nan',\n",
       "                   '{'status': {'id': 1131296542533529600, 'id_str': '1131296542533529600', 'user_id': 22536055, 'user_id_str': '22536055'}, 'timestamp_ms': '1558557114685'}',\n",
       "                   '{'status': {'id': 1131361972606382082, 'id_str': '1131361972606382082', 'user_id': 22536055, 'user_id_str': '22536055'}, 'timestamp_ms': '1558572700024'}'],\n",
       "                  ordered=False),\n",
       " 'display_text_range': CategoricalDtype(categories=['[0, 0]', '[0, 100]', '[0, 101]', '[0, 102]', '[0, 103]',\n",
       "                   '[0, 104]', '[0, 105]', '[0, 106]', '[0, 107]', '[0, 108]',\n",
       "                   ...\n",
       "                   '[94, 122]', '[94, 126]', '[94, 140]', '[95, 103]',\n",
       "                   '[96, 108]', '[96, 135]', '[96, 140]', '[97, 140]',\n",
       "                   '[98, 140]', 'nan'],\n",
       "                  ordered=False),\n",
       " 'entities': dtype('O'),\n",
       " 'extended_entities': dtype('O'),\n",
       " 'extended_tweet': dtype('O'),\n",
       " 'favorite_count': CategoricalDtype(categories=[0.0], ordered=False),\n",
       " 'favorited': CategoricalDtype(categories=[0.0], ordered=False),\n",
       " 'filter_level': CategoricalDtype(categories=['low'], ordered=False),\n",
       " 'geo': CategoricalDtype(categories=['None', 'nan',\n",
       "                   '{'type': 'Point', 'coordinates': [-23.4274212, -46.48084933]}',\n",
       "                   '{'type': 'Point', 'coordinates': [-33.93237676, 151.17813058]}',\n",
       "                   '{'type': 'Point', 'coordinates': [-33.93532238, 151.16663575]}',\n",
       "                   '{'type': 'Point', 'coordinates': [-33.93618532, 151.16801513]}',\n",
       "                   '{'type': 'Point', 'coordinates': [19.43746412, -99.07765585]}',\n",
       "                   '{'type': 'Point', 'coordinates': [32.89849574, -97.03787546]}',\n",
       "                   '{'type': 'Point', 'coordinates': [34.09782174, -118.34249496]}',\n",
       "                   '{'type': 'Point', 'coordinates': [38.08668, -0.6540400000000001]}',\n",
       "                   '{'type': 'Point', 'coordinates': [38.85217148, -77.04239359]}',\n",
       "                   '{'type': 'Point', 'coordinates': [40.42144775, -111.8239732]}',\n",
       "                   '{'type': 'Point', 'coordinates': [40.85046, -73.9317949]}',\n",
       "                   '{'type': 'Point', 'coordinates': [41.28954949, 2.07514946]}',\n",
       "                   '{'type': 'Point', 'coordinates': [41.32483, 2.09689]}',\n",
       "                   '{'type': 'Point', 'coordinates': [41.79663868, 12.25248364]}',\n",
       "                   '{'type': 'Point', 'coordinates': [41.89795999, 2.7658658799999998]}',\n",
       "                   '{'type': 'Point', 'coordinates': [41.974533, -87.89962323]}',\n",
       "                   '{'type': 'Point', 'coordinates': [41.97493806, -87.89138391]}',\n",
       "                   '{'type': 'Point', 'coordinates': [44.883049, -93.2107632]}',\n",
       "                   '{'type': 'Point', 'coordinates': [45.62734359, 8.71386621]}',\n",
       "                   '{'type': 'Point', 'coordinates': [46.2, 6.15]}',\n",
       "                   '{'type': 'Point', 'coordinates': [48.2332, -101.292]}',\n",
       "                   '{'type': 'Point', 'coordinates': [48.35302649, 11.79339409]}',\n",
       "                   '{'type': 'Point', 'coordinates': [49.00634634, 2.5768134099999997]}',\n",
       "                   '{'type': 'Point', 'coordinates': [49.1947594, -123.1762466]}',\n",
       "                   '{'type': 'Point', 'coordinates': [50.03109867, 14.49058]}',\n",
       "                   '{'type': 'Point', 'coordinates': [50.04806623, 8.56863328]}',\n",
       "                   '{'type': 'Point', 'coordinates': [50.09944444, 14.42083333]}',\n",
       "                   '{'type': 'Point', 'coordinates': [50.1154, 8.6709]}',\n",
       "                   '{'type': 'Point', 'coordinates': [51.15497787, -0.16413999]}',\n",
       "                   '{'type': 'Point', 'coordinates': [51.16024654, -0.17699628]}',\n",
       "                   '{'type': 'Point', 'coordinates': [51.46972988, -0.44903773]}',\n",
       "                   '{'type': 'Point', 'coordinates': [51.50711486, -0.12731805000000002]}',\n",
       "                   '{'type': 'Point', 'coordinates': [52.38859076, 13.51854589]}',\n",
       "                   '{'type': 'Point', 'coordinates': [52.66666667, 4.83333333]}',\n",
       "                   '{'type': 'Point', 'coordinates': [54.66173027, -6.21590022]}'],\n",
       "                  ordered=False),\n",
       " 'id': dtype('float32'),\n",
       " 'id_str': dtype('float32'),\n",
       " 'in_reply_to_screen_name': CategoricalDtype(categories=['0hgaby', '10NewsFirst', '10Sj10', '1776asmith', '1NickMill',\n",
       "                   '1bustedlung', '1charlieMcG', '20m', '247Nao', '2gay2lift',\n",
       "                   ...\n",
       "                   'ytekedejong', 'yusaonline', 'yvettetravel', 'yvonnesmits',\n",
       "                   'zazamataz', 'zeTravelersClub', 'zefronxobsessed', 'zoovroo',\n",
       "                   'zrina15', 'zuluflash'],\n",
       "                  ordered=False),\n",
       " 'in_reply_to_status_id': dtype('float32'),\n",
       " 'in_reply_to_status_id_str': dtype('float32'),\n",
       " 'in_reply_to_user_id': dtype('float32'),\n",
       " 'in_reply_to_user_id_str': dtype('float32'),\n",
       " 'is_quote_status': CategoricalDtype(categories=[0.0, 1.0], ordered=False),\n",
       " 'lang': CategoricalDtype(categories=['ar', 'bg', 'bn', 'ca', 'cs', 'cy', 'da', 'de', 'el', 'en',\n",
       "                   'es', 'et', 'eu', 'fi', 'fr', 'hi', 'ht', 'in', 'is', 'it',\n",
       "                   'iw', 'ja', 'ko', 'lt', 'lv', 'ml', 'nl', 'no', 'pl', 'pt',\n",
       "                   'ro', 'ru', 'sv', 'th', 'tl', 'tr', 'uk', 'und'],\n",
       "                  ordered=False),\n",
       " 'place': CategoricalDtype(categories=['None', 'nan',\n",
       "                   '{'id': '001907e868d06e24', 'url': 'https://api.twitter.com/1.1/geo/id/001907e868d06e24.json', 'place_type': 'admin', 'name': 'Dubai', 'full_name': 'Dubai, United Arab Emirates', 'country_code': 'AE', 'country': 'United Arab Emirates', 'bounding_box': {'type': 'Polygon', 'coordinates': [[[54.893973, 24.618253], [54.893973, 25.368672], [56.208372, 25.368672], [56.208372, 24.618253]]]}, 'attributes': {}}',\n",
       "                   '{'id': '002a96ba1ee5045e', 'url': 'https://api.twitter.com/1.1/geo/id/002a96ba1ee5045e.json', 'place_type': 'city', 'name': 'Harwich', 'full_name': 'Harwich, England', 'country_code': 'GB', 'country': 'United Kingdom', 'bounding_box': {'type': 'Polygon', 'coordinates': [[[1.220058, 51.913809], [1.220058, 51.94971], [1.291808, 51.94971], [1.291808, 51.913809]]]}, 'attributes': {}}',\n",
       "                   '{'id': '004ec16c62325149', 'url': 'https://api.twitter.com/1.1/geo/id/004ec16c62325149.json', 'place_type': 'city', 'name': 'Brisbane', 'full_name': 'Brisbane, Queensland', 'country_code': 'AU', 'country': 'Australia', 'bounding_box': {'type': 'Polygon', 'coordinates': [[[152.668523, -27.767441], [152.668523, -26.996845], [153.31787, -26.996845], [153.31787, -27.767441]]]}, 'attributes': {}}',\n",
       "                   '{'id': '005e3661711a29a9', 'url': 'https://api.twitter.com/1.1/geo/id/005e3661711a29a9.json', 'place_type': 'city', 'name': 'Boynton Beach', 'full_name': 'Boynton Beach, FL', 'country_code': 'US', 'country': 'United States', 'bounding_box': {'type': 'Polygon', 'coordinates': [[[-80.173447, 26.476484], [-80.173447, 26.590488], [-80.05236, 26.590488], [-80.05236, 26.476484]]]}, 'attributes': {}}',\n",
       "                   '{'id': '005f17f27f43a1d7', 'url': 'https://api.twitter.com/1.1/geo/id/005f17f27f43a1d7.json', 'place_type': 'city', 'name': 'Lester', 'full_name': 'Lester, PA', 'country_code': 'US', 'country': 'United States', 'bounding_box': {'type': 'Polygon', 'coordinates': [[[-75.313867, 39.855915], [-75.313867, 39.882522], [-75.215819, 39.882522], [-75.215819, 39.855915]]]}, 'attributes': {}}',\n",
       "                   '{'id': '006fdb405d7f9ccc', 'url': 'https://api.twitter.com/1.1/geo/id/006fdb405d7f9ccc.json', 'place_type': 'city', 'name': 'Worthington Hills', 'full_name': 'Worthington Hills, KY', 'country_code': 'US', 'country': 'United States', 'bounding_box': {'type': 'Polygon', 'coordinates': [[[-85.548228, 38.286444], [-85.548228, 38.323686], [-85.498115, 38.323686], [-85.498115, 38.286444]]]}, 'attributes': {}}',\n",
       "                   '{'id': '0073b76548e5984f', 'url': 'https://api.twitter.com/1.1/geo/id/0073b76548e5984f.json', 'place_type': 'city', 'name': 'Sydney', 'full_name': 'Sydney, New South Wales', 'country_code': 'AU', 'country': 'Australia', 'bounding_box': {'type': 'Polygon', 'coordinates': [[[150.520929, -34.118347], [150.520929, -33.578141], [151.343021, -33.578141], [151.343021, -34.118347]]]}, 'attributes': {}}',\n",
       "                   '{'id': '0079932b106eb4c9', 'url': 'https://api.twitter.com/1.1/geo/id/0079932b106eb4c9.json', 'place_type': 'admin', 'name': 'Ho Chi Minh', 'full_name': 'Ho Chi Minh, Vietnam', 'country_code': 'VN', 'country': 'Vietnam', 'bounding_box': {'type': 'Polygon', 'coordinates': [[[106.356398, 10.365786], [106.356398, 11.160291], [107.012798, 11.160291], [107.012798, 10.365786]]]}, 'attributes': {}}',\n",
       "                   ...\n",
       "                   '{'id': 'e385d4d639c6a423', 'url': 'https://api.twitter.com/1.1/geo/id/e385d4d639c6a423.json', 'place_type': 'city', 'name': 'Stuttgart', 'full_name': 'Stuttgart, Germany', 'country_code': 'DE', 'country': 'Germany', 'bounding_box': {'type': 'Polygon', 'coordinates': [[[9.038755, 48.692258], [9.038755, 48.866345], [9.31594, 48.866345], [9.31594, 48.692258]]]}, 'attributes': {}}',\n",
       "                   '{'id': 'e4a0d228eb6be76b', 'url': 'https://api.twitter.com/1.1/geo/id/e4a0d228eb6be76b.json', 'place_type': 'city', 'name': 'Philadelphia', 'full_name': 'Philadelphia, PA', 'country_code': 'US', 'country': 'United States', 'bounding_box': {'type': 'Polygon', 'coordinates': [[[-75.280284, 39.871811], [-75.280284, 40.13792], [-74.955712, 40.13792], [-74.955712, 39.871811]]]}, 'attributes': {}}',\n",
       "                   '{'id': 'e564d30dc173d2a8', 'url': 'https://api.twitter.com/1.1/geo/id/e564d30dc173d2a8.json', 'place_type': 'city', 'name': 'Johannesburg', 'full_name': 'Johannesburg, South Africa', 'country_code': 'ZA', 'country': 'South Africa', 'bounding_box': {'type': 'Polygon', 'coordinates': [[[27.751856, -26.512649], [27.751856, -26.039628], [28.18434, -26.039628], [28.18434, -26.512649]]]}, 'attributes': {}}',\n",
       "                   '{'id': 'e6610919d60bcae1', 'url': 'https://api.twitter.com/1.1/geo/id/e6610919d60bcae1.json', 'place_type': 'city', 'name': 'Berkeley', 'full_name': 'Berkeley, MO', 'country_code': 'US', 'country': 'United States', 'bounding_box': {'type': 'Polygon', 'coordinates': [[[-90.386457, 38.719559], [-90.386457, 38.774154], [-90.309531, 38.774154], [-90.309531, 38.719559]]]}, 'attributes': {}}',\n",
       "                   '{'id': 'ea0a61fa0c646676', 'url': 'https://api.twitter.com/1.1/geo/id/ea0a61fa0c646676.json', 'place_type': 'city', 'name': 'Rotterdam', 'full_name': 'Rotterdam, The Netherlands', 'country_code': 'NL', 'country': 'The Netherlands', 'bounding_box': {'type': 'Polygon', 'coordinates': [[[3.941836, 51.842113], [3.941836, 52.006802], [4.601379, 52.006802], [4.601379, 51.842113]]]}, 'attributes': {}}',\n",
       "                   '{'id': 'ecc2e1285c7d074f', 'url': 'https://api.twitter.com/1.1/geo/id/ecc2e1285c7d074f.json', 'place_type': 'city', 'name': 'Vineland', 'full_name': 'Vineland, NJ', 'country_code': 'US', 'country': 'United States', 'bounding_box': {'type': 'Polygon', 'coordinates': [[[-75.076284, 39.401507], [-75.076284, 39.568715], [-74.945245, 39.568715], [-74.945245, 39.401507]]]}, 'attributes': {}}',\n",
       "                   '{'id': 'efc250826c29bfea', 'url': 'https://api.twitter.com/1.1/geo/id/efc250826c29bfea.json', 'place_type': 'city', 'name': 'Mauldin', 'full_name': 'Mauldin, SC', 'country_code': 'US', 'country': 'United States', 'bounding_box': {'type': 'Polygon', 'coordinates': [[[-82.333778, 34.741098], [-82.333778, 34.826378], [-82.255239, 34.826378], [-82.255239, 34.741098]]]}, 'attributes': {}}',\n",
       "                   '{'id': 'fa07565662daf560', 'url': 'https://api.twitter.com/1.1/geo/id/fa07565662daf560.json', 'place_type': 'country', 'name': 'Aruba', 'full_name': 'Aruba', 'country_code': 'AW', 'country': 'Aruba', 'bounding_box': {'type': 'Polygon', 'coordinates': [[[-70.06396, 12.41112], [-70.06396, 12.62324], [-69.86577, 12.62324], [-69.86577, 12.41112]]]}, 'attributes': {}}',\n",
       "                   '{'id': 'fdcd591ad1a5ebdf', 'url': 'https://api.twitter.com/1.1/geo/id/fdcd591ad1a5ebdf.json', 'place_type': 'city', 'name': 'Essen', 'full_name': 'Essen, België', 'country_code': 'BE', 'country': 'België', 'bounding_box': {'type': 'Polygon', 'coordinates': [[[4.3796669999999995, 51.415275], [4.3796669999999995, 51.482376], [4.547779, 51.482376], [4.547779, 51.415275]]]}, 'attributes': {}}',\n",
       "                   '{'id': 'feeefb223592baed', 'url': 'https://api.twitter.com/1.1/geo/id/feeefb223592baed.json', 'place_type': 'city', 'name': 'Oudergem', 'full_name': 'Oudergem, België', 'country_code': 'BE', 'country': 'België', 'bounding_box': {'type': 'Polygon', 'coordinates': [[[4.39463, 50.789795], [4.39463, 50.827108], [4.482037, 50.827108], [4.482037, 50.789795]]]}, 'attributes': {}}'],\n",
       "                  ordered=False),\n",
       " 'possibly_sensitive': CategoricalDtype(categories=[0.0, 1.0], ordered=False),\n",
       " 'quote_count': CategoricalDtype(categories=[0.0], ordered=False),\n",
       " 'quoted_status': dtype('O'),\n",
       " 'quoted_status_id': dtype('float32'),\n",
       " 'quoted_status_id_str': dtype('float32'),\n",
       " 'quoted_status_permalink': CategoricalDtype(categories=['nan',\n",
       "                   '{'url': 'https://t.co/00TwuTxXes', 'expanded': 'https://twitter.com/RikMatthews/status/1131260295425478657', 'display': 'twitter.com/RikMatthews/st…'}',\n",
       "                   '{'url': 'https://t.co/00obDd9NjD', 'expanded': 'https://twitter.com/hbhstansted/status/1131104914283872257', 'display': 'twitter.com/hbhstansted/st…'}',\n",
       "                   '{'url': 'https://t.co/051RR47Qfe', 'expanded': 'https://twitter.com/royalfocus1/status/1131508856566308866', 'display': 'twitter.com/royalfocus1/st…'}',\n",
       "                   '{'url': 'https://t.co/06tPqKXtwh', 'expanded': 'https://twitter.com/Daverik80/status/1131172497079066624', 'display': 'twitter.com/Daverik80/stat…'}',\n",
       "                   '{'url': 'https://t.co/0A00V3tLeZ', 'expanded': 'https://twitter.com/curlingzone/status/1131050444384555009', 'display': 'twitter.com/curlingzone/st…'}',\n",
       "                   '{'url': 'https://t.co/0AaOXz9mb4', 'expanded': 'https://twitter.com/stephiedash/status/1131338547925962752', 'display': 'twitter.com/stephiedash/st…'}',\n",
       "                   '{'url': 'https://t.co/0Czbmj0JqJ', 'expanded': 'https://twitter.com/RunVee2/status/1130398491619090433', 'display': 'twitter.com/RunVee2/status…'}',\n",
       "                   '{'url': 'https://t.co/0OLXJejB6q', 'expanded': 'https://twitter.com/mractimel/status/1131306268663177216', 'display': 'twitter.com/mractimel/stat…'}',\n",
       "                   '{'url': 'https://t.co/0YxzZQSi7j', 'expanded': 'https://twitter.com/PRINCE0879/status/1130883151780143105', 'display': 'twitter.com/PRINCE0879/sta…'}',\n",
       "                   ...\n",
       "                   '{'url': 'https://t.co/zZgnYaMq6w', 'expanded': 'https://twitter.com/branimirar/status/1131269799902961665', 'display': 'twitter.com/branimirar/sta…'}',\n",
       "                   '{'url': 'https://t.co/zbVyqLWDA4', 'expanded': 'https://twitter.com/cnni/status/1131238882853437441', 'display': 'twitter.com/cnni/status/11…'}',\n",
       "                   '{'url': 'https://t.co/zd1KY5W3bs', 'expanded': 'https://twitter.com/avgggva/status/1131068685043548160', 'display': 'twitter.com/avgggva/status…'}',\n",
       "                   '{'url': 'https://t.co/zej4d4k08p', 'expanded': 'https://twitter.com/Reuters/status/1131195508163272705', 'display': 'twitter.com/Reuters/status…'}',\n",
       "                   '{'url': 'https://t.co/zgS98xSV6j', 'expanded': 'https://twitter.com/hivivekhere/status/1129345440783245312', 'display': 'twitter.com/hivivekhere/st…'}',\n",
       "                   '{'url': 'https://t.co/zkEKZXMB2Q', 'expanded': 'https://twitter.com/newscomauHQ/status/1131469816802500608', 'display': 'twitter.com/newscomauHQ/st…'}',\n",
       "                   '{'url': 'https://t.co/zkfeiQdU7v', 'expanded': 'https://twitter.com/Ryanair/status/1131212837483950081', 'display': 'twitter.com/Ryanair/status…'}',\n",
       "                   '{'url': 'https://t.co/zt2QUguSUv', 'expanded': 'https://twitter.com/americanair/status/1130940092737052672', 'display': 'twitter.com/americanair/st…'}',\n",
       "                   '{'url': 'https://t.co/zxjGqsVuwf', 'expanded': 'https://twitter.com/infobae/status/1131373681416912896', 'display': 'twitter.com/infobae/status…'}',\n",
       "                   '{'url': 'https://t.co/zzH8XejKIk', 'expanded': 'https://twitter.com/joelindsey/status/1131226463200399360', 'display': 'twitter.com/joelindsey/sta…'}'],\n",
       "                  ordered=False),\n",
       " 'reply_count': CategoricalDtype(categories=[0.0], ordered=False),\n",
       " 'retweet_count': CategoricalDtype(categories=[0.0], ordered=False),\n",
       " 'retweeted': CategoricalDtype(categories=[0.0], ordered=False),\n",
       " 'retweeted_status': dtype('O'),\n",
       " 'source': CategoricalDtype(categories=['<a href=\"http://101fyi.com\" rel=\"nofollow\">airportlook</a>',\n",
       "                   '<a href=\"http://192.168.0.109\" rel=\"nofollow\">RPI Temp Sensor</a>',\n",
       "                   '<a href=\"http://52.47.43.31\" rel=\"nofollow\">En2020</a>',\n",
       "                   '<a href=\"http://Google.com\" rel=\"nofollow\">AndreTravel</a>',\n",
       "                   '<a href=\"http://SuperNoder.com/TrendTweeter.php\" rel=\"nofollow\">TrendTweeter</a>',\n",
       "                   '<a href=\"http://TopAviationNews.com/\" rel=\"nofollow\">Top Aviation News</a>',\n",
       "                   '<a href=\"http://access-wallstreet.com\" rel=\"nofollow\">awswebsite</a>',\n",
       "                   '<a href=\"http://alldrifters.com/\" rel=\"nofollow\">Alldrifters autopost</a>',\n",
       "                   '<a href=\"http://anixoustomake.ga\" rel=\"nofollow\">Anxious Bot</a>',\n",
       "                   '<a href=\"http://anunciate.com.co\" rel=\"nofollow\">anunciateco</a>',\n",
       "                   ...\n",
       "                   '<a href=\"https://www.sprinklr.com\" rel=\"nofollow\">Sprinklr</a>',\n",
       "                   '<a href=\"https://www.stoundi.com\" rel=\"nofollow\">Global Analytica</a>',\n",
       "                   '<a href=\"https://www.tweet-eye.com/\" rel=\"nofollow\">Tweet Eye Scheduler</a>',\n",
       "                   '<a href=\"https://www.tweetypy.co.uk\" rel=\"nofollow\">TestBot2405</a>',\n",
       "                   '<a href=\"https://www.virtualradarserver.co.uk\" rel=\"nofollow\">VRS adsbtwitterbot</a>',\n",
       "                   '<a href=\"https://www.voxmarkets.co.uk/rns\" rel=\"nofollow\">RNS Feed</a>',\n",
       "                   '<a href=\"https://www.washingtonpost.com/news/reliable-source/wp/2017/08/15/this-is-what-the-world-looks-like-on-trumps-twitter-feed/\" rel=\"nofollow\">Trumps_Feed Engine</a>',\n",
       "                   '<a href=\"https://www.woavi.com\" rel=\"nofollow\">Woavi App</a>',\n",
       "                   '<a href=\"https://www.zazoom.info/\" rel=\"nofollow\">Zazoom Info</a>',\n",
       "                   '<a href=\"https://zapier.com/\" rel=\"nofollow\">Zapier.com</a>'],\n",
       "                  ordered=False),\n",
       " 'text': dtype('O'),\n",
       " 'timestamp_ms': dtype('<M8[ns]'),\n",
       " 'truncated': CategoricalDtype(categories=[0.0, 1.0], ordered=False),\n",
       " 'user': dtype('O')}"
      ]
     },
     "execution_count": 15,
     "metadata": {},
     "output_type": "execute_result"
    }
   ],
   "source": [
    "df.dtypes.to_dict()"
   ]
  },
  {
   "cell_type": "code",
   "execution_count": null,
   "metadata": {
    "colab": {},
    "colab_type": "code",
    "id": "wGsoAOpA1Q0_"
   },
   "outputs": [],
   "source": []
  }
 ],
 "metadata": {
  "colab": {
   "authorship_tag": "ABX9TyNwEz98iqA40V3VSwFiiF7I",
   "collapsed_sections": [],
   "name": "lower_memory_usage.ipynb",
   "provenance": []
  },
  "kernelspec": {
   "display_name": "Python 3",
   "language": "python",
   "name": "python3"
  },
  "language_info": {
   "codemirror_mode": {
    "name": "ipython",
    "version": 3
   },
   "file_extension": ".py",
   "mimetype": "text/x-python",
   "name": "python",
   "nbconvert_exporter": "python",
   "pygments_lexer": "ipython3",
   "version": "3.7.1"
  }
 },
 "nbformat": 4,
 "nbformat_minor": 1
}
