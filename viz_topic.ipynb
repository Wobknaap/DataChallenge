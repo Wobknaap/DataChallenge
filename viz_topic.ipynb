{
 "cells": [
  {
   "cell_type": "code",
   "execution_count": 90,
   "metadata": {},
   "outputs": [],
   "source": [
    "import numpy as np\n",
    "import pandas as pd\n",
    "import random\n",
    "# next command ensures that plots appear inside the notebook\n",
    "%matplotlib inline\n",
    "import matplotlib as mpl\n",
    "import matplotlib.pyplot as plt\n",
    "import seaborn as sns  # also improves the look of plots\n",
    "sns.set()  # set Seaborn defaults\n",
    "plt.rcParams['figure.figsize'] = 14, 7  # default hor./vert. size of plots, in inches\n",
    "plt.rcParams['lines.markeredgewidth'] = 1  # to fix issue with seaborn box plots; needed after import seaborn\n",
    "pd.options.display.float_format = '{:,.0f}'.format \n"
   ]
  },
  {
   "cell_type": "code",
   "execution_count": 51,
   "metadata": {},
   "outputs": [
    {
     "name": "stdout",
     "output_type": "stream",
     "text": [
      "Python version is 3.7.3 (default, Apr 24 2019, 15:29:51) [MSC v.1915 64 bit (AMD64)]\n",
      "Pandas version is 1.0.3\n",
      "C:/Users/20193623/Desktop/DBL Data Challange/Vizualisations/topicairlinesentiment.csv\n",
      "Unnamed: 0           int64\n",
      "id_str               int64\n",
      "KLM                  int64\n",
      "British Airways      int64\n",
      "American Air         int64\n",
      "Lufthansa            int64\n",
      "RyanAir              int64\n",
      "sentiment            int64\n",
      "Topic              float64\n",
      "dtype: object\n"
     ]
    },
    {
     "name": "stdin",
     "output_type": "stream",
     "text": [
      "Please specify your DataFrame name:  df_top_sent_air\n"
     ]
    },
    {
     "name": "stdout",
     "output_type": "stream",
     "text": [
      "_id not found\n",
      "Dtypes after transformation:\n",
      " Unnamed: 0           int64\n",
      "id_str               Int64\n",
      "KLM                  int64\n",
      "British Airways      int64\n",
      "American Air         int64\n",
      "Lufthansa            int64\n",
      "RyanAir              int64\n",
      "sentiment            Int64\n",
      "Topic              float64\n",
      "dtype: object\n"
     ]
    }
   ],
   "source": [
    "%run import_file.ipynb"
   ]
  },
  {
   "cell_type": "code",
   "execution_count": 52,
   "metadata": {},
   "outputs": [],
   "source": [
    "def sentiment_topic_airline(airline : str , topic : str, df_plot ) -> \".jpg file\" :\n",
    "    \"\"\"Saves a jpg of a histogram of the sentiment per airline about a topic.\n",
    "    \"\"\"\n",
    "    \n",
    "    topic_label =  {'baggage': '1',           # dictionary for decoding of variables in df\n",
    "      'delay': '2',\n",
    "      'pollute': '3',\n",
    "      'cancel': '4',\n",
    "      'service': '5',\n",
    "      'ticket': '6',\n",
    "      'corona': '7'}\n",
    "\n",
    "    color_airline = { 'KLM' : '#00a1e4' ,    # colorcode for airline color used in plots \n",
    "          'British Airways' : '#A9A9A9' , \n",
    "          'American Air' : '#e92026' , \n",
    "          'Lufthansa': '#00235f' , \n",
    "          'RyanAir' : '#f1c933'}\n",
    "    \n",
    "    df = df_plot[df_plot[airline]==1]               # creates a data frame for the desired airline\n",
    "\n",
    "\n",
    "    df_topic = df[df['Topic'] == int(topic_label[topic])]   #  creates a data frame for the desired topic and airline \n",
    "\n",
    "    df_topic['sentiment'].plot.hist(grid=True, bins=7, rwidth=0.9,        # plots the historgram with labels and title \n",
    "                   color=color_airline[airline])  # selects the color that applies to the airline from the dictionary \n",
    "    plt.title('Sentiment of tweets towards {} about {}'.format(airline, topic))\n",
    "    plt.xlabel('Sentiment')\n",
    "    plt.ylabel('Counts')\n",
    "    plt.xticks([-1,0,1])\n",
    "    plt.grid(axis='y', alpha=0.75)\n",
    "    plt.savefig('Delay Sentiment/sentiment_{}_{}.jpg'.format(airline , topic))  # saves the plot to a folder in the same dir as the notebook \n"
   ]
  },
  {
   "cell_type": "code",
   "execution_count": 54,
   "metadata": {},
   "outputs": [
    {
     "data": {
      "image/png": "[encoded data removed]",
      "text/plain": [
       "<Figure size 432x288 with 1 Axes>"
      ]
     },
     "metadata": {
      "needs_background": "light"
     },
     "output_type": "display_data"
    }
   ],
   "source": [
    "sentiment_topic_airline('KLM' , 'service' , df_top_sent_air)"
   ]
  },
  {
   "cell_type": "code",
   "execution_count": 81,
   "metadata": {},
   "outputs": [],
   "source": [
    "def topic_airline_mean(airline: str ,topic: str,  df_in) :\n",
    "    \"\"\"get the mean value of sentiment from an airline per topic.\n",
    "    \"\"\"\n",
    "    topic_label =  {'baggage': '1',           # dictionary for decoding of variables in df\n",
    "      'delay': '2',\n",
    "      'pollute': '3',\n",
    "      'cancel': '4',\n",
    "      'service': '5',\n",
    "      'ticket': '6',\n",
    "      'corona': '7'}\n",
    "    \n",
    "    df = df_in[df_in[airline]==1]               # creates a data frame for the desired airline\n",
    "\n",
    "\n",
    "    df_topic = df[df['Topic'] == int(topic_label[topic])]   #  creates a data frame for the desired topic and airline \n",
    "    return df_topic['sentiment'].mean()\n"
   ]
  },
  {
   "cell_type": "code",
   "execution_count": 103,
   "metadata": {},
   "outputs": [
    {
     "data": {
      "image/png": "[encoded data removed]",
      "text/plain": [
       "<Figure size 1008x504 with 1 Axes>"
      ]
     },
     "metadata": {},
     "output_type": "display_data"
    }
   ],
   "source": [
    "\n",
    "# set width of bar\n",
    "barWidth = 0.25\n",
    " \n",
    "color_airline = { 'KLM' : '#00a1e4' ,    # colorcode for airline color used in plots \n",
    "          'British Airways' : '#A9A9A9' , \n",
    "          'American Air' : '#e92026' , \n",
    "          'Lufthansa': '#00235f' , \n",
    "          'RyanAir' : '#f1c933'}\n",
    "\n",
    "\n",
    "\n",
    "a = topic_airline_mean('KLM' , 'delay' , df_top_sent_air)         # ugly, I know but it works \n",
    "b = topic_airline_mean('KLM' , 'cancel' , df_top_sent_air) \n",
    "c = topic_airline_mean('KLM' , 'service' , df_top_sent_air) \n",
    "d = topic_airline_mean('KLM' , 'baggage' , df_top_sent_air) # gets the means of the sentiment scores using the means calculated by the function above \n",
    "e = topic_airline_mean('KLM' , 'pollute' , df_top_sent_air) \n",
    "\n",
    "f = topic_airline_mean('American Air' , 'delay' , df_top_sent_air) \n",
    "g = topic_airline_mean('American Air' , 'cancel' , df_top_sent_air) \n",
    "h = topic_airline_mean('American Air' , 'service' , df_top_sent_air) \n",
    "i = topic_airline_mean('American Air' , 'baggage' , df_top_sent_air) \n",
    "j = topic_airline_mean('American Air' , 'pollute' , df_top_sent_air)\n",
    "\n",
    "k = topic_airline_mean('Lufthansa' , 'delay' , df_top_sent_air) \n",
    "l = topic_airline_mean('Lufthansa' , 'cancel' , df_top_sent_air)\n",
    "m = topic_airline_mean('Lufthansa' , 'service' , df_top_sent_air)\n",
    "n = topic_airline_mean('Lufthansa' , 'baggage' , df_top_sent_air)\n",
    "o = topic_airline_mean('Lufthansa' , 'pollute' , df_top_sent_air) \n",
    " \n",
    "# set height of bar\n",
    "bars1 = [a,b,c,d,e]    # formatting the sentiments average for plotting \n",
    "bars2 = [f,g,h,i,j]\n",
    "bars3 = [k,l,m,n,o]\n",
    " \n",
    "# Set position of bar on X axis\n",
    "klm = np.arange(len(bars1))\n",
    "aa = [x + barWidth for x in r1]\n",
    "luf = [x + barWidth for x in r2]\n",
    " \n",
    "# Make the plot\n",
    "plt.bar(klm, bars1, color='#00a1e4', width=barWidth, edgecolor='white', label='KLM')\n",
    "plt.bar(aa, bars2, color='#e92026', width=barWidth, edgecolor='white', label='American Air')\n",
    "plt.bar(luf, bars3, color='#00235f', width=barWidth, edgecolor='white', label='Lufthansa')\n",
    " \n",
    "# Add xticks on the middle of the group bars\n",
    "plt.xlabel('Topic', fontweight='bold')\n",
    "plt.xticks([r + barWidth for r in range(len(bars1))], ['Delay', 'Baggage', 'Cancel', 'Pollution', 'Service'])\n",
    "plt.ylabel('Average sentiment', fontweight='bold')\n",
    "# Create legend & Show graphic\n",
    "plt.legend()\n",
    "plt.savefig('mean_sent_per_airline_per_topic.jpg')\n",
    "plt.show()"
   ]
  }
 ],
 "metadata": {
  "kernelspec": {
   "display_name": "Python 3",
   "language": "python",
   "name": "python3"
  },
  "language_info": {
   "codemirror_mode": {
    "name": "ipython",
    "version": 3
   },
   "file_extension": ".py",
   "mimetype": "text/x-python",
   "name": "python",
   "nbconvert_exporter": "python",
   "pygments_lexer": "ipython3",
   "version": "3.7.3"
  }
 },
 "nbformat": 4,
 "nbformat_minor": 4
}
