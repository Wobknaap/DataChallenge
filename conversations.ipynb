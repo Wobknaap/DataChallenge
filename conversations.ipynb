{
 "cells": [
  {
   "cell_type": "code",
   "execution_count": 1,
   "metadata": {
    "colab": {},
    "colab_type": "code",
    "id": "qKfO7rvxvAIZ"
   },
   "outputs": [],
   "source": [
    "import pandas as pd\n",
    "import numpy as np\n",
    "import math"
   ]
  },
  {
   "cell_type": "code",
   "execution_count": 2,
   "metadata": {},
   "outputs": [],
   "source": [
    "pd.options.display.float_format = '{:.0f}'.format"
   ]
  },
  {
   "cell_type": "markdown",
   "metadata": {},
   "source": [
    "<h2>Only for google colab:</h2>"
   ]
  },
  {
   "cell_type": "code",
   "execution_count": 3,
   "metadata": {
    "colab": {
     "base_uri": "https://localhost:8080/",
     "height": 128
    },
    "colab_type": "code",
    "executionInfo": {
     "elapsed": 21709,
     "status": "ok",
     "timestamp": 1588837251774,
     "user": {
      "displayName": "Rianne vd Leeuw",
      "photoUrl": "",
      "userId": "11464058957655713375"
     },
     "user_tz": -120
    },
    "id": "JKGmFfGy2RNi",
    "outputId": "5a9a9c88-d199-4e49-9046-ebda6ce181c3"
   },
   "outputs": [],
   "source": [
    "# from google.colab import drive\n",
    "# drive.mount('/content/gdrive/')\n",
    "\n",
    "# !ls '/content/gdrive/My Drive/Data challenge/code'\n",
    "\n",
    "# # import single json file as dataframe\n",
    "# df = pd.read_json('/content/gdrive/My Drive/Data challenge/code/airlines-1558527599826.json', orient = 'records', lines = True)"
   ]
  },
  {
   "cell_type": "code",
   "execution_count": 4,
   "metadata": {},
   "outputs": [
    {
     "name": "stderr",
     "output_type": "stream",
     "text": [
      "C:\\Users\\philipp\\Anaconda3\\lib\\site-packages\\IPython\\core\\interactiveshell.py:3020: DtypeWarning: Columns (1) have mixed types.Specify dtype option on import or set low_memory=False.\n",
      "  interactivity=interactivity, compiler=compiler, result=result)\n"
     ]
    }
   ],
   "source": [
    "# df = pd.read_json('airlines-1558527599826.json', orient = 'records', lines = True)\n",
    "df = pd.read_csv('Full_basic.csv', usecols=['id_str','created_at'])"
   ]
  },
  {
   "cell_type": "code",
   "execution_count": 5,
   "metadata": {
    "scrolled": true
   },
   "outputs": [],
   "source": [
    "not_number = df[df['id_str'].isna()]\n",
    "lst = not_number.index\n",
    "df.drop(lst, inplace = True)\n",
    "df['id_str']=df['id_str'].astype('int64')\n",
    "# df['id']=df['id'].astype('int64')\n",
    "df = df.rename({'id_str': 'id'}, axis=1)"
   ]
  },
  {
   "cell_type": "code",
   "execution_count": 6,
   "metadata": {},
   "outputs": [],
   "source": [
    "df_conv = pd.read_csv('conversation_full.csv')"
   ]
  },
  {
   "cell_type": "code",
   "execution_count": 7,
   "metadata": {},
   "outputs": [],
   "source": [
    "df['in_reply_to_status_id']=df_conv['in_reply_to_status_id']"
   ]
  },
  {
   "cell_type": "code",
   "execution_count": 8,
   "metadata": {},
   "outputs": [],
   "source": [
    "df=df.sort_values('created_at')"
   ]
  },
  {
   "cell_type": "code",
   "execution_count": 9,
   "metadata": {},
   "outputs": [],
   "source": [
    "# def myindex(lst, target):\n",
    "#     for index, item in enumerate(lst):\n",
    "#         if item == target:\n",
    "#             return [index]\n",
    "#         if isinstance(item, str): # or 'basestring' in 2.x\n",
    "#             return []\n",
    "#         try:\n",
    "#             path = myindex(item, target)\n",
    "#         except TypeError:\n",
    "#             pass\n",
    "#         else:\n",
    "#             if path:\n",
    "#                 return [index] + path\n",
    "#     return []"
   ]
  },
  {
   "cell_type": "code",
   "execution_count": 10,
   "metadata": {
    "colab": {
     "base_uri": "https://localhost:8080/",
     "height": 168
    },
    "colab_type": "code",
    "executionInfo": {
     "elapsed": 507,
     "status": "ok",
     "timestamp": 1588779803235,
     "user": {
      "displayName": "phhil",
      "photoUrl": "",
      "userId": "08514152688446212477"
     },
     "user_tz": -120
    },
    "id": "X3jc_iKvvTN2",
    "outputId": "553d2c1b-36af-410e-f436-472d445db649"
   },
   "outputs": [],
   "source": [
    "# contain=[]\n",
    "# index_length=0\n",
    "# for row in df.itertuples():\n",
    "    \n",
    "#     if math.isnan(getattr(row,'id')):\n",
    "#         print('id is nan')\n",
    "#         continue\n",
    "# #     print(int(getattr(row,'id')))\n",
    "# #     print(type(getattr(row,'in_reply_to_status_id')))\n",
    "#     if math.isnan(getattr(row,'in_reply_to_status_id')):\n",
    "#         conv_list.append([int(getattr(row,'id'))])\n",
    "#     else:\n",
    "#         index=myindex(conv_list,int(getattr(row,'in_reply_to_status_id')))\n",
    "#         if len(index)>index_length:\n",
    "#             index_length=len(index)\n",
    "#         if len(index)==0:\n",
    "# #             print('could not match in_reply_to_status_id',int(getattr(row,'in_reply_to_status_id')))\n",
    "#             continue\n",
    "#         if len(index)==1:\n",
    "#             if type(conv_list[index[0]]) is int:\n",
    "#                 conv_list[index[0]]=[conv_list[index[0]]]\n",
    "#             conv_list[index[0]].append(int(getattr(row,'id')))\n",
    "#             continue\n",
    "#         if len(index)==2:\n",
    "#             if type(conv_list[index[0]][index[1]]) is int:\n",
    "#                 conv_list[index[0]][index[1]]=[conv_list[index[0]][index[1]]]\n",
    "#             conv_list[index[0]][index[1]].append(int(getattr(row,'id')))\n",
    "#             continue\n",
    "#         if len(index)==3:\n",
    "#             if type(conv_list[index[0]][index[1]][index[2]]) is int:\n",
    "#                 conv_list[index[0]][index[1]][index[2]]=[conv_list[index[0]][index[1]][index[2]]]\n",
    "#             conv_list[index[0]][index[1]][index[2]].append(int(getattr(row,'id')))\n",
    "#             continue\n",
    "#         if len(index)==4:\n",
    "#             if type(conv_list[index[0]][index[1]][index[2]][index[3]]) is int:\n",
    "#                 conv_list[index[0]][index[1]][index[2]][index[3]]=[conv_list[index[0]][index[1]][index[2]][index[3]]]\n",
    "#             conv_list[index[0]][index[1]][index[2]][index[3]].append(int(getattr(row,'id')))\n",
    "#             continue\n",
    "#         if len(index)==5:\n",
    "#             if type(conv_list[index[0]][index[1]][index[2]][index[3]][index[4]]) is int:\n",
    "#                 conv_list[index[0]][index[1]][index[2]][index[3]][index[4]]=[conv_list[index[0]][index[1]][index[2]][index[3]][index[4]]]\n",
    "#             conv_list[index[0]][index[1]][index[2]][index[3]][index[4]].append(int(getattr(row,'id')))\n",
    "#             continue\n",
    "#         if len(index)==6:\n",
    "#             if type(conv_list[index[0]][index[1]][index[2]][index[3]][index[4]][index[5]]) is int:\n",
    "#                 conv_list[index[0]][index[1]][index[2]][index[3]][index[4]][index[5]]=[conv_list[index[0]][index[1]][index[2]][index[3]][index[4]][index[5]]]\n",
    "#             conv_list[index[0]][index[1]][index[2]][index[3]][index[4]][index[5]].append(int(getattr(row,'id')))\n",
    "#         if len(index)==7:\n",
    "#             if type(conv_list[index[0]][index[1]][index[2]][index[3]][index[4]][index[5]][index[6]]) is int:\n",
    "#                 conv_list[index[0]][index[1]][index[2]][index[3]][index[4]][index[5]][index[6]]=[conv_list[index[0]][index[1]][index[2]][index[3]][index[4]][index[5]][index[6]]]\n",
    "#             conv_list[index[0]][index[1]][index[2]][index[3]][index[4]][index[5]][index[6]].append(int(getattr(row,'id')))"
   ]
  },
  {
   "cell_type": "code",
   "execution_count": 11,
   "metadata": {},
   "outputs": [],
   "source": [
    "df.drop_duplicates(subset =\"id\", \n",
    "                     keep = 'first', inplace = True)"
   ]
  },
  {
   "cell_type": "code",
   "execution_count": 12,
   "metadata": {
    "scrolled": true
   },
   "outputs": [],
   "source": [
    "df=df.drop(df[df['id']==df['in_reply_to_status_id']].index)"
   ]
  },
  {
   "cell_type": "code",
   "execution_count": 13,
   "metadata": {},
   "outputs": [],
   "source": [
    "df_reply=df[~df['in_reply_to_status_id'].isnull()]\n",
    "index=0\n",
    "def met2():\n",
    "    def lookup(ids):\n",
    "        ret_list=[]\n",
    "        df_np=df_reply.loc[df_reply['in_reply_to_status_id']==ids]['id'].values\n",
    "        for row in range(0,len(df_np)):\n",
    "            global index\n",
    "            used[index]=df_np[row]\n",
    "            index+=1\n",
    "            buffer=df[df['id']==df_np[row]]\n",
    "            if len(buffer)==0:\n",
    "                ret_list.append(df_np[row])\n",
    "            else:\n",
    "                lookup_ret=lookup(buffer['id'].item())\n",
    "                if lookup_ret:\n",
    "                    ret_list.extend([df_np[row],lookup_ret])\n",
    "                else:\n",
    "                    ret_list.append(df_np[row])\n",
    "        if len(ret_list)==0:\n",
    "            return\n",
    "        return ret_list\n",
    "    used=np.zeros(len(df), dtype='int64')\n",
    "    with open('conversations_list.txt', 'w') as f:\n",
    "        id_np=np.intersect1d(df[df['in_reply_to_status_id'].isnull()]['id'], df[~df['in_reply_to_status_id'].isnull()]['in_reply_to_status_id'].astype('int64'))\n",
    "        for row in range(0,len(id_np)):\n",
    "            if math.isnan(id_np[row]):continue\n",
    "            this_id=id_np[row]\n",
    "            if this_id in used: continue\n",
    "            bla=[this_id]\n",
    "            try:\n",
    "                lookup_ret=lookup(this_id)\n",
    "            except:\n",
    "                continue\n",
    "            if lookup_ret:\n",
    "                if len(lookup_ret)==1:\n",
    "                    bla.append(lookup_ret[0])\n",
    "                else:\n",
    "                    bla.extend(lookup_ret)\n",
    "                f.write(\"%s\\n\" % bla)"
   ]
  },
  {
   "cell_type": "code",
   "execution_count": 18,
   "metadata": {
    "scrolled": true
   },
   "outputs": [
    {
     "name": "stdout",
     "output_type": "stream",
     "text": [
      "Wall time: 5h 4min 20s\n"
     ]
    }
   ],
   "source": [
    "%%time\n",
    "met2()"
   ]
  },
  {
   "cell_type": "code",
   "execution_count": 24,
   "metadata": {},
   "outputs": [
    {
     "data": {
      "text/plain": [
       "array([1131173010508062720, 1131173313982734336, 1131173345918148608, ...,\n",
       "       1177008913675247616, 1177008933992402944, 1177009156261392384],\n",
       "      dtype=int64)"
      ]
     },
     "execution_count": 24,
     "metadata": {},
     "output_type": "execute_result"
    }
   ],
   "source": [
    "np.concatenate([np.intersect1d(df[df['in_reply_to_status_id'].isnull()]['id'], df[~df['in_reply_to_status_id'].isnull()]['in_reply_to_status_id'].astype('int64')),df[~df['in_reply_to_status_id'].isnull()]['id']])"
   ]
  },
  {
   "cell_type": "code",
   "execution_count": 25,
   "metadata": {},
   "outputs": [
    {
     "data": {
      "text/html": [
       "<div>\n",
       "<style scoped>\n",
       "    .dataframe tbody tr th:only-of-type {\n",
       "        vertical-align: middle;\n",
       "    }\n",
       "\n",
       "    .dataframe tbody tr th {\n",
       "        vertical-align: top;\n",
       "    }\n",
       "\n",
       "    .dataframe thead th {\n",
       "        text-align: right;\n",
       "    }\n",
       "</style>\n",
       "<table border=\"1\" class=\"dataframe\">\n",
       "  <thead>\n",
       "    <tr style=\"text-align: right;\">\n",
       "      <th></th>\n",
       "      <th>0</th>\n",
       "    </tr>\n",
       "  </thead>\n",
       "  <tbody>\n",
       "    <tr>\n",
       "      <th>0</th>\n",
       "      <td>1131173010508062720</td>\n",
       "    </tr>\n",
       "    <tr>\n",
       "      <th>1</th>\n",
       "      <td>1131173313982734336</td>\n",
       "    </tr>\n",
       "    <tr>\n",
       "      <th>2</th>\n",
       "      <td>1131173345918148608</td>\n",
       "    </tr>\n",
       "    <tr>\n",
       "      <th>3</th>\n",
       "      <td>1131174768114323456</td>\n",
       "    </tr>\n",
       "    <tr>\n",
       "      <th>4</th>\n",
       "      <td>1131174885865205760</td>\n",
       "    </tr>\n",
       "    <tr>\n",
       "      <th>...</th>\n",
       "      <td>...</td>\n",
       "    </tr>\n",
       "    <tr>\n",
       "      <th>2113085</th>\n",
       "      <td>1177008900912160768</td>\n",
       "    </tr>\n",
       "    <tr>\n",
       "      <th>2113086</th>\n",
       "      <td>1177008905513295872</td>\n",
       "    </tr>\n",
       "    <tr>\n",
       "      <th>2113087</th>\n",
       "      <td>1177008913675247616</td>\n",
       "    </tr>\n",
       "    <tr>\n",
       "      <th>2113088</th>\n",
       "      <td>1177008933992402944</td>\n",
       "    </tr>\n",
       "    <tr>\n",
       "      <th>2113089</th>\n",
       "      <td>1177009156261392384</td>\n",
       "    </tr>\n",
       "  </tbody>\n",
       "</table>\n",
       "<p>2113090 rows × 1 columns</p>\n",
       "</div>"
      ],
      "text/plain": [
       "                           0\n",
       "0        1131173010508062720\n",
       "1        1131173313982734336\n",
       "2        1131173345918148608\n",
       "3        1131174768114323456\n",
       "4        1131174885865205760\n",
       "...                      ...\n",
       "2113085  1177008900912160768\n",
       "2113086  1177008905513295872\n",
       "2113087  1177008913675247616\n",
       "2113088  1177008933992402944\n",
       "2113089  1177009156261392384\n",
       "\n",
       "[2113090 rows x 1 columns]"
      ]
     },
     "execution_count": 25,
     "metadata": {},
     "output_type": "execute_result"
    }
   ],
   "source": [
    "pd.DataFrame(np.concatenate([np.intersect1d(df[df['in_reply_to_status_id'].isnull()]['id'], df[~df['in_reply_to_status_id'].isnull()]['in_reply_to_status_id'].astype('int64')),df[~df['in_reply_to_status_id'].isnull()]['id']]))"
   ]
  },
  {
   "cell_type": "code",
   "execution_count": null,
   "metadata": {},
   "outputs": [],
   "source": []
  }
 ],
 "metadata": {
  "colab": {
   "collapsed_sections": [],
   "name": "conversations.ipynb",
   "provenance": []
  },
  "kernelspec": {
   "display_name": "Python 3",
   "language": "python",
   "name": "python3"
  },
  "language_info": {
   "codemirror_mode": {
    "name": "ipython",
    "version": 3
   },
   "file_extension": ".py",
   "mimetype": "text/x-python",
   "name": "python",
   "nbconvert_exporter": "python",
   "pygments_lexer": "ipython3",
   "version": "3.7.1"
  }
 },
 "nbformat": 4,
 "nbformat_minor": 1
}
