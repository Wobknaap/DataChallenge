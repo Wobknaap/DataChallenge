{
 "cells": [
  {
   "cell_type": "code",
   "execution_count": 1,
   "metadata": {},
   "outputs": [],
   "source": [
    "import pandas as pd\n",
    "import json\n",
    "from ast import literal_eval"
   ]
  },
  {
   "cell_type": "code",
   "execution_count": 2,
   "metadata": {},
   "outputs": [],
   "source": [
    "def cleanup(df):\n",
    "    \"\"\"Removes unnecessary columns and converts to the correct dtype\"\"\"\n",
    "    try:\n",
    "        df.drop('_id', axis = 1, inplace = True)\n",
    "    except:\n",
    "        print('_id not found')\n",
    "    \n",
    "    #Remove rows where id has a missing value\n",
    "    not_number = df[df['id_str'].isna()]\n",
    "    lst = not_number.index.array\n",
    "    df.drop(lst, inplace = True)\n",
    "    col_names = list(df.columns)\n",
    "    \n",
    "    string = ['text', 'lang', 'in_reply_to_status_id_str', ''] # Not all columnsnames have to be present in the used data set\n",
    "    integer = ['id_str','user.id_str', 'in_reply_to_status_id']\n",
    "    \n",
    "    \n",
    "    for col in col_names:\n",
    "        if col == 'created_at':\n",
    "            df[col] = df[col].astype(str)\n",
    "            print('created_at converted to string, use timestamp for datetime dtype')\n",
    "        if col == 'timestamp_ms':\n",
    "            df[col] = pd.to_datetime(df[col], unit = 'ms')\n",
    "            print('timestamp converted to datetime dtype')\n",
    "        if col == 'id':\n",
    "            print('Skip id, use id_str instead')\n",
    "        if col in integer:\n",
    "            df[col] = df[col].astype(pd.Int64Dtype())\n",
    "        if col in string:\n",
    "            df[col] = df[col].astype(str)\n",
    "\n",
    "    return df\n",
    "def literal_return(val):\n",
    "    try:\n",
    "        return literal_eval(val)\n",
    "    except (ValueError, SyntaxError) as e:\n",
    "        return val\n",
    "    \n",
    "def get_mention(lst):\n",
    "    mentions = []\n",
    "    mistakes = []\n",
    "    if not lst:\n",
    "        return mentions\n",
    "    if type(lst) != list:\n",
    "        mistakes.append(lst)\n",
    "        return mentions\n",
    "    for i in lst:\n",
    "        mentions.append(i['id'])\n",
    "    return mentions\n",
    "def strip(string):\n",
    "    string = string.replace('[', '')\n",
    "    string = string.replace(']', '')\n",
    "    return string.split(',')\n",
    "    \n",
    "    "
   ]
  },
  {
   "cell_type": "code",
   "execution_count": 3,
   "metadata": {},
   "outputs": [
    {
     "name": "stderr",
     "output_type": "stream",
     "text": [
      "c:\\users\\20193815\\appdata\\local\\programs\\python\\python37\\lib\\site-packages\\IPython\\core\\interactiveshell.py:3063: DtypeWarning: Columns (2,3,5,7) have mixed types.Specify dtype option on import or set low_memory=False.\n",
      "  interactivity=interactivity, compiler=compiler, result=result)\n"
     ]
    }
   ],
   "source": [
    "df = pd.read_csv('../../Data Challenge/full_basic_with_sentiment.csv')"
   ]
  },
  {
   "cell_type": "code",
   "execution_count": 4,
   "metadata": {},
   "outputs": [],
   "source": [
    "df['sentiment'] = df['sentiment'].astype(pd.Int64Dtype())"
   ]
  },
  {
   "cell_type": "code",
   "execution_count": 5,
   "metadata": {},
   "outputs": [],
   "source": [
    "df['id_str'] = df['id_str'].astype(pd.Int64Dtype())"
   ]
  },
  {
   "cell_type": "code",
   "execution_count": 6,
   "metadata": {},
   "outputs": [],
   "source": [
    "df_sent = df[['id_str','sentiment']].iloc[:].copy()"
   ]
  },
  {
   "cell_type": "code",
   "execution_count": 7,
   "metadata": {},
   "outputs": [],
   "source": [
    "dict_sent = dict(zip(df_sent.id_str, df_sent.sentiment))"
   ]
  },
  {
   "cell_type": "code",
   "execution_count": 8,
   "metadata": {},
   "outputs": [
    {
     "data": {
      "text/plain": [
       "0          1131172858951024640\n",
       "1          1131172864147808384\n",
       "2          1131172867985485824\n",
       "3          1131172909463027584\n",
       "4          1131172975682605056\n",
       "                  ...         \n",
       "7527681    1244696703690772480\n",
       "7527682    1244696708983984128\n",
       "7527683    1244696710447800320\n",
       "7527684    1244696713350217728\n",
       "7527685    1244696713765564416\n",
       "Name: id_str, Length: 7527686, dtype: Int64"
      ]
     },
     "execution_count": 8,
     "metadata": {},
     "output_type": "execute_result"
    }
   ],
   "source": [
    "df_sent.id_str"
   ]
  },
  {
   "cell_type": "code",
   "execution_count": 9,
   "metadata": {},
   "outputs": [],
   "source": [
    "df_mentions = pd.read_csv('../../Data Challenge/mentions.csv')"
   ]
  },
  {
   "cell_type": "code",
   "execution_count": 13,
   "metadata": {},
   "outputs": [],
   "source": [
    "df_mentions['id_str'] = df_mentions['id_str'].astype(pd.Int64Dtype())"
   ]
  },
  {
   "cell_type": "code",
   "execution_count": 14,
   "metadata": {},
   "outputs": [],
   "source": [
    "df_mentions['mentions'] = df_mentions['entities.user_mentions'].apply(literal_return)"
   ]
  },
  {
   "cell_type": "code",
   "execution_count": 15,
   "metadata": {},
   "outputs": [],
   "source": [
    "df_mentions['at_mentions'] = df_mentions['mentions'].apply(get_mention)"
   ]
  },
  {
   "cell_type": "code",
   "execution_count": 16,
   "metadata": {},
   "outputs": [
    {
     "data": {
      "text/plain": [
       "0                                                         []\n",
       "1          [880417607865815000, 1000793307688058900, 2789...\n",
       "2                                                 [18332190]\n",
       "3                            [227687574, 22536055, 13192972]\n",
       "4                          [2835499934, 3274266002, 8279892]\n",
       "                                 ...                        \n",
       "6454270                                          [617675801]\n",
       "6454271                                                   []\n",
       "6454272    [981851323372068900, 918884023, 2312039984, 22...\n",
       "6454273                                 [277637843, 2902821]\n",
       "6454274                                           [38676903]\n",
       "Name: at_mentions, Length: 6454275, dtype: object"
      ]
     },
     "execution_count": 16,
     "metadata": {},
     "output_type": "execute_result"
    }
   ],
   "source": [
    "df_mentions['at_mentions']"
   ]
  },
  {
   "cell_type": "code",
   "execution_count": 17,
   "metadata": {},
   "outputs": [],
   "source": [
    "#Definitions\n",
    "KLM = 56377143\n",
    "AirFrance = 106062176\n",
    "British_Airways = 18332190\n",
    "AmericanAir = 22536055\n",
    "Lufthansa = 124476322\n",
    "AirBerlin = 26223583\n",
    "AirBerlin_assist = 2182373406\n",
    "easyJet = 38676903\n",
    "RyanAir = 1542862735\n",
    "SingaporeAir = 253340062\n",
    "Qantas = 218730857\n",
    "EtihadAirways = 45621423\n",
    "VirginAtlantic = 20626359"
   ]
  },
  {
   "cell_type": "code",
   "execution_count": 18,
   "metadata": {},
   "outputs": [],
   "source": [
    "total_KLM = 0\n",
    "total_AirFrance = 0\n",
    "total_British_Airways = 0 \n",
    "total_AmericanAir = 0\n",
    "total_Lufthansa = 0\n",
    "total_AirBerlin = 0\n",
    "total_AirBerlin_assist = 0\n",
    "total_easyJet = 0\n",
    "total_RyanAir = 0\n",
    "total_SingaporeAir = 0\n",
    "total_Qantas = 0\n",
    "total_EtihadAirways = 0 \n",
    "total_VirginAtlantic = 0\n",
    "for lst in df_mentions['at_mentions']:\n",
    "    try:\n",
    "        for i in lst:\n",
    "            if i == KLM:\n",
    "                total_KLM += 1\n",
    "            if i == AirFrance:\n",
    "                total_AirFrance += 1\n",
    "            if i == British_Airways:\n",
    "                total_British_Airways += 1\n",
    "            if i == AmericanAir:\n",
    "                total_AmericanAir += 1\n",
    "            if i == Lufthansa:\n",
    "                total_Lufthansa += 1\n",
    "            if i == AirBerlin:\n",
    "                total_AirBerlin += 1\n",
    "            if i == AirBerlin_assist:\n",
    "                total_AirBerlin_assist += 1\n",
    "            if i == easyJet:\n",
    "                total_easyJet += 1\n",
    "            if i == RyanAir:\n",
    "                total_RyanAir += 1\n",
    "            if i == SingaporeAir:\n",
    "                total_SingaporeAir += 1\n",
    "            if i == Qantas:\n",
    "                total_Qantas += 1\n",
    "            if i == EtihadAirways:\n",
    "                total_EtihadAirways += 1\n",
    "            if i == VirginAtlantic:\n",
    "                total_VirginAtlantic += 1\n",
    "    except:\n",
    "        pass"
   ]
  },
  {
   "cell_type": "code",
   "execution_count": 19,
   "metadata": {},
   "outputs": [
    {
     "name": "stdout",
     "output_type": "stream",
     "text": [
      "KLM 240757 AirFrance 96992 British Airways 570032 AmericanAir 817589 Lufthansa 129993 AirBerlin 412 AirBerlin assist 3 easyJet 351436 RyanAir 345075 SingaporeAir 74189 Qantas 170770 EtihadAirways 80642 VirginAtlantic 164469\n"
     ]
    }
   ],
   "source": [
    "print(\"KLM\",total_KLM,\n",
    "\"AirFrance\",total_AirFrance,\n",
    "'British Airways', total_British_Airways,\n",
    "'AmericanAir', total_AmericanAir,\n",
    "'Lufthansa', total_Lufthansa,\n",
    "'AirBerlin', total_AirBerlin,\n",
    "'AirBerlin assist', total_AirBerlin_assist,\n",
    "'easyJet', total_easyJet,\n",
    "'RyanAir', total_RyanAir,\n",
    "'SingaporeAir', total_SingaporeAir,\n",
    "'Qantas', total_Qantas,\n",
    "'EtihadAirways', total_EtihadAirways,\n",
    "'VirginAtlantic', total_VirginAtlantic)\n"
   ]
  },
  {
   "cell_type": "code",
   "execution_count": 21,
   "metadata": {},
   "outputs": [],
   "source": [
    "conversations = pd.read_csv('conversations_list.txt', sep=\"\\n\", header=None)"
   ]
  },
  {
   "cell_type": "code",
   "execution_count": 22,
   "metadata": {},
   "outputs": [],
   "source": [
    "conversations['list'] = conversations[0].apply(strip)"
   ]
  },
  {
   "cell_type": "code",
   "execution_count": 23,
   "metadata": {},
   "outputs": [],
   "source": [
    "df_mentions.drop('_id', axis = 1, inplace = True)"
   ]
  },
  {
   "cell_type": "code",
   "execution_count": 24,
   "metadata": {},
   "outputs": [],
   "source": [
    "df_mentions.drop('entities.user_mentions', axis = 1, inplace = True)"
   ]
  },
  {
   "cell_type": "code",
   "execution_count": 25,
   "metadata": {},
   "outputs": [],
   "source": [
    "df_mentions.drop('mentions', axis  = 1, inplace = True)"
   ]
  },
  {
   "cell_type": "code",
   "execution_count": 26,
   "metadata": {},
   "outputs": [
    {
     "data": {
      "text/html": [
       "<div>\n",
       "<style scoped>\n",
       "    .dataframe tbody tr th:only-of-type {\n",
       "        vertical-align: middle;\n",
       "    }\n",
       "\n",
       "    .dataframe tbody tr th {\n",
       "        vertical-align: top;\n",
       "    }\n",
       "\n",
       "    .dataframe thead th {\n",
       "        text-align: right;\n",
       "    }\n",
       "</style>\n",
       "<table border=\"1\" class=\"dataframe\">\n",
       "  <thead>\n",
       "    <tr style=\"text-align: right;\">\n",
       "      <th></th>\n",
       "      <th>0</th>\n",
       "      <th>list</th>\n",
       "    </tr>\n",
       "  </thead>\n",
       "  <tbody>\n",
       "    <tr>\n",
       "      <th>0</th>\n",
       "      <td>[1131173010508062720, 1131175995321520128, [11...</td>\n",
       "      <td>[1131173010508062720,  1131175995321520128,  1...</td>\n",
       "    </tr>\n",
       "    <tr>\n",
       "      <th>1</th>\n",
       "      <td>[1131173313982734336, 1131176158647717888, [11...</td>\n",
       "      <td>[1131173313982734336,  1131176158647717888,  1...</td>\n",
       "    </tr>\n",
       "    <tr>\n",
       "      <th>2</th>\n",
       "      <td>[1131173345918148608, 1131180770738036736]</td>\n",
       "      <td>[1131173345918148608,  1131180770738036736]</td>\n",
       "    </tr>\n",
       "    <tr>\n",
       "      <th>3</th>\n",
       "      <td>[1131174768114323456, 1131178958286991360, [11...</td>\n",
       "      <td>[1131174768114323456,  1131178958286991360,  1...</td>\n",
       "    </tr>\n",
       "    <tr>\n",
       "      <th>4</th>\n",
       "      <td>[1131174885865205760, 1131177862101426176]</td>\n",
       "      <td>[1131174885865205760,  1131177862101426176]</td>\n",
       "    </tr>\n",
       "    <tr>\n",
       "      <th>...</th>\n",
       "      <td>...</td>\n",
       "      <td>...</td>\n",
       "    </tr>\n",
       "    <tr>\n",
       "      <th>369027</th>\n",
       "      <td>[1244693824519184384, 1244696279197847552]</td>\n",
       "      <td>[1244693824519184384,  1244696279197847552]</td>\n",
       "    </tr>\n",
       "    <tr>\n",
       "      <th>369028</th>\n",
       "      <td>[1244694028899307520, 1244695930475098112]</td>\n",
       "      <td>[1244694028899307520,  1244695930475098112]</td>\n",
       "    </tr>\n",
       "    <tr>\n",
       "      <th>369029</th>\n",
       "      <td>[1244694239793070080, 1244695453674897408]</td>\n",
       "      <td>[1244694239793070080,  1244695453674897408]</td>\n",
       "    </tr>\n",
       "    <tr>\n",
       "      <th>369030</th>\n",
       "      <td>[1244694632220549120, 1244695423618555904, 124...</td>\n",
       "      <td>[1244694632220549120,  1244695423618555904,  1...</td>\n",
       "    </tr>\n",
       "    <tr>\n",
       "      <th>369031</th>\n",
       "      <td>[1244695110639632384, 1244696125833175040]</td>\n",
       "      <td>[1244695110639632384,  1244696125833175040]</td>\n",
       "    </tr>\n",
       "  </tbody>\n",
       "</table>\n",
       "<p>369032 rows × 2 columns</p>\n",
       "</div>"
      ],
      "text/plain": [
       "                                                        0  \\\n",
       "0       [1131173010508062720, 1131175995321520128, [11...   \n",
       "1       [1131173313982734336, 1131176158647717888, [11...   \n",
       "2              [1131173345918148608, 1131180770738036736]   \n",
       "3       [1131174768114323456, 1131178958286991360, [11...   \n",
       "4              [1131174885865205760, 1131177862101426176]   \n",
       "...                                                   ...   \n",
       "369027         [1244693824519184384, 1244696279197847552]   \n",
       "369028         [1244694028899307520, 1244695930475098112]   \n",
       "369029         [1244694239793070080, 1244695453674897408]   \n",
       "369030  [1244694632220549120, 1244695423618555904, 124...   \n",
       "369031         [1244695110639632384, 1244696125833175040]   \n",
       "\n",
       "                                                     list  \n",
       "0       [1131173010508062720,  1131175995321520128,  1...  \n",
       "1       [1131173313982734336,  1131176158647717888,  1...  \n",
       "2             [1131173345918148608,  1131180770738036736]  \n",
       "3       [1131174768114323456,  1131178958286991360,  1...  \n",
       "4             [1131174885865205760,  1131177862101426176]  \n",
       "...                                                   ...  \n",
       "369027        [1244693824519184384,  1244696279197847552]  \n",
       "369028        [1244694028899307520,  1244695930475098112]  \n",
       "369029        [1244694239793070080,  1244695453674897408]  \n",
       "369030  [1244694632220549120,  1244695423618555904,  1...  \n",
       "369031        [1244695110639632384,  1244696125833175040]  \n",
       "\n",
       "[369032 rows x 2 columns]"
      ]
     },
     "execution_count": 26,
     "metadata": {},
     "output_type": "execute_result"
    }
   ],
   "source": [
    "conversations"
   ]
  },
  {
   "cell_type": "markdown",
   "metadata": {},
   "source": [
    "# Stappenplan\n",
    "1. df_mentions['airline'] = airline per tweet\n",
    "2. dict['id'] = airline per tweet\n",
    "3. if tweet id of conversation in dict:\n",
    "    conversations['airline'] = dict['id']\n",
    "4. delete duplicates in conversations['airline'] "
   ]
  },
  {
   "cell_type": "code",
   "execution_count": 27,
   "metadata": {},
   "outputs": [],
   "source": [
    "British_Airways = 18332190\n",
    "AmericanAir = 22536055\n",
    "Lufthansa = 124476322\n",
    "AirBerlin = 26223583\n",
    "AirBerlin_assist = 2182373406\n",
    "easyJet = 38676903\n",
    "RyanAir = 1542862735\n",
    "SingaporeAir = 253340062\n",
    "Qantas = 218730857\n",
    "EtihadAirways = 45621423\n",
    "VirginAtlantic = 20626359"
   ]
  },
  {
   "cell_type": "code",
   "execution_count": 37,
   "metadata": {},
   "outputs": [],
   "source": [
    "def airline_lookup(self, airline = RyanAir):\n",
    "    \"\"\"Lookup airlines in list\"\"\"\n",
    "    if not self:\n",
    "        return 0\n",
    "    for i in self:\n",
    "        if int(i) == airline:\n",
    "            return 1\n",
    "    return 0"
   ]
  },
  {
   "cell_type": "code",
   "execution_count": 30,
   "metadata": {},
   "outputs": [],
   "source": [
    "df_mentions['KLM'] = df_mentions['at_mentions'].apply(airline_lookup)"
   ]
  },
  {
   "cell_type": "code",
   "execution_count": 32,
   "metadata": {},
   "outputs": [],
   "source": [
    "df_mentions['British Airways'] = df_mentions['at_mentions'].apply(airline_lookup)"
   ]
  },
  {
   "cell_type": "code",
   "execution_count": 34,
   "metadata": {},
   "outputs": [],
   "source": [
    "df_mentions['American Air'] = df_mentions['at_mentions'].apply(airline_lookup)"
   ]
  },
  {
   "cell_type": "code",
   "execution_count": 36,
   "metadata": {},
   "outputs": [],
   "source": [
    "df_mentions['Lufthansa'] = df_mentions['at_mentions'].apply(airline_lookup)"
   ]
  },
  {
   "cell_type": "code",
   "execution_count": 38,
   "metadata": {},
   "outputs": [],
   "source": [
    "df_mentions['RyanAir'] = df_mentions['at_mentions'].apply(airline_lookup)"
   ]
  },
  {
   "cell_type": "code",
   "execution_count": 39,
   "metadata": {},
   "outputs": [
    {
     "data": {
      "text/plain": [
       "0    5658631\n",
       "1     795644\n",
       "Name: American Air, dtype: int64"
      ]
     },
     "execution_count": 39,
     "metadata": {},
     "output_type": "execute_result"
    }
   ],
   "source": [
    "df_mentions['American Air'].value_counts()"
   ]
  },
  {
   "cell_type": "code",
   "execution_count": 40,
   "metadata": {},
   "outputs": [
    {
     "data": {
      "text/html": [
       "<div>\n",
       "<style scoped>\n",
       "    .dataframe tbody tr th:only-of-type {\n",
       "        vertical-align: middle;\n",
       "    }\n",
       "\n",
       "    .dataframe tbody tr th {\n",
       "        vertical-align: top;\n",
       "    }\n",
       "\n",
       "    .dataframe thead th {\n",
       "        text-align: right;\n",
       "    }\n",
       "</style>\n",
       "<table border=\"1\" class=\"dataframe\">\n",
       "  <thead>\n",
       "    <tr style=\"text-align: right;\">\n",
       "      <th></th>\n",
       "      <th>id_str</th>\n",
       "      <th>at_mentions</th>\n",
       "      <th>KLM</th>\n",
       "      <th>British Airways</th>\n",
       "      <th>American Air</th>\n",
       "      <th>Lufthansa</th>\n",
       "      <th>RyanAir</th>\n",
       "    </tr>\n",
       "  </thead>\n",
       "  <tbody>\n",
       "    <tr>\n",
       "      <th>0</th>\n",
       "      <td>1131172858951024640</td>\n",
       "      <td>[]</td>\n",
       "      <td>0</td>\n",
       "      <td>0</td>\n",
       "      <td>0</td>\n",
       "      <td>0</td>\n",
       "      <td>0</td>\n",
       "    </tr>\n",
       "    <tr>\n",
       "      <th>1</th>\n",
       "      <td>1131172864147808256</td>\n",
       "      <td>[880417607865815000, 1000793307688058900, 2789...</td>\n",
       "      <td>0</td>\n",
       "      <td>0</td>\n",
       "      <td>0</td>\n",
       "      <td>0</td>\n",
       "      <td>0</td>\n",
       "    </tr>\n",
       "    <tr>\n",
       "      <th>2</th>\n",
       "      <td>1131172867985485824</td>\n",
       "      <td>[18332190]</td>\n",
       "      <td>0</td>\n",
       "      <td>1</td>\n",
       "      <td>0</td>\n",
       "      <td>0</td>\n",
       "      <td>0</td>\n",
       "    </tr>\n",
       "    <tr>\n",
       "      <th>3</th>\n",
       "      <td>1131172909463027712</td>\n",
       "      <td>[227687574, 22536055, 13192972]</td>\n",
       "      <td>0</td>\n",
       "      <td>0</td>\n",
       "      <td>1</td>\n",
       "      <td>0</td>\n",
       "      <td>0</td>\n",
       "    </tr>\n",
       "    <tr>\n",
       "      <th>4</th>\n",
       "      <td>1131172975682605056</td>\n",
       "      <td>[2835499934, 3274266002, 8279892]</td>\n",
       "      <td>0</td>\n",
       "      <td>0</td>\n",
       "      <td>0</td>\n",
       "      <td>0</td>\n",
       "      <td>0</td>\n",
       "    </tr>\n",
       "    <tr>\n",
       "      <th>...</th>\n",
       "      <td>...</td>\n",
       "      <td>...</td>\n",
       "      <td>...</td>\n",
       "      <td>...</td>\n",
       "      <td>...</td>\n",
       "      <td>...</td>\n",
       "      <td>...</td>\n",
       "    </tr>\n",
       "    <tr>\n",
       "      <th>6454270</th>\n",
       "      <td>1244696703690772480</td>\n",
       "      <td>[617675801]</td>\n",
       "      <td>0</td>\n",
       "      <td>0</td>\n",
       "      <td>0</td>\n",
       "      <td>0</td>\n",
       "      <td>0</td>\n",
       "    </tr>\n",
       "    <tr>\n",
       "      <th>6454271</th>\n",
       "      <td>1244696708983984128</td>\n",
       "      <td>[]</td>\n",
       "      <td>0</td>\n",
       "      <td>0</td>\n",
       "      <td>0</td>\n",
       "      <td>0</td>\n",
       "      <td>0</td>\n",
       "    </tr>\n",
       "    <tr>\n",
       "      <th>6454272</th>\n",
       "      <td>1244696710447800320</td>\n",
       "      <td>[981851323372068900, 918884023, 2312039984, 22...</td>\n",
       "      <td>1</td>\n",
       "      <td>0</td>\n",
       "      <td>0</td>\n",
       "      <td>0</td>\n",
       "      <td>0</td>\n",
       "    </tr>\n",
       "    <tr>\n",
       "      <th>6454273</th>\n",
       "      <td>1244696713350217728</td>\n",
       "      <td>[277637843, 2902821]</td>\n",
       "      <td>0</td>\n",
       "      <td>0</td>\n",
       "      <td>0</td>\n",
       "      <td>0</td>\n",
       "      <td>0</td>\n",
       "    </tr>\n",
       "    <tr>\n",
       "      <th>6454274</th>\n",
       "      <td>1244696713765564416</td>\n",
       "      <td>[38676903]</td>\n",
       "      <td>0</td>\n",
       "      <td>0</td>\n",
       "      <td>0</td>\n",
       "      <td>0</td>\n",
       "      <td>0</td>\n",
       "    </tr>\n",
       "  </tbody>\n",
       "</table>\n",
       "<p>6454275 rows × 7 columns</p>\n",
       "</div>"
      ],
      "text/plain": [
       "                      id_str  \\\n",
       "0        1131172858951024640   \n",
       "1        1131172864147808256   \n",
       "2        1131172867985485824   \n",
       "3        1131172909463027712   \n",
       "4        1131172975682605056   \n",
       "...                      ...   \n",
       "6454270  1244696703690772480   \n",
       "6454271  1244696708983984128   \n",
       "6454272  1244696710447800320   \n",
       "6454273  1244696713350217728   \n",
       "6454274  1244696713765564416   \n",
       "\n",
       "                                               at_mentions  KLM  \\\n",
       "0                                                       []    0   \n",
       "1        [880417607865815000, 1000793307688058900, 2789...    0   \n",
       "2                                               [18332190]    0   \n",
       "3                          [227687574, 22536055, 13192972]    0   \n",
       "4                        [2835499934, 3274266002, 8279892]    0   \n",
       "...                                                    ...  ...   \n",
       "6454270                                        [617675801]    0   \n",
       "6454271                                                 []    0   \n",
       "6454272  [981851323372068900, 918884023, 2312039984, 22...    1   \n",
       "6454273                               [277637843, 2902821]    0   \n",
       "6454274                                         [38676903]    0   \n",
       "\n",
       "         British Airways  American Air  Lufthansa  RyanAir  \n",
       "0                      0             0          0        0  \n",
       "1                      0             0          0        0  \n",
       "2                      1             0          0        0  \n",
       "3                      0             1          0        0  \n",
       "4                      0             0          0        0  \n",
       "...                  ...           ...        ...      ...  \n",
       "6454270                0             0          0        0  \n",
       "6454271                0             0          0        0  \n",
       "6454272                0             0          0        0  \n",
       "6454273                0             0          0        0  \n",
       "6454274                0             0          0        0  \n",
       "\n",
       "[6454275 rows x 7 columns]"
      ]
     },
     "execution_count": 40,
     "metadata": {},
     "output_type": "execute_result"
    }
   ],
   "source": [
    "df_mentions"
   ]
  },
  {
   "cell_type": "code",
   "execution_count": 41,
   "metadata": {},
   "outputs": [],
   "source": [
    "export = df_mentions.drop('at_mentions', axis = 1)"
   ]
  },
  {
   "cell_type": "code",
   "execution_count": 42,
   "metadata": {},
   "outputs": [],
   "source": [
    "export.to_csv('id_airline.csv')"
   ]
  }
 ],
 "metadata": {
  "kernelspec": {
   "display_name": "Python 3",
   "language": "python",
   "name": "python3"
  },
  "language_info": {
   "codemirror_mode": {
    "name": "ipython",
    "version": 3
   },
   "file_extension": ".py",
   "mimetype": "text/x-python",
   "name": "python",
   "nbconvert_exporter": "python",
   "pygments_lexer": "ipython3",
   "version": "3.7.5"
  }
 },
 "nbformat": 4,
 "nbformat_minor": 4
}
