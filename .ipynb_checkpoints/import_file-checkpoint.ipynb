{
 "cells": [
  {
   "cell_type": "markdown",
   "metadata": {},
   "source": [
    "# Notebook for importing personal csv"
   ]
  },
  {
   "cell_type": "markdown",
   "metadata": {},
   "source": [
    "### Importing libraries"
   ]
  },
  {
   "cell_type": "code",
   "execution_count": 1,
   "metadata": {},
   "outputs": [],
   "source": [
    "import pandas as pd\n",
    "import numpy as np\n",
    "import sys\n",
    "from datetime import datetime"
   ]
  },
  {
   "cell_type": "markdown",
   "metadata": {},
   "source": [
    "### Check version of Pandas and version of Python\n",
    "\n",
    "These should be 1.0.3 for Pandas and I am using 3.7.5 for Python because of SKlearn compatibilities. However, 3.8 should also work."
   ]
  },
  {
   "cell_type": "code",
   "execution_count": 2,
   "metadata": {},
   "outputs": [
    {
     "name": "stdout",
     "output_type": "stream",
     "text": [
      "Python version is 3.7.3 (default, Mar 27 2019, 17:13:21) [MSC v.1915 64 bit (AMD64)]\n",
      "Pandas version is 1.0.3\n"
     ]
    }
   ],
   "source": [
    "print('Python version is', sys.version)\n",
    "print('Pandas version is', pd.__version__)"
   ]
  },
  {
   "cell_type": "markdown",
   "metadata": {},
   "source": [
    "### Importing the CSV\n",
    "\n",
    "Please define your path in the variable."
   ]
  },
  {
   "cell_type": "code",
   "execution_count": 3,
   "metadata": {},
   "outputs": [],
   "source": [
    "#path = r'C:\\Users\\20193815\\Documents\\Data Challenge\\Full_basic.csv' \n",
    "path = r'C:\\Users\\20193635\\Documents\\Data Science Year 1\\Q4\\Data Challenge\\Fulls csv\\Full_basic.csv' "
   ]
  },
  {
   "cell_type": "code",
   "execution_count": 4,
   "metadata": {},
   "outputs": [
    {
     "name": "stderr",
     "output_type": "stream",
     "text": [
      "C:\\ProgramData\\Anaconda3\\lib\\site-packages\\IPython\\core\\interactiveshell.py:3063: DtypeWarning: Columns (1,2,4,6) have mixed types.Specify dtype option on import or set low_memory=False.\n",
      "  interactivity=interactivity, compiler=compiler, result=result)\n"
     ]
    },
    {
     "name": "stdout",
     "output_type": "stream",
     "text": [
      "_id              object\n",
      "created_at       object\n",
      "id               object\n",
      "id_str          float64\n",
      "text             object\n",
      "user.id_str     float64\n",
      "lang             object\n",
      "timestamp_ms    float64\n",
      "dtype: object\n"
     ]
    },
    {
     "data": {
      "text/html": [
       "<div>\n",
       "<style scoped>\n",
       "    .dataframe tbody tr th:only-of-type {\n",
       "        vertical-align: middle;\n",
       "    }\n",
       "\n",
       "    .dataframe tbody tr th {\n",
       "        vertical-align: top;\n",
       "    }\n",
       "\n",
       "    .dataframe thead th {\n",
       "        text-align: right;\n",
       "    }\n",
       "</style>\n",
       "<table border=\"1\" class=\"dataframe\">\n",
       "  <thead>\n",
       "    <tr style=\"text-align: right;\">\n",
       "      <th></th>\n",
       "      <th>_id</th>\n",
       "      <th>created_at</th>\n",
       "      <th>id</th>\n",
       "      <th>id_str</th>\n",
       "      <th>text</th>\n",
       "      <th>user.id_str</th>\n",
       "      <th>lang</th>\n",
       "      <th>timestamp_ms</th>\n",
       "    </tr>\n",
       "  </thead>\n",
       "  <tbody>\n",
       "    <tr>\n",
       "      <th>0</th>\n",
       "      <td>5ec66ff9f3c74bef68594542</td>\n",
       "      <td>Wed May 22 12:20:00 +0000 2019</td>\n",
       "      <td>1.13117e+18</td>\n",
       "      <td>1.131173e+18</td>\n",
       "      <td>La ruta de easyJet entre Londres y Menorca tra...</td>\n",
       "      <td>3.933741e+08</td>\n",
       "      <td>es</td>\n",
       "      <td>1.558528e+12</td>\n",
       "    </tr>\n",
       "    <tr>\n",
       "      <th>1</th>\n",
       "      <td>5ec66ff9f3c74bef68594543</td>\n",
       "      <td>Wed May 22 12:20:01 +0000 2019</td>\n",
       "      <td>1.13117e+18</td>\n",
       "      <td>1.131173e+18</td>\n",
       "      <td>RT @bttr_as1: @goody_tracy Here’s a list of so...</td>\n",
       "      <td>3.420691e+09</td>\n",
       "      <td>en</td>\n",
       "      <td>1.558528e+12</td>\n",
       "    </tr>\n",
       "    <tr>\n",
       "      <th>2</th>\n",
       "      <td>5ec66ff9f3c74bef68594544</td>\n",
       "      <td>Wed May 22 12:20:02 +0000 2019</td>\n",
       "      <td>1.13117e+18</td>\n",
       "      <td>1.131173e+18</td>\n",
       "      <td>@British_Airways</td>\n",
       "      <td>3.943766e+08</td>\n",
       "      <td>und</td>\n",
       "      <td>1.558528e+12</td>\n",
       "    </tr>\n",
       "    <tr>\n",
       "      <th>3</th>\n",
       "      <td>5ec66ff9f3c74bef68594545</td>\n",
       "      <td>Wed May 22 12:20:12 +0000 2019</td>\n",
       "      <td>1.13117e+18</td>\n",
       "      <td>1.131173e+18</td>\n",
       "      <td>RT @TheRaceRadio: Nice change by @AmericanAir....</td>\n",
       "      <td>3.648856e+07</td>\n",
       "      <td>en</td>\n",
       "      <td>1.558528e+12</td>\n",
       "    </tr>\n",
       "    <tr>\n",
       "      <th>4</th>\n",
       "      <td>5ec66ff9f3c74bef68594546</td>\n",
       "      <td>Wed May 22 12:20:28 +0000 2019</td>\n",
       "      <td>1.13117e+18</td>\n",
       "      <td>1.131173e+18</td>\n",
       "      <td>RT @sandeeprrao1991: BREAKING:-\\nKLM to fly 3x...</td>\n",
       "      <td>1.419335e+07</td>\n",
       "      <td>en</td>\n",
       "      <td>1.558528e+12</td>\n",
       "    </tr>\n",
       "  </tbody>\n",
       "</table>\n",
       "</div>"
      ],
      "text/plain": [
       "                        _id                      created_at           id  \\\n",
       "0  5ec66ff9f3c74bef68594542  Wed May 22 12:20:00 +0000 2019  1.13117e+18   \n",
       "1  5ec66ff9f3c74bef68594543  Wed May 22 12:20:01 +0000 2019  1.13117e+18   \n",
       "2  5ec66ff9f3c74bef68594544  Wed May 22 12:20:02 +0000 2019  1.13117e+18   \n",
       "3  5ec66ff9f3c74bef68594545  Wed May 22 12:20:12 +0000 2019  1.13117e+18   \n",
       "4  5ec66ff9f3c74bef68594546  Wed May 22 12:20:28 +0000 2019  1.13117e+18   \n",
       "\n",
       "         id_str                                               text  \\\n",
       "0  1.131173e+18  La ruta de easyJet entre Londres y Menorca tra...   \n",
       "1  1.131173e+18  RT @bttr_as1: @goody_tracy Here’s a list of so...   \n",
       "2  1.131173e+18                                   @British_Airways   \n",
       "3  1.131173e+18  RT @TheRaceRadio: Nice change by @AmericanAir....   \n",
       "4  1.131173e+18  RT @sandeeprrao1991: BREAKING:-\\nKLM to fly 3x...   \n",
       "\n",
       "    user.id_str lang  timestamp_ms  \n",
       "0  3.933741e+08   es  1.558528e+12  \n",
       "1  3.420691e+09   en  1.558528e+12  \n",
       "2  3.943766e+08  und  1.558528e+12  \n",
       "3  3.648856e+07   en  1.558528e+12  \n",
       "4  1.419335e+07   en  1.558528e+12  "
      ]
     },
     "execution_count": 4,
     "metadata": {},
     "output_type": "execute_result"
    }
   ],
   "source": [
    "df = pd.read_csv(path)\n",
    "print(df.dtypes)\n",
    "df.head()"
   ]
  },
  {
   "cell_type": "markdown",
   "metadata": {},
   "source": [
    "### Cleaning up the df\n",
    "\n",
    "First we remove the _id column if present, then all the missing values. Afterwards we convert columns that are present to the correct dtype."
   ]
  },
  {
   "cell_type": "code",
   "execution_count": 7,
   "metadata": {},
   "outputs": [
    {
     "name": "stdout",
     "output_type": "stream",
     "text": [
      "_id not found\n",
      "created_at converted to string, use timestamp for datetime dtype\n",
      "Skip id, use id_str instead\n",
      "timestamp converted to datetime dtype\n",
      "Dtypes after transformation:\n",
      " created_at              object\n",
      "id                      object\n",
      "id_str                   Int64\n",
      "text                    object\n",
      "user.id_str              Int64\n",
      "lang                    object\n",
      "timestamp_ms    datetime64[ns]\n",
      "dtype: object\n"
     ]
    },
    {
     "data": {
      "text/html": [
       "<div>\n",
       "<style scoped>\n",
       "    .dataframe tbody tr th:only-of-type {\n",
       "        vertical-align: middle;\n",
       "    }\n",
       "\n",
       "    .dataframe tbody tr th {\n",
       "        vertical-align: top;\n",
       "    }\n",
       "\n",
       "    .dataframe thead th {\n",
       "        text-align: right;\n",
       "    }\n",
       "</style>\n",
       "<table border=\"1\" class=\"dataframe\">\n",
       "  <thead>\n",
       "    <tr style=\"text-align: right;\">\n",
       "      <th></th>\n",
       "      <th>created_at</th>\n",
       "      <th>id</th>\n",
       "      <th>id_str</th>\n",
       "      <th>text</th>\n",
       "      <th>user.id_str</th>\n",
       "      <th>lang</th>\n",
       "      <th>timestamp_ms</th>\n",
       "    </tr>\n",
       "  </thead>\n",
       "  <tbody>\n",
       "    <tr>\n",
       "      <th>0</th>\n",
       "      <td>Wed May 22 12:20:00 +0000 2019</td>\n",
       "      <td>1.13117e+18</td>\n",
       "      <td>1131172858951024640</td>\n",
       "      <td>La ruta de easyJet entre Londres y Menorca tra...</td>\n",
       "      <td>393374091</td>\n",
       "      <td>es</td>\n",
       "      <td>2019-05-22 12:20:00.406</td>\n",
       "    </tr>\n",
       "    <tr>\n",
       "      <th>1</th>\n",
       "      <td>Wed May 22 12:20:01 +0000 2019</td>\n",
       "      <td>1.13117e+18</td>\n",
       "      <td>1131172864147808256</td>\n",
       "      <td>RT @bttr_as1: @goody_tracy Here’s a list of so...</td>\n",
       "      <td>3420691215</td>\n",
       "      <td>en</td>\n",
       "      <td>2019-05-22 12:20:01.645</td>\n",
       "    </tr>\n",
       "    <tr>\n",
       "      <th>2</th>\n",
       "      <td>Wed May 22 12:20:02 +0000 2019</td>\n",
       "      <td>1.13117e+18</td>\n",
       "      <td>1131172867985485824</td>\n",
       "      <td>@British_Airways</td>\n",
       "      <td>394376606</td>\n",
       "      <td>und</td>\n",
       "      <td>2019-05-22 12:20:02.560</td>\n",
       "    </tr>\n",
       "    <tr>\n",
       "      <th>3</th>\n",
       "      <td>Wed May 22 12:20:12 +0000 2019</td>\n",
       "      <td>1.13117e+18</td>\n",
       "      <td>1131172909463027712</td>\n",
       "      <td>RT @TheRaceRadio: Nice change by @AmericanAir....</td>\n",
       "      <td>36488556</td>\n",
       "      <td>en</td>\n",
       "      <td>2019-05-22 12:20:12.449</td>\n",
       "    </tr>\n",
       "    <tr>\n",
       "      <th>4</th>\n",
       "      <td>Wed May 22 12:20:28 +0000 2019</td>\n",
       "      <td>1.13117e+18</td>\n",
       "      <td>1131172975682605056</td>\n",
       "      <td>RT @sandeeprrao1991: BREAKING:-\\nKLM to fly 3x...</td>\n",
       "      <td>14193348</td>\n",
       "      <td>en</td>\n",
       "      <td>2019-05-22 12:20:28.237</td>\n",
       "    </tr>\n",
       "  </tbody>\n",
       "</table>\n",
       "</div>"
      ],
      "text/plain": [
       "                       created_at           id               id_str  \\\n",
       "0  Wed May 22 12:20:00 +0000 2019  1.13117e+18  1131172858951024640   \n",
       "1  Wed May 22 12:20:01 +0000 2019  1.13117e+18  1131172864147808256   \n",
       "2  Wed May 22 12:20:02 +0000 2019  1.13117e+18  1131172867985485824   \n",
       "3  Wed May 22 12:20:12 +0000 2019  1.13117e+18  1131172909463027712   \n",
       "4  Wed May 22 12:20:28 +0000 2019  1.13117e+18  1131172975682605056   \n",
       "\n",
       "                                                text  user.id_str lang  \\\n",
       "0  La ruta de easyJet entre Londres y Menorca tra...    393374091   es   \n",
       "1  RT @bttr_as1: @goody_tracy Here’s a list of so...   3420691215   en   \n",
       "2                                   @British_Airways    394376606  und   \n",
       "3  RT @TheRaceRadio: Nice change by @AmericanAir....     36488556   en   \n",
       "4  RT @sandeeprrao1991: BREAKING:-\\nKLM to fly 3x...     14193348   en   \n",
       "\n",
       "             timestamp_ms  \n",
       "0 2019-05-22 12:20:00.406  \n",
       "1 2019-05-22 12:20:01.645  \n",
       "2 2019-05-22 12:20:02.560  \n",
       "3 2019-05-22 12:20:12.449  \n",
       "4 2019-05-22 12:20:28.237  "
      ]
     },
     "execution_count": 7,
     "metadata": {},
     "output_type": "execute_result"
    }
   ],
   "source": [
    "def cleanup(df):\n",
    "    \"\"\"Removes unnecessary columns and converts to the correct dtype\"\"\"\n",
    "    try:\n",
    "        df.drop('_id', axis = 1, inplace = True)\n",
    "    except:\n",
    "        print('_id not found')\n",
    "    \n",
    "    #Remove rows where id has a missing value\n",
    "    not_number = df[df['id_str'].isna()]\n",
    "    lst = not_number.index.array\n",
    "    df.drop(lst, inplace = True)\n",
    "    col_names = list(df.columns)\n",
    "    \n",
    "    string = ['text', 'lang', 'in_reply_to_status_id_str'] # Not all columnsnames have to be present in the used data set\n",
    "    integer = ['id_str','user.id_str', 'in_reply_to_status_id']\n",
    "    \n",
    "    \n",
    "    for col in col_names:\n",
    "        if col == 'created_at':\n",
    "            df[col] = df[col].astype(str)\n",
    "            print('created_at converted to string, use timestamp for datetime dtype')\n",
    "        if col == 'timestamp_ms':\n",
    "            df[col] = pd.to_datetime(df[col], unit = 'ms')\n",
    "            print('timestamp converted to datetime dtype')\n",
    "        if col == 'id':\n",
    "            print('Skip id, use id_str instead')\n",
    "        if col in integer:\n",
    "            df[col] = df[col].astype(pd.Int64Dtype())\n",
    "        if col in string:\n",
    "            df[col] = df[col].astype(str)\n",
    "\n",
    "    return df\n",
    "\n",
    "df = cleanup(df)\n",
    "print('Dtypes after transformation:\\n',df.dtypes)\n",
    "df.head()\n",
    "\n",
    "\n"
   ]
  },
  {
   "cell_type": "markdown",
   "metadata": {},
   "source": [
    "While string columns show up as having an object dtype, this is not actually the case. When retrieving a value from the column and checking the dtype it is a string. There might be some values in those columns that cause this issue."
   ]
  }
 ],
 "metadata": {
  "kernelspec": {
   "display_name": "Python 3",
   "language": "python",
   "name": "python3"
  },
  "language_info": {
   "codemirror_mode": {
    "name": "ipython",
    "version": 3
   },
   "file_extension": ".py",
   "mimetype": "text/x-python",
   "name": "python",
   "nbconvert_exporter": "python",
   "pygments_lexer": "ipython3",
   "version": "3.7.3"
  }
 },
 "nbformat": 4,
 "nbformat_minor": 4
}
