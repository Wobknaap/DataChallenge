{
 "cells": [
  {
   "cell_type": "code",
   "execution_count": null,
   "metadata": {},
   "outputs": [],
   "source": [
    "#pip install vaderSentiment"
   ]
  },
  {
   "cell_type": "code",
   "execution_count": 3,
   "metadata": {},
   "outputs": [],
   "source": [
    "import pandas as pd\n",
    "import json\n",
    "from vaderSentiment.vaderSentiment import SentimentIntensityAnalyzer\n",
    "from translate import Translator                    # translation api \n",
    "pd.set_option('display.max_colwidth', None)"
   ]
  },
  {
   "cell_type": "code",
   "execution_count": 4,
   "metadata": {},
   "outputs": [],
   "source": [
    "analyser = SentimentIntensityAnalyzer()                     # library documention https://github.com/cjhutto/vaderSentiment/blob/master/README.rst\n",
    "translator = Translator(to_lang = 'english')\n",
    "\n",
    "                         \n",
    "df= pd.read_json('C:/Users/20193623/Desktop/DBL Data Challange/Semantic analysis/airlines-1558546003827.json', lines = True)\n"
   ]
  },
  {
   "cell_type": "code",
   "execution_count": 5,
   "metadata": {},
   "outputs": [],
   "source": [
    "def sentiment_analyzer_scores(text, engl=True):\n",
    "    if engl:                                     # if the leng is engl it skips the translation\n",
    "        trans = text\n",
    "    else:\n",
    "        trans = translator.translate(text).text    # it translates the text\n",
    "    score = analyser.polarity_scores(trans)     # gets the scores from the library \n",
    "    lb = score['compound']\n",
    "    if lb >= 0.07:                              # divides the sentiment score into (-1,0,1) \n",
    "        return 1                                # can be changed to even more catagories\n",
    "    elif (lb > -0.07) and (lb < 0.07):               \n",
    "        return 0\n",
    "    else:\n",
    "        return -1"
   ]
  },
  {
   "cell_type": "code",
   "execution_count": 6,
   "metadata": {},
   "outputs": [],
   "source": [
    "sentiment = []                        # gets a list of all the sentimental values of the tweets\n",
    "for x in range(len(df)) :  \n",
    "    \n",
    "    sentiment.append(sentiment_analyzer_scores(str(df['text'][x])))\n"
   ]
  },
  {
   "cell_type": "code",
   "execution_count": 7,
   "metadata": {},
   "outputs": [],
   "source": [
    "df.insert(8 ,'sentiment', sentiment)   # inserting the sentimental values into the dataframe"
   ]
  }
 ],
 "metadata": {
  "kernelspec": {
   "display_name": "Python 3",
   "language": "python",
   "name": "python3"
  },
  "language_info": {
   "codemirror_mode": {
    "name": "ipython",
    "version": 3
   },
   "file_extension": ".py",
   "mimetype": "text/x-python",
   "name": "python",
   "nbconvert_exporter": "python",
   "pygments_lexer": "ipython3",
   "version": "3.7.3"
  }
 },
 "nbformat": 4,
 "nbformat_minor": 4
}
