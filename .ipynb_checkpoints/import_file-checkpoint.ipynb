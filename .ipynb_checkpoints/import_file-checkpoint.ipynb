{
 "cells": [
  {
   "cell_type": "markdown",
   "metadata": {},
   "source": [
    "# Notebook for importing personal csv"
   ]
  },
  {
   "cell_type": "markdown",
   "metadata": {},
   "source": [
    "### Importing libraries"
   ]
  },
  {
   "cell_type": "code",
   "execution_count": 1,
   "metadata": {},
   "outputs": [],
   "source": [
    "import pandas as pd\n",
    "import numpy as np\n",
    "import sys\n",
    "from datetime import datetime"
   ]
  },
  {
   "cell_type": "markdown",
   "metadata": {},
   "source": [
    "### Check version of Pandas and version of Python\n",
    "\n",
    "These should be 1.0.3 for Pandas and I am using 3.7.5 for Python because of SKlearn compatibilities. However, 3.8 should also work."
   ]
  },
  {
   "cell_type": "code",
   "execution_count": 2,
   "metadata": {},
   "outputs": [
    {
     "name": "stdout",
     "output_type": "stream",
     "text": [
      "Python version is 3.7.5 (tags/v3.7.5:5c02a39a0b, Oct 15 2019, 00:11:34) [MSC v.1916 64 bit (AMD64)]\n",
      "Pandas version is 1.0.3\n"
     ]
    }
   ],
   "source": [
    "print('Python version is', sys.version)\n",
    "print('Pandas version is', pd.__version__)"
   ]
  },
  {
   "cell_type": "markdown",
   "metadata": {},
   "source": [
    "### Importing the CSV\n",
    "\n",
    "Please define your path in the variable."
   ]
  },
  {
   "cell_type": "code",
   "execution_count": 3,
   "metadata": {},
   "outputs": [
    {
     "name": "stdout",
     "output_type": "stream",
     "text": [
      "C:/Users/20193815/Documents/Data Challenge/full_basic_with_sentiment.csv\n"
     ]
    }
   ],
   "source": [
    "from tkinter import filedialog\n",
    "from tkinter import *\n",
    "\n",
    "root = Tk()\n",
    "root.lift()\n",
    "root.attributes('-topmost',True)\n",
    "root.filename =  filedialog.askopenfilename(initialdir = \"/\",title = \"Select file\")\n",
    "file_path = root.filename\n",
    "root.destroy()\n",
    "print (file_path)"
   ]
  },
  {
   "cell_type": "code",
   "execution_count": 4,
   "metadata": {},
   "outputs": [
    {
     "name": "stderr",
     "output_type": "stream",
     "text": [
      "c:\\users\\20193815\\appdata\\local\\programs\\python\\python37\\lib\\site-packages\\IPython\\core\\interactiveshell.py:3063: DtypeWarning: Columns (2,3,5,7) have mixed types.Specify dtype option on import or set low_memory=False.\n",
      "  interactivity=interactivity, compiler=compiler, result=result)\n"
     ]
    },
    {
     "name": "stdout",
     "output_type": "stream",
     "text": [
      "Unnamed: 0        int64\n",
      "_id              object\n",
      "created_at       object\n",
      "id               object\n",
      "id_str          float64\n",
      "text             object\n",
      "user.id_str     float64\n",
      "lang             object\n",
      "timestamp_ms    float64\n",
      "sentiment         int64\n",
      "dtype: object\n"
     ]
    },
    {
     "data": {
      "text/html": [
       "<div>\n",
       "<style scoped>\n",
       "    .dataframe tbody tr th:only-of-type {\n",
       "        vertical-align: middle;\n",
       "    }\n",
       "\n",
       "    .dataframe tbody tr th {\n",
       "        vertical-align: top;\n",
       "    }\n",
       "\n",
       "    .dataframe thead th {\n",
       "        text-align: right;\n",
       "    }\n",
       "</style>\n",
       "<table border=\"1\" class=\"dataframe\">\n",
       "  <thead>\n",
       "    <tr style=\"text-align: right;\">\n",
       "      <th></th>\n",
       "      <th>Unnamed: 0</th>\n",
       "      <th>_id</th>\n",
       "      <th>created_at</th>\n",
       "      <th>id</th>\n",
       "      <th>id_str</th>\n",
       "      <th>text</th>\n",
       "      <th>user.id_str</th>\n",
       "      <th>lang</th>\n",
       "      <th>timestamp_ms</th>\n",
       "      <th>sentiment</th>\n",
       "    </tr>\n",
       "  </thead>\n",
       "  <tbody>\n",
       "    <tr>\n",
       "      <th>0</th>\n",
       "      <td>0</td>\n",
       "      <td>5ec66ff9f3c74bef68594542</td>\n",
       "      <td>Wed May 22 12:20:00 +0000 2019</td>\n",
       "      <td>1.13117e+18</td>\n",
       "      <td>1.131173e+18</td>\n",
       "      <td>La ruta de easyJet entre Londres y Menorca tra...</td>\n",
       "      <td>3.933741e+08</td>\n",
       "      <td>es</td>\n",
       "      <td>1.558528e+12</td>\n",
       "      <td>0</td>\n",
       "    </tr>\n",
       "    <tr>\n",
       "      <th>1</th>\n",
       "      <td>1</td>\n",
       "      <td>5ec66ff9f3c74bef68594543</td>\n",
       "      <td>Wed May 22 12:20:01 +0000 2019</td>\n",
       "      <td>1.13117e+18</td>\n",
       "      <td>1.131173e+18</td>\n",
       "      <td>RT @bttr_as1: @goody_tracy Here’s a list of so...</td>\n",
       "      <td>3.420691e+09</td>\n",
       "      <td>en</td>\n",
       "      <td>1.558528e+12</td>\n",
       "      <td>1</td>\n",
       "    </tr>\n",
       "    <tr>\n",
       "      <th>2</th>\n",
       "      <td>2</td>\n",
       "      <td>5ec66ff9f3c74bef68594544</td>\n",
       "      <td>Wed May 22 12:20:02 +0000 2019</td>\n",
       "      <td>1.13117e+18</td>\n",
       "      <td>1.131173e+18</td>\n",
       "      <td>@British_Airways</td>\n",
       "      <td>3.943766e+08</td>\n",
       "      <td>und</td>\n",
       "      <td>1.558528e+12</td>\n",
       "      <td>0</td>\n",
       "    </tr>\n",
       "    <tr>\n",
       "      <th>3</th>\n",
       "      <td>3</td>\n",
       "      <td>5ec66ff9f3c74bef68594545</td>\n",
       "      <td>Wed May 22 12:20:12 +0000 2019</td>\n",
       "      <td>1.13117e+18</td>\n",
       "      <td>1.131173e+18</td>\n",
       "      <td>RT @TheRaceRadio: Nice change by @AmericanAir....</td>\n",
       "      <td>3.648856e+07</td>\n",
       "      <td>en</td>\n",
       "      <td>1.558528e+12</td>\n",
       "      <td>1</td>\n",
       "    </tr>\n",
       "    <tr>\n",
       "      <th>4</th>\n",
       "      <td>4</td>\n",
       "      <td>5ec66ff9f3c74bef68594546</td>\n",
       "      <td>Wed May 22 12:20:28 +0000 2019</td>\n",
       "      <td>1.13117e+18</td>\n",
       "      <td>1.131173e+18</td>\n",
       "      <td>RT @sandeeprrao1991: BREAKING:-\\nKLM to fly 3x...</td>\n",
       "      <td>1.419335e+07</td>\n",
       "      <td>en</td>\n",
       "      <td>1.558528e+12</td>\n",
       "      <td>0</td>\n",
       "    </tr>\n",
       "  </tbody>\n",
       "</table>\n",
       "</div>"
      ],
      "text/plain": [
       "   Unnamed: 0                       _id                      created_at  \\\n",
       "0           0  5ec66ff9f3c74bef68594542  Wed May 22 12:20:00 +0000 2019   \n",
       "1           1  5ec66ff9f3c74bef68594543  Wed May 22 12:20:01 +0000 2019   \n",
       "2           2  5ec66ff9f3c74bef68594544  Wed May 22 12:20:02 +0000 2019   \n",
       "3           3  5ec66ff9f3c74bef68594545  Wed May 22 12:20:12 +0000 2019   \n",
       "4           4  5ec66ff9f3c74bef68594546  Wed May 22 12:20:28 +0000 2019   \n",
       "\n",
       "            id        id_str  \\\n",
       "0  1.13117e+18  1.131173e+18   \n",
       "1  1.13117e+18  1.131173e+18   \n",
       "2  1.13117e+18  1.131173e+18   \n",
       "3  1.13117e+18  1.131173e+18   \n",
       "4  1.13117e+18  1.131173e+18   \n",
       "\n",
       "                                                text   user.id_str lang  \\\n",
       "0  La ruta de easyJet entre Londres y Menorca tra...  3.933741e+08   es   \n",
       "1  RT @bttr_as1: @goody_tracy Here’s a list of so...  3.420691e+09   en   \n",
       "2                                   @British_Airways  3.943766e+08  und   \n",
       "3  RT @TheRaceRadio: Nice change by @AmericanAir....  3.648856e+07   en   \n",
       "4  RT @sandeeprrao1991: BREAKING:-\\nKLM to fly 3x...  1.419335e+07   en   \n",
       "\n",
       "   timestamp_ms  sentiment  \n",
       "0  1.558528e+12          0  \n",
       "1  1.558528e+12          1  \n",
       "2  1.558528e+12          0  \n",
       "3  1.558528e+12          1  \n",
       "4  1.558528e+12          0  "
      ]
     },
     "execution_count": 4,
     "metadata": {},
     "output_type": "execute_result"
    }
   ],
   "source": [
    "df = pd.read_csv(root.filename)\n",
    "print(df.dtypes)\n",
    "df.head()"
   ]
  },
  {
   "cell_type": "markdown",
   "metadata": {},
   "source": [
    "### Cleaning up the df\n",
    "\n",
    "First we remove the _id column if present, then all the missing values. Afterwards we convert columns that are present to the correct dtype."
   ]
  },
  {
   "cell_type": "code",
   "execution_count": 5,
   "metadata": {},
   "outputs": [
    {
     "name": "stdout",
     "output_type": "stream",
     "text": [
      "created_at converted to string, use timestamp for datetime dtype\n",
      "Skip id, use id_str instead\n",
      "timestamp converted to datetime dtype\n",
      "Dtypes after transformation:\n",
      " Unnamed: 0               int64\n",
      "created_at              object\n",
      "id                      object\n",
      "id_str                   Int64\n",
      "text                    object\n",
      "user.id_str              Int64\n",
      "lang                    object\n",
      "timestamp_ms    datetime64[ns]\n",
      "sentiment                int64\n",
      "dtype: object\n"
     ]
    },
    {
     "data": {
      "text/html": [
       "<div>\n",
       "<style scoped>\n",
       "    .dataframe tbody tr th:only-of-type {\n",
       "        vertical-align: middle;\n",
       "    }\n",
       "\n",
       "    .dataframe tbody tr th {\n",
       "        vertical-align: top;\n",
       "    }\n",
       "\n",
       "    .dataframe thead th {\n",
       "        text-align: right;\n",
       "    }\n",
       "</style>\n",
       "<table border=\"1\" class=\"dataframe\">\n",
       "  <thead>\n",
       "    <tr style=\"text-align: right;\">\n",
       "      <th></th>\n",
       "      <th>Unnamed: 0</th>\n",
       "      <th>created_at</th>\n",
       "      <th>id</th>\n",
       "      <th>id_str</th>\n",
       "      <th>text</th>\n",
       "      <th>user.id_str</th>\n",
       "      <th>lang</th>\n",
       "      <th>timestamp_ms</th>\n",
       "      <th>sentiment</th>\n",
       "    </tr>\n",
       "  </thead>\n",
       "  <tbody>\n",
       "    <tr>\n",
       "      <th>0</th>\n",
       "      <td>0</td>\n",
       "      <td>Wed May 22 12:20:00 +0000 2019</td>\n",
       "      <td>1.13117e+18</td>\n",
       "      <td>1131172858951024640</td>\n",
       "      <td>La ruta de easyJet entre Londres y Menorca tra...</td>\n",
       "      <td>393374091</td>\n",
       "      <td>es</td>\n",
       "      <td>2019-05-22 12:20:00.406</td>\n",
       "      <td>0</td>\n",
       "    </tr>\n",
       "    <tr>\n",
       "      <th>1</th>\n",
       "      <td>1</td>\n",
       "      <td>Wed May 22 12:20:01 +0000 2019</td>\n",
       "      <td>1.13117e+18</td>\n",
       "      <td>1131172864147808384</td>\n",
       "      <td>RT @bttr_as1: @goody_tracy Here’s a list of so...</td>\n",
       "      <td>3420691215</td>\n",
       "      <td>en</td>\n",
       "      <td>2019-05-22 12:20:01.645</td>\n",
       "      <td>1</td>\n",
       "    </tr>\n",
       "    <tr>\n",
       "      <th>2</th>\n",
       "      <td>2</td>\n",
       "      <td>Wed May 22 12:20:02 +0000 2019</td>\n",
       "      <td>1.13117e+18</td>\n",
       "      <td>1131172867985485824</td>\n",
       "      <td>@British_Airways</td>\n",
       "      <td>394376606</td>\n",
       "      <td>und</td>\n",
       "      <td>2019-05-22 12:20:02.560</td>\n",
       "      <td>0</td>\n",
       "    </tr>\n",
       "    <tr>\n",
       "      <th>3</th>\n",
       "      <td>3</td>\n",
       "      <td>Wed May 22 12:20:12 +0000 2019</td>\n",
       "      <td>1.13117e+18</td>\n",
       "      <td>1131172909463027584</td>\n",
       "      <td>RT @TheRaceRadio: Nice change by @AmericanAir....</td>\n",
       "      <td>36488556</td>\n",
       "      <td>en</td>\n",
       "      <td>2019-05-22 12:20:12.449</td>\n",
       "      <td>1</td>\n",
       "    </tr>\n",
       "    <tr>\n",
       "      <th>4</th>\n",
       "      <td>4</td>\n",
       "      <td>Wed May 22 12:20:28 +0000 2019</td>\n",
       "      <td>1.13117e+18</td>\n",
       "      <td>1131172975682605056</td>\n",
       "      <td>RT @sandeeprrao1991: BREAKING:-\\nKLM to fly 3x...</td>\n",
       "      <td>14193348</td>\n",
       "      <td>en</td>\n",
       "      <td>2019-05-22 12:20:28.237</td>\n",
       "      <td>0</td>\n",
       "    </tr>\n",
       "  </tbody>\n",
       "</table>\n",
       "</div>"
      ],
      "text/plain": [
       "   Unnamed: 0                      created_at           id  \\\n",
       "0           0  Wed May 22 12:20:00 +0000 2019  1.13117e+18   \n",
       "1           1  Wed May 22 12:20:01 +0000 2019  1.13117e+18   \n",
       "2           2  Wed May 22 12:20:02 +0000 2019  1.13117e+18   \n",
       "3           3  Wed May 22 12:20:12 +0000 2019  1.13117e+18   \n",
       "4           4  Wed May 22 12:20:28 +0000 2019  1.13117e+18   \n",
       "\n",
       "                id_str                                               text  \\\n",
       "0  1131172858951024640  La ruta de easyJet entre Londres y Menorca tra...   \n",
       "1  1131172864147808384  RT @bttr_as1: @goody_tracy Here’s a list of so...   \n",
       "2  1131172867985485824                                   @British_Airways   \n",
       "3  1131172909463027584  RT @TheRaceRadio: Nice change by @AmericanAir....   \n",
       "4  1131172975682605056  RT @sandeeprrao1991: BREAKING:-\\nKLM to fly 3x...   \n",
       "\n",
       "   user.id_str lang            timestamp_ms  sentiment  \n",
       "0    393374091   es 2019-05-22 12:20:00.406          0  \n",
       "1   3420691215   en 2019-05-22 12:20:01.645          1  \n",
       "2    394376606  und 2019-05-22 12:20:02.560          0  \n",
       "3     36488556   en 2019-05-22 12:20:12.449          1  \n",
       "4     14193348   en 2019-05-22 12:20:28.237          0  "
      ]
     },
     "execution_count": 5,
     "metadata": {},
     "output_type": "execute_result"
    }
   ],
   "source": [
    "def cleanup(df):\n",
    "    \"\"\"Removes unnecessary columns and converts to the correct dtype\"\"\"\n",
    "    try:\n",
    "        df.drop('_id', axis = 1, inplace = True)\n",
    "    except:\n",
    "        print('_id not found')\n",
    "    \n",
    "    #Remove rows where id has a missing value\n",
    "    try:\n",
    "        not_number = df[df['id_str'].isna()]\n",
    "        lst = not_number.index.array\n",
    "        df.drop(lst, inplace = True)\n",
    "    except:\n",
    "        pass\n",
    "    col_names = list(df.columns)\n",
    "    \n",
    "    string = ['text', 'lang', 'in_reply_to_status_id_str', ''] # Not all columnsnames have to be present in the used data set\n",
    "    integer = ['id_str','user.id_str', 'in_reply_to_status_id']\n",
    "    \n",
    "    \n",
    "    for col in col_names:\n",
    "        if col == 'created_at':\n",
    "            df[col] = df[col].astype(str)\n",
    "            print('created_at converted to string, use timestamp for datetime dtype')\n",
    "        if col == 'timestamp_ms':\n",
    "            df[col] = pd.to_datetime(df[col], unit = 'ms')\n",
    "            print('timestamp converted to datetime dtype')\n",
    "        if col == 'id':\n",
    "            print('Skip id, use id_str instead')\n",
    "        if col in integer:\n",
    "            df[col] = df[col].astype(pd.Int64Dtype())\n",
    "        if col in string:\n",
    "            df[col] = df[col].astype(str)\n",
    "\n",
    "    return df\n",
    "user_input = input('Please specify your DataFrame name')\n",
    "globals()[user_input] = cleanup(df)\n",
    "\n",
    "print('Dtypes after transformation:\\n',df.dtypes)\n",
    "globals()[user_input].head()\n",
    "\n",
    "\n"
   ]
  },
  {
   "cell_type": "markdown",
   "metadata": {},
   "source": [
    "While string columns show up as having an object dtype, this is not actually the case. When retrieving a value from the column and checking the dtype it is a string. There might be some values in those columns that cause this issue."
   ]
  }
 ],
 "metadata": {
  "kernelspec": {
   "display_name": "Python 3",
   "language": "python",
   "name": "python3"
  },
  "language_info": {
   "codemirror_mode": {
    "name": "ipython",
    "version": 3
   },
   "file_extension": ".py",
   "mimetype": "text/x-python",
   "name": "python",
   "nbconvert_exporter": "python",
   "pygments_lexer": "ipython3",
   "version": "3.7.5"
  }
 },
 "nbformat": 4,
 "nbformat_minor": 4
}
