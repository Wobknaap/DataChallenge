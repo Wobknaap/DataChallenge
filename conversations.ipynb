{
 "cells": [
  {
   "cell_type": "code",
   "execution_count": 1,
   "metadata": {
    "colab": {},
    "colab_type": "code",
    "id": "qKfO7rvxvAIZ"
   },
   "outputs": [],
   "source": [
    "import pandas as pd\n",
    "import numpy as np\n",
    "import math"
   ]
  },
  {
   "cell_type": "code",
   "execution_count": 2,
   "metadata": {},
   "outputs": [],
   "source": [
    "pd.options.display.float_format = '{:.0f}'.format"
   ]
  },
  {
   "cell_type": "markdown",
   "metadata": {},
   "source": [
    "<h2>Only for google colab:</h2>"
   ]
  },
  {
   "cell_type": "code",
   "execution_count": 3,
   "metadata": {
    "colab": {
     "base_uri": "https://localhost:8080/",
     "height": 128
    },
    "colab_type": "code",
    "executionInfo": {
     "elapsed": 21709,
     "status": "ok",
     "timestamp": 1588837251774,
     "user": {
      "displayName": "Rianne vd Leeuw",
      "photoUrl": "",
      "userId": "11464058957655713375"
     },
     "user_tz": -120
    },
    "id": "JKGmFfGy2RNi",
    "outputId": "5a9a9c88-d199-4e49-9046-ebda6ce181c3"
   },
   "outputs": [],
   "source": [
    "# from google.colab import drive\n",
    "# drive.mount('/content/gdrive/')\n",
    "\n",
    "# !ls '/content/gdrive/My Drive/Data challenge/code'\n",
    "\n",
    "# # import single json file as dataframe\n",
    "# df = pd.read_json('/content/gdrive/My Drive/Data challenge/code/airlines-1558527599826.json', orient = 'records', lines = True)"
   ]
  },
  {
   "cell_type": "code",
   "execution_count": 145,
   "metadata": {},
   "outputs": [
    {
     "name": "stderr",
     "output_type": "stream",
     "text": [
      "C:\\Users\\philipp\\Anaconda3\\lib\\site-packages\\IPython\\core\\interactiveshell.py:3020: DtypeWarning: Columns (1) have mixed types.Specify dtype option on import or set low_memory=False.\n",
      "  interactivity=interactivity, compiler=compiler, result=result)\n"
     ]
    }
   ],
   "source": [
    "# df = pd.read_json('airlines-1558527599826.json', orient = 'records', lines = True)\n",
    "df = pd.read_csv('Full_basic.csv', usecols=['id_str','created_at'])"
   ]
  },
  {
   "cell_type": "code",
   "execution_count": 146,
   "metadata": {
    "scrolled": true
   },
   "outputs": [],
   "source": [
    "not_number = df[df['id_str'].isna()]\n",
    "lst = not_number.index\n",
    "df.drop(lst, inplace = True)\n",
    "df['id_str']=df['id_str'].astype('int64')\n",
    "# df['id']=df['id'].astype('int64')\n",
    "df = df.rename({'id_str': 'id'}, axis=1)"
   ]
  },
  {
   "cell_type": "code",
   "execution_count": 147,
   "metadata": {},
   "outputs": [],
   "source": [
    "df_conv = pd.read_csv('conversation_full.csv')"
   ]
  },
  {
   "cell_type": "code",
   "execution_count": 148,
   "metadata": {},
   "outputs": [],
   "source": [
    "df['in_reply_to_status_id']=df_conv['in_reply_to_status_id']"
   ]
  },
  {
   "cell_type": "code",
   "execution_count": 149,
   "metadata": {
    "colab": {
     "base_uri": "https://localhost:8080/",
     "height": 204
    },
    "colab_type": "code",
    "executionInfo": {
     "elapsed": 488,
     "status": "ok",
     "timestamp": 1588779602768,
     "user": {
      "displayName": "phhil",
      "photoUrl": "",
      "userId": "08514152688446212477"
     },
     "user_tz": -120
    },
    "id": "Pi_fWrSbvIvg",
    "outputId": "0529bb00-8ab5-4738-9c50-bf11ef239073",
    "scrolled": true
   },
   "outputs": [
    {
     "data": {
      "text/plain": [
       "created_at                object\n",
       "id                         int64\n",
       "in_reply_to_status_id    float64\n",
       "dtype: object"
      ]
     },
     "execution_count": 149,
     "metadata": {},
     "output_type": "execute_result"
    }
   ],
   "source": [
    "# disply available columns\n",
    "df.dtypes"
   ]
  },
  {
   "cell_type": "code",
   "execution_count": 150,
   "metadata": {},
   "outputs": [],
   "source": [
    "conv_list=[]"
   ]
  },
  {
   "cell_type": "code",
   "execution_count": 151,
   "metadata": {},
   "outputs": [],
   "source": [
    "df=df.sort_values('created_at')"
   ]
  },
  {
   "cell_type": "code",
   "execution_count": 152,
   "metadata": {},
   "outputs": [],
   "source": [
    "# def myindex(lst, target):\n",
    "#     for index, item in enumerate(lst):\n",
    "#         if item == target:\n",
    "#             return [index]\n",
    "#         if isinstance(item, str): # or 'basestring' in 2.x\n",
    "#             return []\n",
    "#         try:\n",
    "#             path = myindex(item, target)\n",
    "#         except TypeError:\n",
    "#             pass\n",
    "#         else:\n",
    "#             if path:\n",
    "#                 return [index] + path\n",
    "#     return []"
   ]
  },
  {
   "cell_type": "code",
   "execution_count": 153,
   "metadata": {
    "colab": {
     "base_uri": "https://localhost:8080/",
     "height": 168
    },
    "colab_type": "code",
    "executionInfo": {
     "elapsed": 507,
     "status": "ok",
     "timestamp": 1588779803235,
     "user": {
      "displayName": "phhil",
      "photoUrl": "",
      "userId": "08514152688446212477"
     },
     "user_tz": -120
    },
    "id": "X3jc_iKvvTN2",
    "outputId": "553d2c1b-36af-410e-f436-472d445db649"
   },
   "outputs": [],
   "source": [
    "# contain=[]\n",
    "# index_length=0\n",
    "# for row in df.itertuples():\n",
    "    \n",
    "#     if math.isnan(getattr(row,'id')):\n",
    "#         print('id is nan')\n",
    "#         continue\n",
    "# #     print(int(getattr(row,'id')))\n",
    "# #     print(type(getattr(row,'in_reply_to_status_id')))\n",
    "#     if math.isnan(getattr(row,'in_reply_to_status_id')):\n",
    "#         conv_list.append([int(getattr(row,'id'))])\n",
    "#     else:\n",
    "#         index=myindex(conv_list,int(getattr(row,'in_reply_to_status_id')))\n",
    "#         if len(index)>index_length:\n",
    "#             index_length=len(index)\n",
    "#         if len(index)==0:\n",
    "# #             print('could not match in_reply_to_status_id',int(getattr(row,'in_reply_to_status_id')))\n",
    "#             continue\n",
    "#         if len(index)==1:\n",
    "#             if type(conv_list[index[0]]) is int:\n",
    "#                 conv_list[index[0]]=[conv_list[index[0]]]\n",
    "#             conv_list[index[0]].append(int(getattr(row,'id')))\n",
    "#             continue\n",
    "#         if len(index)==2:\n",
    "#             if type(conv_list[index[0]][index[1]]) is int:\n",
    "#                 conv_list[index[0]][index[1]]=[conv_list[index[0]][index[1]]]\n",
    "#             conv_list[index[0]][index[1]].append(int(getattr(row,'id')))\n",
    "#             continue\n",
    "#         if len(index)==3:\n",
    "#             if type(conv_list[index[0]][index[1]][index[2]]) is int:\n",
    "#                 conv_list[index[0]][index[1]][index[2]]=[conv_list[index[0]][index[1]][index[2]]]\n",
    "#             conv_list[index[0]][index[1]][index[2]].append(int(getattr(row,'id')))\n",
    "#             continue\n",
    "#         if len(index)==4:\n",
    "#             if type(conv_list[index[0]][index[1]][index[2]][index[3]]) is int:\n",
    "#                 conv_list[index[0]][index[1]][index[2]][index[3]]=[conv_list[index[0]][index[1]][index[2]][index[3]]]\n",
    "#             conv_list[index[0]][index[1]][index[2]][index[3]].append(int(getattr(row,'id')))\n",
    "#             continue\n",
    "#         if len(index)==5:\n",
    "#             if type(conv_list[index[0]][index[1]][index[2]][index[3]][index[4]]) is int:\n",
    "#                 conv_list[index[0]][index[1]][index[2]][index[3]][index[4]]=[conv_list[index[0]][index[1]][index[2]][index[3]][index[4]]]\n",
    "#             conv_list[index[0]][index[1]][index[2]][index[3]][index[4]].append(int(getattr(row,'id')))\n",
    "#             continue\n",
    "#         if len(index)==6:\n",
    "#             if type(conv_list[index[0]][index[1]][index[2]][index[3]][index[4]][index[5]]) is int:\n",
    "#                 conv_list[index[0]][index[1]][index[2]][index[3]][index[4]][index[5]]=[conv_list[index[0]][index[1]][index[2]][index[3]][index[4]][index[5]]]\n",
    "#             conv_list[index[0]][index[1]][index[2]][index[3]][index[4]][index[5]].append(int(getattr(row,'id')))\n",
    "#         if len(index)==7:\n",
    "#             if type(conv_list[index[0]][index[1]][index[2]][index[3]][index[4]][index[5]][index[6]]) is int:\n",
    "#                 conv_list[index[0]][index[1]][index[2]][index[3]][index[4]][index[5]][index[6]]=[conv_list[index[0]][index[1]][index[2]][index[3]][index[4]][index[5]][index[6]]]\n",
    "#             conv_list[index[0]][index[1]][index[2]][index[3]][index[4]][index[5]][index[6]].append(int(getattr(row,'id')))"
   ]
  },
  {
   "cell_type": "code",
   "execution_count": 154,
   "metadata": {},
   "outputs": [],
   "source": [
    "df.drop_duplicates(subset =\"id\", \n",
    "                     keep = 'first', inplace = True)"
   ]
  },
  {
   "cell_type": "code",
   "execution_count": 155,
   "metadata": {
    "scrolled": true
   },
   "outputs": [],
   "source": [
    "df=df.drop(df[df['id']==df['in_reply_to_status_id']].index)"
   ]
  },
  {
   "cell_type": "code",
   "execution_count": 156,
   "metadata": {
    "scrolled": true
   },
   "outputs": [],
   "source": [
    "def met1():\n",
    "    index=0\n",
    "    conv_list=[]\n",
    "    used=[]\n",
    "    def lookup(ids):\n",
    "        ret_list=[]\n",
    "        for row in df[df['in_reply_to_status_id']==ids].itertuples():\n",
    "            used.append(getattr(row,'id'))\n",
    "            buffer=df[df['id']==getattr(row,'id')]\n",
    "            if len(buffer)==0:\n",
    "                ret_list.append(getattr(row,'id'))\n",
    "            else:\n",
    "                lookup_ret=lookup(buffer['id'].item())\n",
    "                if lookup_ret:\n",
    "                    ret_list.extend([getattr(row,'id'),lookup_ret])\n",
    "                else:\n",
    "                    ret_list.append(getattr(row,'id'))\n",
    "        if len(ret_list)==0:\n",
    "            return\n",
    "        return ret_list\n",
    "\n",
    "    for row in df.itertuples():\n",
    "        index+=1\n",
    "        if math.isnan(getattr(row,'id')):continue\n",
    "        this_id=getattr(row,'id')\n",
    "        if this_id in used: continue\n",
    "        bla=[this_id]\n",
    "        lookup_ret=lookup(this_id)\n",
    "        if lookup_ret:\n",
    "            if len(lookup_ret)==1:\n",
    "                bla.append(lookup_ret[0])\n",
    "            else:\n",
    "                bla.extend(lookup_ret)\n",
    "        conv_list.append(bla)"
   ]
  },
  {
   "cell_type": "code",
   "execution_count": 157,
   "metadata": {
    "scrolled": true
   },
   "outputs": [],
   "source": [
    "def met2():\n",
    "    def lookup(ids):\n",
    "        ret_list=[]\n",
    "        for row in df[df['in_reply_to_status_id']==ids].itertuples():\n",
    "            used.append(getattr(row,'id'))\n",
    "            buffer=df[df['id']==getattr(row,'id')]\n",
    "            if len(buffer)==0:\n",
    "                ret_list.append(getattr(row,'id'))\n",
    "            else:\n",
    "                lookup_ret=lookup(buffer['id'].item())\n",
    "                if lookup_ret:\n",
    "                    ret_list.extend([getattr(row,'id'),lookup_ret])\n",
    "                else:\n",
    "                    ret_list.append(getattr(row,'id'))\n",
    "        if len(ret_list)==0:\n",
    "            return\n",
    "        return ret_list\n",
    "    index=0\n",
    "    used=[]\n",
    "    with open('conversations_list.txt', 'w') as f:        \n",
    "        for row in df.itertuples():\n",
    "            index+=1\n",
    "            if math.isnan(getattr(row,'id')):continue\n",
    "            this_id=getattr(row,'id')\n",
    "            if this_id in used: continue\n",
    "            bla=[this_id]\n",
    "            lookup_ret=lookup(this_id)\n",
    "            if lookup_ret:\n",
    "                if len(lookup_ret)==1:\n",
    "                    bla.append(lookup_ret[0])\n",
    "                else:\n",
    "                    bla.extend(lookup_ret)\n",
    "            f.write(\"%s\\n\" % bla)"
   ]
  },
  {
   "cell_type": "code",
   "execution_count": 164,
   "metadata": {},
   "outputs": [],
   "source": [
    "def met4():\n",
    "    def lookup(ids):\n",
    "        ret_list=[]\n",
    "        for row in df[df['in_reply_to_status_id']==ids].itertuples():\n",
    "            used.add(getattr(row,'id'), )\n",
    "            buffer=df[df['id']==getattr(row,'id')]\n",
    "            if len(buffer)==0:\n",
    "                ret_list.append(getattr(row,'id'))\n",
    "            else:\n",
    "                lookup_ret=lookup(buffer['id'].item())\n",
    "                if lookup_ret:\n",
    "                    ret_list.extend([getattr(row,'id'),lookup_ret])\n",
    "                else:\n",
    "                    ret_list.append(getattr(row,'id'))\n",
    "        if len(ret_list)==0:\n",
    "            return\n",
    "        return ret_list\n",
    "    index=0\n",
    "    used=set()\n",
    "    with open('conversations_list.txt', 'w') as f:        \n",
    "        for row in df.itertuples():\n",
    "            index+=1\n",
    "            if math.isnan(getattr(row,'id')):continue\n",
    "            this_id=getattr(row,'id')\n",
    "            if this_id in used: continue\n",
    "            bla=[this_id]\n",
    "            try:\n",
    "                lookup_ret=lookup(this_id)\n",
    "            except:\n",
    "                continue\n",
    "            if lookup_ret:\n",
    "                if len(lookup_ret)==1:\n",
    "                    bla.append(lookup_ret[0])\n",
    "                else:\n",
    "                    bla.extend(lookup_ret)\n",
    "            f.write(\"%s\\n\" % bla)"
   ]
  },
  {
   "cell_type": "code",
   "execution_count": null,
   "metadata": {},
   "outputs": [],
   "source": [
    "%%time\n",
    "met4()"
   ]
  },
  {
   "cell_type": "code",
   "execution_count": 46,
   "metadata": {},
   "outputs": [
    {
     "data": {
      "text/plain": [
       "2"
      ]
     },
     "execution_count": 46,
     "metadata": {},
     "output_type": "execute_result"
    }
   ],
   "source": [
    "index"
   ]
  },
  {
   "cell_type": "code",
   "execution_count": 47,
   "metadata": {},
   "outputs": [
    {
     "data": {
      "text/html": [
       "<div>\n",
       "<style scoped>\n",
       "    .dataframe tbody tr th:only-of-type {\n",
       "        vertical-align: middle;\n",
       "    }\n",
       "\n",
       "    .dataframe tbody tr th {\n",
       "        vertical-align: top;\n",
       "    }\n",
       "\n",
       "    .dataframe thead th {\n",
       "        text-align: right;\n",
       "    }\n",
       "</style>\n",
       "<table border=\"1\" class=\"dataframe\">\n",
       "  <thead>\n",
       "    <tr style=\"text-align: right;\">\n",
       "      <th></th>\n",
       "      <th>id</th>\n",
       "      <th>in_reply_to_status_id</th>\n",
       "    </tr>\n",
       "  </thead>\n",
       "  <tbody>\n",
       "    <tr>\n",
       "      <th>1342362</th>\n",
       "      <td>1146945669124386816</td>\n",
       "      <td>1146945669124386816</td>\n",
       "    </tr>\n",
       "  </tbody>\n",
       "</table>\n",
       "</div>"
      ],
      "text/plain": [
       "                          id  in_reply_to_status_id\n",
       "1342362  1146945669124386816    1146945669124386816"
      ]
     },
     "execution_count": 47,
     "metadata": {},
     "output_type": "execute_result"
    }
   ],
   "source": [
    "df[df['id']==1146945669124386816][['id','in_reply_to_status_id']]"
   ]
  },
  {
   "cell_type": "code",
   "execution_count": 48,
   "metadata": {},
   "outputs": [
    {
     "data": {
      "text/html": [
       "<div>\n",
       "<style scoped>\n",
       "    .dataframe tbody tr th:only-of-type {\n",
       "        vertical-align: middle;\n",
       "    }\n",
       "\n",
       "    .dataframe tbody tr th {\n",
       "        vertical-align: top;\n",
       "    }\n",
       "\n",
       "    .dataframe thead th {\n",
       "        text-align: right;\n",
       "    }\n",
       "</style>\n",
       "<table border=\"1\" class=\"dataframe\">\n",
       "  <thead>\n",
       "    <tr style=\"text-align: right;\">\n",
       "      <th></th>\n",
       "      <th>created_at</th>\n",
       "      <th>id</th>\n",
       "      <th>in_reply_to_status_id</th>\n",
       "    </tr>\n",
       "  </thead>\n",
       "  <tbody>\n",
       "    <tr>\n",
       "      <th>1342362</th>\n",
       "      <td>Fri Jul 05 00:55:31 +0000 2019</td>\n",
       "      <td>1146945669124386816</td>\n",
       "      <td>1146945669124386816</td>\n",
       "    </tr>\n",
       "    <tr>\n",
       "      <th>1342376</th>\n",
       "      <td>Fri Jul 05 00:57:34 +0000 2019</td>\n",
       "      <td>1146946184927469568</td>\n",
       "      <td>1146945669124386816</td>\n",
       "    </tr>\n",
       "  </tbody>\n",
       "</table>\n",
       "</div>"
      ],
      "text/plain": [
       "                             created_at                   id  \\\n",
       "1342362  Fri Jul 05 00:55:31 +0000 2019  1146945669124386816   \n",
       "1342376  Fri Jul 05 00:57:34 +0000 2019  1146946184927469568   \n",
       "\n",
       "         in_reply_to_status_id  \n",
       "1342362    1146945669124386816  \n",
       "1342376    1146945669124386816  "
      ]
     },
     "execution_count": 48,
     "metadata": {},
     "output_type": "execute_result"
    }
   ],
   "source": [
    "df[df['in_reply_to_status_id']==1146945669124386816]"
   ]
  },
  {
   "cell_type": "code",
   "execution_count": null,
   "metadata": {},
   "outputs": [],
   "source": [
    "df[df['in_reply_to_status_id']==1154291993113243648]"
   ]
  },
  {
   "cell_type": "code",
   "execution_count": null,
   "metadata": {
    "scrolled": true
   },
   "outputs": [],
   "source": [
    "print(conv_list)"
   ]
  },
  {
   "cell_type": "markdown",
   "metadata": {},
   "source": [
    "<h2>Removing single tweets:</h2>"
   ]
  },
  {
   "cell_type": "code",
   "execution_count": null,
   "metadata": {
    "scrolled": true
   },
   "outputs": [],
   "source": [
    "# def recursive_len(item):\n",
    "#     if type(item) == list:\n",
    "#         return sum(recursive_len(subitem) for subitem in item)\n",
    "#     else:\n",
    "#         return 1\n",
    "\n",
    "# length=0\n",
    "# for x in range(len(conv_list),0):\n",
    "#     if recursive_len(von_list[x])==1:\n",
    "#          conv_list.remove(x)"
   ]
  },
  {
   "cell_type": "code",
   "execution_count": null,
   "metadata": {},
   "outputs": [],
   "source": [
    "len(conv_list)"
   ]
  },
  {
   "cell_type": "code",
   "execution_count": null,
   "metadata": {},
   "outputs": [],
   "source": []
  },
  {
   "cell_type": "code",
   "execution_count": null,
   "metadata": {},
   "outputs": [],
   "source": []
  }
 ],
 "metadata": {
  "colab": {
   "collapsed_sections": [],
   "name": "conversations.ipynb",
   "provenance": []
  },
  "kernelspec": {
   "display_name": "Python 3",
   "language": "python",
   "name": "python3"
  },
  "language_info": {
   "codemirror_mode": {
    "name": "ipython",
    "version": 3
   },
   "file_extension": ".py",
   "mimetype": "text/x-python",
   "name": "python",
   "nbconvert_exporter": "python",
   "pygments_lexer": "ipython3",
   "version": "3.7.1"
  }
 },
 "nbformat": 4,
 "nbformat_minor": 1
}
