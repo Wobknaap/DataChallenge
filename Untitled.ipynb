{
 "cells": [
  {
   "cell_type": "code",
   "execution_count": 1,
   "metadata": {},
   "outputs": [
    {
     "name": "stdout",
     "output_type": "stream",
     "text": [
      "Python version is 3.7.5 (tags/v3.7.5:5c02a39a0b, Oct 15 2019, 00:11:34) [MSC v.1916 64 bit (AMD64)]\n",
      "Pandas version is 1.0.3\n",
      "C:/Users/20193815/Documents/Data Challenge/full_basic_with_sentiment.csv\n"
     ]
    },
    {
     "name": "stderr",
     "output_type": "stream",
     "text": [
      "c:\\users\\20193815\\appdata\\local\\programs\\python\\python37\\lib\\site-packages\\IPython\\core\\interactiveshell.py:3063: DtypeWarning: Columns (2,3,5,7) have mixed types.Specify dtype option on import or set low_memory=False.\n",
      "  interactivity=interactivity, compiler=compiler, result=result)\n"
     ]
    },
    {
     "name": "stdout",
     "output_type": "stream",
     "text": [
      "Unnamed: 0        int64\n",
      "_id              object\n",
      "created_at       object\n",
      "id               object\n",
      "id_str          float64\n",
      "text             object\n",
      "user.id_str     float64\n",
      "lang             object\n",
      "timestamp_ms    float64\n",
      "sentiment         int64\n",
      "dtype: object\n",
      "created_at converted to string, use timestamp for datetime dtype\n",
      "Skip id, use id_str instead\n",
      "timestamp converted to datetime dtype\n",
      "Dtypes after transformation:\n",
      " Unnamed: 0               int64\n",
      "created_at              object\n",
      "id                      object\n",
      "id_str                   Int64\n",
      "text                    object\n",
      "user.id_str              Int64\n",
      "lang                    object\n",
      "timestamp_ms    datetime64[ns]\n",
      "sentiment                int64\n",
      "dtype: object\n"
     ]
    }
   ],
   "source": [
    "%run import_file.ipynb"
   ]
  },
  {
   "cell_type": "code",
   "execution_count": 2,
   "metadata": {},
   "outputs": [
    {
     "data": {
      "text/html": [
       "<div>\n",
       "<style scoped>\n",
       "    .dataframe tbody tr th:only-of-type {\n",
       "        vertical-align: middle;\n",
       "    }\n",
       "\n",
       "    .dataframe tbody tr th {\n",
       "        vertical-align: top;\n",
       "    }\n",
       "\n",
       "    .dataframe thead th {\n",
       "        text-align: right;\n",
       "    }\n",
       "</style>\n",
       "<table border=\"1\" class=\"dataframe\">\n",
       "  <thead>\n",
       "    <tr style=\"text-align: right;\">\n",
       "      <th></th>\n",
       "      <th>Unnamed: 0</th>\n",
       "      <th>created_at</th>\n",
       "      <th>id</th>\n",
       "      <th>id_str</th>\n",
       "      <th>text</th>\n",
       "      <th>user.id_str</th>\n",
       "      <th>lang</th>\n",
       "      <th>timestamp_ms</th>\n",
       "      <th>sentiment</th>\n",
       "    </tr>\n",
       "  </thead>\n",
       "  <tbody>\n",
       "    <tr>\n",
       "      <th>0</th>\n",
       "      <td>0</td>\n",
       "      <td>Wed May 22 12:20:00 +0000 2019</td>\n",
       "      <td>1.13117e+18</td>\n",
       "      <td>1131172858951024640</td>\n",
       "      <td>La ruta de easyJet entre Londres y Menorca tra...</td>\n",
       "      <td>393374091</td>\n",
       "      <td>es</td>\n",
       "      <td>2019-05-22 12:20:00.406</td>\n",
       "      <td>0</td>\n",
       "    </tr>\n",
       "    <tr>\n",
       "      <th>1</th>\n",
       "      <td>1</td>\n",
       "      <td>Wed May 22 12:20:01 +0000 2019</td>\n",
       "      <td>1.13117e+18</td>\n",
       "      <td>1131172864147808384</td>\n",
       "      <td>RT @bttr_as1: @goody_tracy Here’s a list of so...</td>\n",
       "      <td>3420691215</td>\n",
       "      <td>en</td>\n",
       "      <td>2019-05-22 12:20:01.645</td>\n",
       "      <td>1</td>\n",
       "    </tr>\n",
       "    <tr>\n",
       "      <th>2</th>\n",
       "      <td>2</td>\n",
       "      <td>Wed May 22 12:20:02 +0000 2019</td>\n",
       "      <td>1.13117e+18</td>\n",
       "      <td>1131172867985485824</td>\n",
       "      <td>@British_Airways</td>\n",
       "      <td>394376606</td>\n",
       "      <td>und</td>\n",
       "      <td>2019-05-22 12:20:02.560</td>\n",
       "      <td>0</td>\n",
       "    </tr>\n",
       "    <tr>\n",
       "      <th>3</th>\n",
       "      <td>3</td>\n",
       "      <td>Wed May 22 12:20:12 +0000 2019</td>\n",
       "      <td>1.13117e+18</td>\n",
       "      <td>1131172909463027584</td>\n",
       "      <td>RT @TheRaceRadio: Nice change by @AmericanAir....</td>\n",
       "      <td>36488556</td>\n",
       "      <td>en</td>\n",
       "      <td>2019-05-22 12:20:12.449</td>\n",
       "      <td>1</td>\n",
       "    </tr>\n",
       "    <tr>\n",
       "      <th>4</th>\n",
       "      <td>4</td>\n",
       "      <td>Wed May 22 12:20:28 +0000 2019</td>\n",
       "      <td>1.13117e+18</td>\n",
       "      <td>1131172975682605056</td>\n",
       "      <td>RT @sandeeprrao1991: BREAKING:-\\nKLM to fly 3x...</td>\n",
       "      <td>14193348</td>\n",
       "      <td>en</td>\n",
       "      <td>2019-05-22 12:20:28.237</td>\n",
       "      <td>0</td>\n",
       "    </tr>\n",
       "  </tbody>\n",
       "</table>\n",
       "</div>"
      ],
      "text/plain": [
       "   Unnamed: 0                      created_at           id  \\\n",
       "0           0  Wed May 22 12:20:00 +0000 2019  1.13117e+18   \n",
       "1           1  Wed May 22 12:20:01 +0000 2019  1.13117e+18   \n",
       "2           2  Wed May 22 12:20:02 +0000 2019  1.13117e+18   \n",
       "3           3  Wed May 22 12:20:12 +0000 2019  1.13117e+18   \n",
       "4           4  Wed May 22 12:20:28 +0000 2019  1.13117e+18   \n",
       "\n",
       "                id_str                                               text  \\\n",
       "0  1131172858951024640  La ruta de easyJet entre Londres y Menorca tra...   \n",
       "1  1131172864147808384  RT @bttr_as1: @goody_tracy Here’s a list of so...   \n",
       "2  1131172867985485824                                   @British_Airways   \n",
       "3  1131172909463027584  RT @TheRaceRadio: Nice change by @AmericanAir....   \n",
       "4  1131172975682605056  RT @sandeeprrao1991: BREAKING:-\\nKLM to fly 3x...   \n",
       "\n",
       "   user.id_str lang            timestamp_ms  sentiment  \n",
       "0    393374091   es 2019-05-22 12:20:00.406          0  \n",
       "1   3420691215   en 2019-05-22 12:20:01.645          1  \n",
       "2    394376606  und 2019-05-22 12:20:02.560          0  \n",
       "3     36488556   en 2019-05-22 12:20:12.449          1  \n",
       "4     14193348   en 2019-05-22 12:20:28.237          0  "
      ]
     },
     "execution_count": 2,
     "metadata": {},
     "output_type": "execute_result"
    }
   ],
   "source": [
    "df.head()"
   ]
  }
 ],
 "metadata": {
  "kernelspec": {
   "display_name": "Python 3",
   "language": "python",
   "name": "python3"
  },
  "language_info": {
   "codemirror_mode": {
    "name": "ipython",
    "version": 3
   },
   "file_extension": ".py",
   "mimetype": "text/x-python",
   "name": "python",
   "nbconvert_exporter": "python",
   "pygments_lexer": "ipython3",
   "version": "3.7.5"
  }
 },
 "nbformat": 4,
 "nbformat_minor": 4
}
