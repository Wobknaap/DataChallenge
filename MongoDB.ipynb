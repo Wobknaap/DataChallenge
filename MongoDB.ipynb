{
 "cells": [
  {
   "cell_type": "code",
   "execution_count": 1,
   "metadata": {},
   "outputs": [],
   "source": [
    "import os, json\n",
    "import pandas as pd\n",
    "import numpy as np\n",
    "import pymongo as mo\n",
    "from pymongo import MongoClient\n",
    "from bson import json_util"
   ]
  },
  {
   "cell_type": "code",
   "execution_count": 2,
   "metadata": {},
   "outputs": [],
   "source": [
    "client = mo.MongoClient('localhost', 27017)"
   ]
  },
  {
   "cell_type": "code",
   "execution_count": 3,
   "metadata": {},
   "outputs": [],
   "source": [
    "db = client['airplanes_all_db']\n",
    "collection_airplane = db['airplanes_all_collection']"
   ]
  },
  {
   "cell_type": "code",
   "execution_count": 4,
   "metadata": {},
   "outputs": [],
   "source": [
    "contents = db.contents"
   ]
  },
  {
   "cell_type": "code",
   "execution_count": null,
   "metadata": {},
   "outputs": [],
   "source": []
  },
  {
   "cell_type": "code",
   "execution_count": 5,
   "metadata": {},
   "outputs": [],
   "source": [
    "directory = r'C:\\Users\\20193815\\Documents\\Data Challenge\\Month'"
   ]
  },
  {
   "cell_type": "code",
   "execution_count": 6,
   "metadata": {},
   "outputs": [
    {
     "name": "stdout",
     "output_type": "stream",
     "text": [
      "airlines-1558527599826.json\n",
      "airlines-1558546003827.json\n",
      "airlines-1558611772040.json\n",
      "airlines-1558623303180.json\n",
      "airlines-1558678330070.json\n",
      "airlines-1558697205154.json\n",
      "airlines-1558744391657.json\n",
      "airlines-1558779687636.json\n",
      "airlines-1558863520888.json\n",
      "airlines-1558888297881.json\n",
      "airlines-1558974571041.json\n",
      "airlines-1558998029487.json\n",
      "airlines-1559069822287.json\n",
      "airlines-1559097885748.json\n",
      "airlines-1559142170524.json\n",
      "airlines-1559156713030.json\n",
      "airlines-1559231904332.json\n",
      "airlines-1559256655329.json\n",
      "airlines-1559323725358.json\n",
      "airlines-1559352498975.json\n",
      "airlines-1559427581830.json\n",
      "airlines-1559464285341.json\n",
      "airlines-1559501630259.json\n",
      "airlines-1559513326649.json\n",
      "airlines-1559549054414.json\n",
      "airlines-1559556316966.json\n",
      "airlines-1559580503906.json\n",
      "airlines-1559592585772.json\n",
      "airlines-1559640222186.json\n",
      "airlines-1559655706075.json\n",
      "airlines-1559705236313.json\n",
      "airlines-1559729883533.json\n",
      "airlines-1559753967610.json\n",
      "airlines-1559769009949.json\n",
      "airlines-1559802437924.json\n",
      "airlines-1559813570976.json\n",
      "airlines-1559846508795.json\n",
      "airlines-1559860041436.json\n",
      "airlines-1559893511277.json\n",
      "airlines-1559897122639.json\n",
      "airlines-1559902121479.json\n",
      "airlines-1559904272004.json\n",
      "airlines-1559909155467.json\n",
      "airlines-1559911151286.json\n",
      "airlines-1559915161616.json\n",
      "airlines-1559916992678.json\n",
      "airlines-1559921160419.json\n",
      "airlines-1559923002644.json\n",
      "airlines-1559926788058.json\n",
      "airlines-1559928540833.json\n",
      "airlines-1559932564771.json\n",
      "airlines-1559934119165.json\n",
      "airlines-1559937665320.json\n",
      "airlines-1559939261270.json\n",
      "airlines-1559942816001.json\n",
      "airlines-1559944147286.json\n",
      "airlines-1559947622068.json\n",
      "airlines-1559949250686.json\n",
      "airlines-1559953866862.json\n",
      "airlines-1559956008864.json\n",
      "airlines-1559960873940.json\n",
      "airlines-1559963157167.json\n",
      "airlines-1559969180413.json\n",
      "airlines-1559972279659.json\n",
      "airlines-1559979261665.json\n",
      "airlines-1559981995387.json\n",
      "airlines-1559988476546.json\n",
      "airlines-1559991535440.json\n",
      "airlines-1559998347395.json\n",
      "airlines-1560000901765.json\n",
      "airlines-1560005733536.json\n",
      "airlines-1560007831474.json\n",
      "airlines-1560012550556.json\n",
      "airlines-1560014686248.json\n",
      "airlines-1560020476933.json\n",
      "airlines-1560023189725.json\n",
      "airlines-1560030119237.json\n",
      "airlines-1560033347669.json\n",
      "airlines-1560042373323.json\n",
      "airlines-1560046860946.json\n",
      "airlines-1560060655061.json\n",
      "airlines-1560068673190.json\n",
      "airlines-1560092203370.json\n",
      "airlines-1560102957755.json\n",
      "airlines-1560138591670.json\n",
      "airlines-1560157203672.json\n",
      "airlines-1560215998482.json\n",
      "airlines-1560274391790.json\n",
      "airlines-1560344857180.json\n",
      "airlines-1560414222020.json\n",
      "airlines-1560492037248.json\n",
      "airlines-1560568367200.json\n",
      "airlines-1560627367633.json\n",
      "airlines-1560672980619.json\n",
      "airlines-1560700731371.json\n",
      "airlines-1560744193621.json\n",
      "airlines-1560780568306.json\n",
      "airlines-1560850520529.json\n",
      "airlines-1560891866097.json\n",
      "airlines-1560951813531.json\n",
      "airlines-1560978307300.json\n",
      "airlines-1561022289578.json\n",
      "airlines-1561049226682.json\n",
      "airlines-1561082554486.json\n",
      "airlines-1561113923197.json\n",
      "airlines-1561144186198.json\n",
      "airlines-1561207094360.json\n",
      "airlines-1561272936313.json\n",
      "airlines-1561288155121.json\n",
      "airlines-1561303000123.json\n",
      "airlines-1561324694075.json\n"
     ]
    }
   ],
   "source": [
    "counter = 0 \n",
    "os.chdir(directory)\n",
    "for file in os.listdir(directory):\n",
    "    if file.endswith(\".json\"):\n",
    "        print(file)\n",
    "        with open(file) as f:\n",
    "                try:\n",
    "                    mongo_obj = json_util.loads(\"[\" + f.read().replace(\"}\\n{\", \"},\\n{\") + \"]\")\n",
    "                    contents.insert_many(mongo_obj, ordered=False)\n",
    "                except Exception as e:\n",
    "                    try:\n",
    "                        for line in f:\n",
    "                            mongo_obj = json_util.loads(\"[\" + line.read().replace(\"}\\n{\", \"},\\n{\") + \"]\")\n",
    "                            contents.insert_many(mongo_obj, ordered=False)\n",
    "                    except:\n",
    "                        counter += 1 \n",
    "                        pass"
   ]
  },
  {
   "cell_type": "code",
   "execution_count": 7,
   "metadata": {},
   "outputs": [
    {
     "name": "stdout",
     "output_type": "stream",
     "text": [
      "0\n"
     ]
    }
   ],
   "source": [
    "print(counter)"
   ]
  },
  {
   "cell_type": "code",
   "execution_count": null,
   "metadata": {},
   "outputs": [],
   "source": []
  },
  {
   "cell_type": "code",
   "execution_count": null,
   "metadata": {},
   "outputs": [],
   "source": []
  },
  {
   "cell_type": "code",
   "execution_count": null,
   "metadata": {},
   "outputs": [],
   "source": []
  },
  {
   "cell_type": "code",
   "execution_count": null,
   "metadata": {},
   "outputs": [],
   "source": []
  },
  {
   "cell_type": "code",
   "execution_count": null,
   "metadata": {},
   "outputs": [],
   "source": []
  }
 ],
 "metadata": {
  "kernelspec": {
   "display_name": "Python 3",
   "language": "python",
   "name": "python3"
  },
  "language_info": {
   "codemirror_mode": {
    "name": "ipython",
    "version": 3
   },
   "file_extension": ".py",
   "mimetype": "text/x-python",
   "name": "python",
   "nbconvert_exporter": "python",
   "pygments_lexer": "ipython3",
   "version": "3.7.5"
  }
 },
 "nbformat": 4,
 "nbformat_minor": 2
}
