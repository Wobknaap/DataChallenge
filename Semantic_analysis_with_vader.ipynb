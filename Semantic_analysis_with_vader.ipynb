{
 "cells": [
  {
   "cell_type": "code",
   "execution_count": null,
   "metadata": {},
   "outputs": [],
   "source": [
    "#pip install vaderSentiment"
   ]
  },
  {
   "cell_type": "code",
   "execution_count": 7,
   "metadata": {},
   "outputs": [],
   "source": [
    "import pandas as pd\n",
    "import json\n",
    "from vaderSentiment.vaderSentiment import SentimentIntensityAnalyzer\n",
    "from translate import Translator                    # translation api \n",
    "pd.set_option('display.max_colwidth', -1)\n",
    "\n",
    "\n",
    "analyser = SentimentIntensityAnalyzer()                     # library documention https://github.com/cjhutto/vaderSentiment/blob/master/README.rst\n",
    "translator = Translator(to_lang = 'english')\n",
    "\n",
    "                         # opening one json for testing \n",
    "df= pd.read_json('C:/Users/20193623/Desktop/DBL Data Challange/JSON file 1/airlines-1558527599826.json', lines=True)\n"
   ]
  },
  {
   "cell_type": "code",
   "execution_count": 8,
   "metadata": {},
   "outputs": [],
   "source": [
    "def sentiment_analyzer_scores(text, engl=True):\n",
    "    if engl:                                     # if the leng is engl it skips the translation\n",
    "        trans = text\n",
    "    else:\n",
    "        trans = translator.translate(text).text    # it translates the text\n",
    "    score = analyser.polarity_scores(trans)     # gets the scores from the library \n",
    "    lb = score['compound']\n",
    "    if lb >= 0.05:                              # divides the sentiment score into (-1,0,1) \n",
    "        return 1                                # can be changed to even more catagories\n",
    "    elif (lb > -0.05) and (lb < 0.05):               \n",
    "        return 0\n",
    "    else:\n",
    "        return -1"
   ]
  },
  {
   "cell_type": "code",
   "execution_count": 9,
   "metadata": {},
   "outputs": [],
   "source": [
    "sentiment = []                        # gets a list of all the sentimental values of the tweets\n",
    "for x in range(len(df)) :  \n",
    "    \n",
    "    sentiment.append(sentiment_analyzer_scores(str(df['text'][x])))\n"
   ]
  },
  {
   "cell_type": "code",
   "execution_count": 10,
   "metadata": {},
   "outputs": [],
   "source": [
    "df.insert(28 ,'sentiment', sentiment)   # inserting the sentimental values into the dataframe"
   ]
  },
  {
   "cell_type": "code",
   "execution_count": 15,
   "metadata": {},
   "outputs": [
    {
     "data": {
      "text/html": [
       "<div>\n",
       "<style scoped>\n",
       "    .dataframe tbody tr th:only-of-type {\n",
       "        vertical-align: middle;\n",
       "    }\n",
       "\n",
       "    .dataframe tbody tr th {\n",
       "        vertical-align: top;\n",
       "    }\n",
       "\n",
       "    .dataframe thead th {\n",
       "        text-align: right;\n",
       "    }\n",
       "</style>\n",
       "<table border=\"1\" class=\"dataframe\">\n",
       "  <thead>\n",
       "    <tr style=\"text-align: right;\">\n",
       "      <th></th>\n",
       "      <th>text</th>\n",
       "      <th>sentiment</th>\n",
       "    </tr>\n",
       "  </thead>\n",
       "  <tbody>\n",
       "    <tr>\n",
       "      <th>13116</th>\n",
       "      <td>I’m saying yes to Europe 🇪🇺 and am visiting Romania 🇷🇴 for the first time today. But l’ll be back in time for… https://t.co/EexVmUdPXK</td>\n",
       "      <td>1</td>\n",
       "    </tr>\n",
       "    <tr>\n",
       "      <th>9098</th>\n",
       "      <td>@VirginAtlantic Thanks VA. A team member is working with them on directly to answer their question another tweet. HJH</td>\n",
       "      <td>1</td>\n",
       "    </tr>\n",
       "    <tr>\n",
       "      <th>6883</th>\n",
       "      <td>ryanair kendilerinden 250 euro tazminat aldığım için hala beni uçurup para kazanmaya çalışıyor ama yemezler ölene d… https://t.co/V93NAR9VNP</td>\n",
       "      <td>0</td>\n",
       "    </tr>\n",
       "    <tr>\n",
       "      <th>5002</th>\n",
       "      <td>@debs_field @MattHimsworth @EllaMinty @HimsworthScott I didn't see it, but then I was on @british_airways and the F… https://t.co/wXhOeR7JTG</td>\n",
       "      <td>0</td>\n",
       "    </tr>\n",
       "    <tr>\n",
       "      <th>8127</th>\n",
       "      <td>@ElTuiterDeLalo @British_Airways Últimamente he visto que muchas personas se quejan de su servicio :( ojalá pronto… https://t.co/xCLFAisTeg</td>\n",
       "      <td>-1</td>\n",
       "    </tr>\n",
       "    <tr>\n",
       "      <th>9836</th>\n",
       "      <td>@MichaelSeel We're sorry about the wait. We always want to get your bag to you quickly.</td>\n",
       "      <td>0</td>\n",
       "    </tr>\n",
       "    <tr>\n",
       "      <th>11068</th>\n",
       "      <td>RT @MrDenmore: Sitting in the Qantas lounge trying to find a corner not polluted by the  demented post-election crowing of the Sky After Da…</td>\n",
       "      <td>1</td>\n",
       "    </tr>\n",
       "    <tr>\n",
       "      <th>2325</th>\n",
       "      <td>RT @manairport: We couldn't resist snapping these four @VirginAtlantic Boeing 747's lined up at T2 this morning 😍✈️ We can't wait for the l…</td>\n",
       "      <td>1</td>\n",
       "    </tr>\n",
       "    <tr>\n",
       "      <th>8368</th>\n",
       "      <td>@FerCMireles @British_Airways Es nefasta la atención a cliente ¡Gracias, Fer! Abrazos de regreso : )</td>\n",
       "      <td>0</td>\n",
       "    </tr>\n",
       "    <tr>\n",
       "      <th>6659</th>\n",
       "      <td>@hendygolf @Delta @KLM @EuropeanTour @privateestatefx @RaimondiGolf Good luck Qlder</td>\n",
       "      <td>1</td>\n",
       "    </tr>\n",
       "  </tbody>\n",
       "</table>\n",
       "</div>"
      ],
      "text/plain": [
       "                                                                                                                                               text  \\\n",
       "13116  I’m saying yes to Europe 🇪🇺 and am visiting Romania 🇷🇴 for the first time today. But l’ll be back in time for… https://t.co/EexVmUdPXK         \n",
       "9098   @VirginAtlantic Thanks VA. A team member is working with them on directly to answer their question another tweet. HJH                          \n",
       "6883   ryanair kendilerinden 250 euro tazminat aldığım için hala beni uçurup para kazanmaya çalışıyor ama yemezler ölene d… https://t.co/V93NAR9VNP   \n",
       "5002   @debs_field @MattHimsworth @EllaMinty @HimsworthScott I didn't see it, but then I was on @british_airways and the F… https://t.co/wXhOeR7JTG   \n",
       "8127   @ElTuiterDeLalo @British_Airways Últimamente he visto que muchas personas se quejan de su servicio :( ojalá pronto… https://t.co/xCLFAisTeg    \n",
       "9836   @MichaelSeel We're sorry about the wait. We always want to get your bag to you quickly.                                                        \n",
       "11068  RT @MrDenmore: Sitting in the Qantas lounge trying to find a corner not polluted by the  demented post-election crowing of the Sky After Da…   \n",
       "2325   RT @manairport: We couldn't resist snapping these four @VirginAtlantic Boeing 747's lined up at T2 this morning 😍✈️ We can't wait for the l…   \n",
       "8368   @FerCMireles @British_Airways Es nefasta la atención a cliente ¡Gracias, Fer! Abrazos de regreso : )                                           \n",
       "6659   @hendygolf @Delta @KLM @EuropeanTour @privateestatefx @RaimondiGolf Good luck Qlder                                                            \n",
       "\n",
       "       sentiment  \n",
       "13116  1          \n",
       "9098   1          \n",
       "6883   0          \n",
       "5002   0          \n",
       "8127  -1          \n",
       "9836   0          \n",
       "11068  1          \n",
       "2325   1          \n",
       "8368   0          \n",
       "6659   1          "
      ]
     },
     "execution_count": 15,
     "metadata": {},
     "output_type": "execute_result"
    }
   ],
   "source": [
    "df[['text','sentiment']].sample(10)"
   ]
  }
 ],
 "metadata": {
  "kernelspec": {
   "display_name": "Python 3",
   "language": "python",
   "name": "python3"
  },
  "language_info": {
   "codemirror_mode": {
    "name": "ipython",
    "version": 3
   },
   "file_extension": ".py",
   "mimetype": "text/x-python",
   "name": "python",
   "nbconvert_exporter": "python",
   "pygments_lexer": "ipython3",
   "version": "3.7.3"
  }
 },
 "nbformat": 4,
 "nbformat_minor": 4
}
