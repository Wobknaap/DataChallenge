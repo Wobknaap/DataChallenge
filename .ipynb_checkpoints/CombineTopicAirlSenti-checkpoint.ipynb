{
 "cells": [
  {
   "cell_type": "code",
   "execution_count": 1,
   "metadata": {},
   "outputs": [],
   "source": [
    "import pandas as pd"
   ]
  },
  {
   "cell_type": "code",
   "execution_count": 2,
   "metadata": {},
   "outputs": [
    {
     "name": "stderr",
     "output_type": "stream",
     "text": [
      "C:\\Users\\20193703\\Anaconda3\\lib\\site-packages\\IPython\\core\\interactiveshell.py:3063: DtypeWarning: Columns (2,3,5,7) have mixed types.Specify dtype option on import or set low_memory=False.\n",
      "  interactivity=interactivity, compiler=compiler, result=result)\n"
     ]
    }
   ],
   "source": [
    "df_topics = pd.read_csv (r'C:\\Users\\20193703\\Documents\\University\\Data challenge\\CSV\\topic_id.csv')\n",
    "df_airlines = pd.read_csv (r'C:\\Users\\20193703\\Documents\\University\\Data challenge\\CSV\\id_airline.csv')\n",
    "df_sentiment_full = pd.read_csv (r'C:\\Users\\20193703\\Documents\\University\\Data challenge\\CSV\\full_basic_with_sentiment.csv')"
   ]
  },
  {
   "cell_type": "code",
   "execution_count": 3,
   "metadata": {},
   "outputs": [],
   "source": [
    "df_sentiment = df_sentiment_full.drop(['created_at', 'id', '_id', 'lang', 'text', 'timestamp_ms', 'user.id_str', 'Unnamed: 0'], axis = 1)\n"
   ]
  },
  {
   "cell_type": "code",
   "execution_count": 4,
   "metadata": {},
   "outputs": [
    {
     "data": {
      "text/plain": [
       "(7527686, 7984095, 6454275)"
      ]
     },
     "execution_count": 4,
     "metadata": {},
     "output_type": "execute_result"
    }
   ],
   "source": [
    "df_topics = df_topics.sort_values('id_str')\n",
    "df_sentiment = df_sentiment.sort_values('id_str')\n",
    "df_airlines = df_airlines.sort_values('id_str')\n",
    "len(df_sentiment), len(df_topics), len(df_airlines)"
   ]
  },
  {
   "cell_type": "code",
   "execution_count": null,
   "metadata": {},
   "outputs": [],
   "source": [
    "df_all = pd.merge(df_airlines, df_sentiment_full, left_on='id_str', right_on='id_str')"
   ]
  },
  {
   "cell_type": "code",
   "execution_count": null,
   "metadata": {},
   "outputs": [],
   "source": [
    "df_all = pd.merge(df_all, df_topics, left_on = 'id_str', right_on = 'id_str')"
   ]
  },
  {
   "cell_type": "code",
   "execution_count": null,
   "metadata": {},
   "outputs": [],
   "source": []
  }
 ],
 "metadata": {
  "kernelspec": {
   "display_name": "Python 3",
   "language": "python",
   "name": "python3"
  },
  "language_info": {
   "codemirror_mode": {
    "name": "ipython",
    "version": 3
   },
   "file_extension": ".py",
   "mimetype": "text/x-python",
   "name": "python",
   "nbconvert_exporter": "python",
   "pygments_lexer": "ipython3",
   "version": "3.7.6"
  }
 },
 "nbformat": 4,
 "nbformat_minor": 4
}
