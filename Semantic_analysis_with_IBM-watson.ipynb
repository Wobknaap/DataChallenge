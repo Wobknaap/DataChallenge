{
 "cells": [
  {
   "cell_type": "code",
   "execution_count": 187,
   "metadata": {},
   "outputs": [],
   "source": [
    "#pip install --upgrade ibm-watson"
   ]
  },
  {
   "cell_type": "code",
   "execution_count": 175,
   "metadata": {},
   "outputs": [],
   "source": [
    "import pandas as pd\n",
    "import json\n",
    "from translate import Translator                    # translation api \n",
    "#pd.set_option('display.max_colwidth', -1)\n",
    "\n",
    "\n",
    "\n",
    "#analyser = SentimentIntensityAnalyzer()                     # library documention https://github.com/cjhutto/vaderSentiment/blob/master/README.rst\n",
    "translator = Translator(to_lang = 'english')\n",
    "\n",
    "                         # opening one json for testing \n",
    "df = pd.read_json (r'C:\\Users\\20193673\\Desktop\\Quartile 4\\!DataChallenge\\airlines-1558527599826.json', lines=True)\n",
    "pd.set_option('display.max_columns', None)"
   ]
  },
  {
   "cell_type": "code",
   "execution_count": 179,
   "metadata": {},
   "outputs": [
    {
     "name": "stderr",
     "output_type": "stream",
     "text": [
      "C:\\ProgramData\\Anaconda3\\lib\\site-packages\\ipykernel_launcher.py:6: DeprecationWarning: watson-developer-cloud moved to ibm-watson. To get updates, use the new package.\n",
      "  \n"
     ]
    }
   ],
   "source": [
    "import watson_developer_cloud as WDC\n",
    "from watson_developer_cloud.natural_language_understanding_v1 import Features, EntitiesOptions, KeywordsOptions, SentimentOptions, CategoriesOptions\n",
    "natural_language_understanding = WDC.NaturalLanguageUnderstandingV1(                                         \n",
    "    version='2018-11-16',\n",
    "    iam_apikey='KdkxhBFqePh5Fwfhzch-qaMNsnOj0gboa6Svx61pEdSa', # Use your API key here\n",
    "    url= 'https://api.eu-de.natural-language-understanding.watson.cloud.ibm.com/instances/565d3a29-ea2e-4146-a8aa-7847c474feaf')\n"
   ]
  },
  {
   "cell_type": "code",
   "execution_count": 182,
   "metadata": {},
   "outputs": [],
   "source": [
    "def sentiment_analyzer_scores(text, engl=True):\n",
    "    if engl:                                     # if the leng is engl it skips the translation\n",
    "        trans = text\n",
    "    else:\n",
    "        trans = translator.translate(text).text # it translates the text\n",
    "       \n",
    "    def Sentiment_score(input_text): \n",
    "    # Input text can be sentence, paragraph or document\n",
    "        response = natural_language_understanding.analyze (text = input_text, features = Features(sentiment=SentimentOptions()), language='en').get_result()\n",
    "        res = response.get('sentiment').get('document').get('score')\n",
    "        return res    \n",
    "    \n",
    "    score =  Sentiment_score(trans)  # gets the scores from the library \n",
    "    \n",
    "    \n",
    "    lb = score\n",
    "    if lb >= 0.33:                              # divides the sentiment score into (-1,0,1) \n",
    "        return 1                                # can be changed to even more catagories\n",
    "    elif (lb > -0.33) and (lb < 0.33):               \n",
    "        return 0\n",
    "    else:\n",
    "        return -1"
   ]
  },
  {
   "cell_type": "code",
   "execution_count": 183,
   "metadata": {},
   "outputs": [],
   "source": [
    "sentiment = []                        # gets a list of all the sentimental values of the tweets\n",
    "for x in range(len(df)) :  \n",
    "    \n",
    "    sentiment.append(sentiment_analyzer_scores(str(df['text'][x])))"
   ]
  },
  {
   "cell_type": "code",
   "execution_count": 184,
   "metadata": {},
   "outputs": [],
   "source": [
    "df.insert(28 ,'sentiment', sentiment)   # inserting the sentimental values into the dataframe"
   ]
  },
  {
   "cell_type": "code",
   "execution_count": 186,
   "metadata": {},
   "outputs": [
    {
     "data": {
      "text/html": [
       "<div>\n",
       "<style scoped>\n",
       "    .dataframe tbody tr th:only-of-type {\n",
       "        vertical-align: middle;\n",
       "    }\n",
       "\n",
       "    .dataframe tbody tr th {\n",
       "        vertical-align: top;\n",
       "    }\n",
       "\n",
       "    .dataframe thead th {\n",
       "        text-align: right;\n",
       "    }\n",
       "</style>\n",
       "<table border=\"1\" class=\"dataframe\">\n",
       "  <thead>\n",
       "    <tr style=\"text-align: right;\">\n",
       "      <th></th>\n",
       "      <th>text</th>\n",
       "      <th>sentiment</th>\n",
       "    </tr>\n",
       "  </thead>\n",
       "  <tbody>\n",
       "    <tr>\n",
       "      <th>7438</th>\n",
       "      <td>RT @SalmaSlili: Jay park a fait un live avec u...</td>\n",
       "      <td>-1</td>\n",
       "    </tr>\n",
       "    <tr>\n",
       "      <th>13202</th>\n",
       "      <td>RT @Ryanair: Our friends @Laudamotion1 have ma...</td>\n",
       "      <td>1</td>\n",
       "    </tr>\n",
       "    <tr>\n",
       "      <th>9984</th>\n",
       "      <td>@itastepaint This isn't how we wanted things t...</td>\n",
       "      <td>-1</td>\n",
       "    </tr>\n",
       "    <tr>\n",
       "      <th>3241</th>\n",
       "      <td>RT @ihoelt: Diese Europa-Wahl fühlt sich ander...</td>\n",
       "      <td>0</td>\n",
       "    </tr>\n",
       "    <tr>\n",
       "      <th>4863</th>\n",
       "      <td>RT @Ryanair: Our friends @Laudamotion1 have ma...</td>\n",
       "      <td>1</td>\n",
       "    </tr>\n",
       "    <tr>\n",
       "      <th>13560</th>\n",
       "      <td>@British_Airways</td>\n",
       "      <td>0</td>\n",
       "    </tr>\n",
       "    <tr>\n",
       "      <th>12875</th>\n",
       "      <td>@MaMaDolson @British_Airways Enjoy</td>\n",
       "      <td>1</td>\n",
       "    </tr>\n",
       "    <tr>\n",
       "      <th>4263</th>\n",
       "      <td>RT @jblefevre60: This #digital screen synchron...</td>\n",
       "      <td>-1</td>\n",
       "    </tr>\n",
       "    <tr>\n",
       "      <th>5348</th>\n",
       "      <td>RT @francediplo_ES: #Ecuador 🇪🇨\\n@JBLemoyne re...</td>\n",
       "      <td>0</td>\n",
       "    </tr>\n",
       "    <tr>\n",
       "      <th>4056</th>\n",
       "      <td>@VirginAtlantic can you advise me on taking pr...</td>\n",
       "      <td>0</td>\n",
       "    </tr>\n",
       "  </tbody>\n",
       "</table>\n",
       "</div>"
      ],
      "text/plain": [
       "                                                    text  sentiment\n",
       "7438   RT @SalmaSlili: Jay park a fait un live avec u...         -1\n",
       "13202  RT @Ryanair: Our friends @Laudamotion1 have ma...          1\n",
       "9984   @itastepaint This isn't how we wanted things t...         -1\n",
       "3241   RT @ihoelt: Diese Europa-Wahl fühlt sich ander...          0\n",
       "4863   RT @Ryanair: Our friends @Laudamotion1 have ma...          1\n",
       "13560                                   @British_Airways          0\n",
       "12875                 @MaMaDolson @British_Airways Enjoy          1\n",
       "4263   RT @jblefevre60: This #digital screen synchron...         -1\n",
       "5348   RT @francediplo_ES: #Ecuador 🇪🇨\\n@JBLemoyne re...          0\n",
       "4056   @VirginAtlantic can you advise me on taking pr...          0"
      ]
     },
     "execution_count": 186,
     "metadata": {},
     "output_type": "execute_result"
    }
   ],
   "source": [
    "df[['text','sentiment']].sample(10)"
   ]
  }
 ],
 "metadata": {
  "kernelspec": {
   "display_name": "Python 3",
   "language": "python",
   "name": "python3"
  },
  "language_info": {
   "codemirror_mode": {
    "name": "ipython",
    "version": 3
   },
   "file_extension": ".py",
   "mimetype": "text/x-python",
   "name": "python",
   "nbconvert_exporter": "python",
   "pygments_lexer": "ipython3",
   "version": "3.7.3"
  }
 },
 "nbformat": 4,
 "nbformat_minor": 2
}
