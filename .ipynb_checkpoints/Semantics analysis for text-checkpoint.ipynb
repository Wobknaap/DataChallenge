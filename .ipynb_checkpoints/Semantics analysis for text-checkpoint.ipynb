{
 "cells": [
  {
   "cell_type": "markdown",
   "metadata": {},
   "source": [
    "# Notebook for importing personal csv"
   ]
  },
  {
   "cell_type": "markdown",
   "metadata": {},
   "source": [
    "### Importing libraries"
   ]
  },
  {
   "cell_type": "code",
   "execution_count": 89,
   "metadata": {},
   "outputs": [],
   "source": [
    "import pandas as pd\n",
    "import numpy as np\n",
    "import sys\n",
    "from datetime import datetime\n",
    "from vaderSentiment.vaderSentiment import SentimentIntensityAnalyzer\n",
    "from translate import Translator \n",
    "import os"
   ]
  },
  {
   "cell_type": "markdown",
   "metadata": {},
   "source": [
    "### Check version of Pandas and version of Python\n",
    "\n",
    "These should be 1.0.3 for Pandas and I am using 3.7.5 for Python because of SKlearn compatibilities. However, 3.8 should also work."
   ]
  },
  {
   "cell_type": "code",
   "execution_count": 64,
   "metadata": {},
   "outputs": [
    {
     "name": "stdout",
     "output_type": "stream",
     "text": [
      "Python version is 3.7.3 (default, Mar 27 2019, 17:13:21) [MSC v.1915 64 bit (AMD64)]\n",
      "Pandas version is 1.0.3\n"
     ]
    }
   ],
   "source": [
    "print('Python version is', sys.version)\n",
    "print('Pandas version is', pd.__version__)"
   ]
  },
  {
   "cell_type": "markdown",
   "metadata": {},
   "source": [
    "### Importing the CSV\n",
    "\n",
    "Please define your path in the variable."
   ]
  },
  {
   "cell_type": "code",
   "execution_count": 86,
   "metadata": {},
   "outputs": [],
   "source": [
    "#path = r'C:\\Users\\20193815\\Documents\\Data Challenge\\Full_basic.csv' \n",
    "#path = r'C:\\Users\\20193635\\Documents\\Data Science Year 1\\Q4\\Data Challenge\\Fulls csv\\Full_basic.csv' \n",
    "path = r'C:\\Users\\20193635\\Documents\\Data Science Year 1\\Q4\\text.csv'\n"
   ]
  },
  {
   "cell_type": "code",
   "execution_count": 66,
   "metadata": {},
   "outputs": [
    {
     "name": "stderr",
     "output_type": "stream",
     "text": [
      "C:\\ProgramData\\Anaconda3\\lib\\site-packages\\IPython\\core\\interactiveshell.py:3063: DtypeWarning: Columns (2) have mixed types.Specify dtype option on import or set low_memory=False.\n",
      "  interactivity=interactivity, compiler=compiler, result=result)\n"
     ]
    },
    {
     "name": "stdout",
     "output_type": "stream",
     "text": [
      "_id        object\n",
      "id_str    float64\n",
      "text       object\n",
      "dtype: object\n"
     ]
    }
   ],
   "source": [
    "df = pd.read_csv(path)\n",
    "print(df.dtypes)\n"
   ]
  },
  {
   "cell_type": "markdown",
   "metadata": {},
   "source": [
    "### Cleaning up the df\n",
    "\n",
    "First we remove the _id column if present, then all the missing values. Afterwards we convert columns that are present to the correct dtype."
   ]
  },
  {
   "cell_type": "code",
   "execution_count": 67,
   "metadata": {},
   "outputs": [
    {
     "name": "stdout",
     "output_type": "stream",
     "text": [
      "Dtypes after transformation:\n",
      " id_str     Int64\n",
      "text      object\n",
      "dtype: object\n"
     ]
    },
    {
     "data": {
      "text/html": [
       "<div>\n",
       "<style scoped>\n",
       "    .dataframe tbody tr th:only-of-type {\n",
       "        vertical-align: middle;\n",
       "    }\n",
       "\n",
       "    .dataframe tbody tr th {\n",
       "        vertical-align: top;\n",
       "    }\n",
       "\n",
       "    .dataframe thead th {\n",
       "        text-align: right;\n",
       "    }\n",
       "</style>\n",
       "<table border=\"1\" class=\"dataframe\">\n",
       "  <thead>\n",
       "    <tr style=\"text-align: right;\">\n",
       "      <th></th>\n",
       "      <th>id_str</th>\n",
       "      <th>text</th>\n",
       "    </tr>\n",
       "  </thead>\n",
       "  <tbody>\n",
       "    <tr>\n",
       "      <th>0</th>\n",
       "      <td>1131172858951024640</td>\n",
       "      <td>La ruta de easyJet entre Londres y Menorca tra...</td>\n",
       "    </tr>\n",
       "    <tr>\n",
       "      <th>1</th>\n",
       "      <td>1131172864147808256</td>\n",
       "      <td>RT @bttr_as1: @goody_tracy Here’s a list of so...</td>\n",
       "    </tr>\n",
       "    <tr>\n",
       "      <th>2</th>\n",
       "      <td>1131172867985485824</td>\n",
       "      <td>@British_Airways</td>\n",
       "    </tr>\n",
       "    <tr>\n",
       "      <th>3</th>\n",
       "      <td>1131172909463027712</td>\n",
       "      <td>RT @TheRaceRadio: Nice change by @AmericanAir....</td>\n",
       "    </tr>\n",
       "    <tr>\n",
       "      <th>4</th>\n",
       "      <td>1131172975682605056</td>\n",
       "      <td>RT @sandeeprrao1991: BREAKING:-\\nKLM to fly 3x...</td>\n",
       "    </tr>\n",
       "  </tbody>\n",
       "</table>\n",
       "</div>"
      ],
      "text/plain": [
       "                id_str                                               text\n",
       "0  1131172858951024640  La ruta de easyJet entre Londres y Menorca tra...\n",
       "1  1131172864147808256  RT @bttr_as1: @goody_tracy Here’s a list of so...\n",
       "2  1131172867985485824                                   @British_Airways\n",
       "3  1131172909463027712  RT @TheRaceRadio: Nice change by @AmericanAir....\n",
       "4  1131172975682605056  RT @sandeeprrao1991: BREAKING:-\\nKLM to fly 3x..."
      ]
     },
     "execution_count": 67,
     "metadata": {},
     "output_type": "execute_result"
    }
   ],
   "source": [
    "def cleanup(df):\n",
    "    \"\"\"Removes unnecessary columns and converts to the correct dtype\"\"\"\n",
    "    try:\n",
    "        df.drop('_id', axis = 1, inplace = True)\n",
    "    except:\n",
    "        print('_id not found')\n",
    "    \n",
    "    #Remove rows where id has a missing value\n",
    "    not_number = df[df['id_str'].isna()]\n",
    "    lst = not_number.index.array\n",
    "    df.drop(lst, inplace = True)\n",
    "    col_names = list(df.columns)\n",
    "    \n",
    "    string = ['text', 'lang', 'in_reply_to_status_id_str'] # Not all columnsnames have to be present in the used data set\n",
    "    integer = ['id_str','user.id_str', 'in_reply_to_status_id']\n",
    "    \n",
    "    \n",
    "    for col in col_names:\n",
    "        if col == 'created_at':\n",
    "            df[col] = df[col].astype(str)\n",
    "            print('created_at converted to string, use timestamp for datetime dtype')\n",
    "        if col == 'timestamp_ms':\n",
    "            df[col] = pd.to_datetime(df[col], unit = 'ms')\n",
    "            print('timestamp converted to datetime dtype')\n",
    "        if col == 'id':\n",
    "            print('Skip id, use id_str instead')\n",
    "        if col in integer:\n",
    "            df[col] = df[col].astype(pd.Int64Dtype())\n",
    "        if col in string:\n",
    "            df[col] = df[col].astype(str)\n",
    "\n",
    "    return df\n",
    "\n",
    "df = cleanup(df)\n",
    "print('Dtypes after transformation:\\n',df.dtypes)\n",
    "df.head()\n",
    "\n",
    "\n"
   ]
  },
  {
   "cell_type": "markdown",
   "metadata": {},
   "source": [
    "While string columns show up as having an object dtype, this is not actually the case. When retrieving a value from the column and checking the dtype it is a string. There might be some values in those columns that cause this issue."
   ]
  },
  {
   "cell_type": "code",
   "execution_count": 68,
   "metadata": {},
   "outputs": [],
   "source": [
    "df.reset_index(inplace = True, drop = True )\n"
   ]
  },
  {
   "cell_type": "markdown",
   "metadata": {},
   "source": [
    "# partial data to test"
   ]
  },
  {
   "cell_type": "markdown",
   "metadata": {},
   "source": [
    "# Change slice !!!"
   ]
  },
  {
   "cell_type": "code",
   "execution_count": 69,
   "metadata": {},
   "outputs": [],
   "source": [
    "df_backup = df.copy()    # do not run this after the first time (you will lose data)\n",
    "df = df.iloc[0:100]    # change slice !!!"
   ]
  },
  {
   "cell_type": "code",
   "execution_count": 70,
   "metadata": {},
   "outputs": [],
   "source": [
    "#df.head()"
   ]
  },
  {
   "cell_type": "code",
   "execution_count": null,
   "metadata": {},
   "outputs": [],
   "source": []
  },
  {
   "cell_type": "markdown",
   "metadata": {},
   "source": [
    "# Start sentiment analysis"
   ]
  },
  {
   "cell_type": "code",
   "execution_count": 71,
   "metadata": {},
   "outputs": [],
   "source": [
    "analyser = SentimentIntensityAnalyzer()  \n",
    "translator = Translator(to_lang = 'english')"
   ]
  },
  {
   "cell_type": "code",
   "execution_count": 72,
   "metadata": {},
   "outputs": [],
   "source": [
    "def sentiment_analyzer_scores(text, engl=True):\n",
    "    if engl:                                     # if the leng is engl it skips the translation\n",
    "        trans = text\n",
    "    else:\n",
    "        trans = translator.translate(text).text    # it translates the text\n",
    "    score = analyser.polarity_scores(trans)     # gets the scores from the library \n",
    "    lb = score['compound']\n",
    "    if lb >= 0.05:                              # divides the sentiment score into (-1,0,1) \n",
    "        return 1                                # can be changed to even more catagories\n",
    "    elif (lb > -0.05) and (lb < 0.05):               \n",
    "        return 0\n",
    "    else:\n",
    "        return -1"
   ]
  },
  {
   "cell_type": "code",
   "execution_count": 73,
   "metadata": {},
   "outputs": [],
   "source": [
    "def sentiment_compound_scores(text, engl=True):\n",
    "    if engl:                                     # if the leng is engl it skips the translation\n",
    "        trans = text\n",
    "    else:\n",
    "        trans = translator.translate(text).text    # it translates the text\n",
    "    score = analyser.polarity_scores(trans)     # gets the scores from the library \n",
    "    lb = score['compound']\n",
    "    return lb"
   ]
  },
  {
   "cell_type": "code",
   "execution_count": 74,
   "metadata": {},
   "outputs": [],
   "source": [
    "sentiment = []                        # gets a list of all the sentimental values of the tweets\n",
    "for x in range(len(df)) :  \n",
    "    \n",
    "    sentiment.append(sentiment_analyzer_scores(str(df['text'][x])))\n",
    "    \n",
    "compound = []\n",
    "for x in range(len(df)) :\n",
    "    \n",
    "    compound.append(sentiment_compound_scores(str(df['text'][x])))"
   ]
  },
  {
   "cell_type": "code",
   "execution_count": 75,
   "metadata": {},
   "outputs": [],
   "source": [
    "df.insert(2 ,'sentiment', sentiment)   # inserting the sentimental values into the dataframe\n",
    "df.insert(2, 'compound', compound)"
   ]
  },
  {
   "cell_type": "code",
   "execution_count": 76,
   "metadata": {},
   "outputs": [
    {
     "data": {
      "text/html": [
       "<div>\n",
       "<style scoped>\n",
       "    .dataframe tbody tr th:only-of-type {\n",
       "        vertical-align: middle;\n",
       "    }\n",
       "\n",
       "    .dataframe tbody tr th {\n",
       "        vertical-align: top;\n",
       "    }\n",
       "\n",
       "    .dataframe thead th {\n",
       "        text-align: right;\n",
       "    }\n",
       "</style>\n",
       "<table border=\"1\" class=\"dataframe\">\n",
       "  <thead>\n",
       "    <tr style=\"text-align: right;\">\n",
       "      <th></th>\n",
       "      <th>id_str</th>\n",
       "      <th>text</th>\n",
       "      <th>compound</th>\n",
       "      <th>sentiment</th>\n",
       "    </tr>\n",
       "  </thead>\n",
       "  <tbody>\n",
       "    <tr>\n",
       "      <th>75</th>\n",
       "      <td>1131174378903937024</td>\n",
       "      <td>@TommyPoulson @Eurostar @francegalop @paris_lo...</td>\n",
       "      <td>0.7964</td>\n",
       "      <td>1</td>\n",
       "    </tr>\n",
       "    <tr>\n",
       "      <th>26</th>\n",
       "      <td>1131173456597405696</td>\n",
       "      <td>RT @Claire2day: @Ryanair @RyanairFlights shock...</td>\n",
       "      <td>-0.5445</td>\n",
       "      <td>-1</td>\n",
       "    </tr>\n",
       "    <tr>\n",
       "      <th>0</th>\n",
       "      <td>1131172858951024640</td>\n",
       "      <td>La ruta de easyJet entre Londres y Menorca tra...</td>\n",
       "      <td>0.0000</td>\n",
       "      <td>0</td>\n",
       "    </tr>\n",
       "    <tr>\n",
       "      <th>82</th>\n",
       "      <td>1131174581182423040</td>\n",
       "      <td>RT @ETNOWlive: Sources say @EtihadAirways, Hin...</td>\n",
       "      <td>0.6705</td>\n",
       "      <td>1</td>\n",
       "    </tr>\n",
       "    <tr>\n",
       "      <th>5</th>\n",
       "      <td>1131173010235375616</td>\n",
       "      <td>EasyJet was on a slippery slope when it charge...</td>\n",
       "      <td>-0.2023</td>\n",
       "      <td>-1</td>\n",
       "    </tr>\n",
       "    <tr>\n",
       "      <th>36</th>\n",
       "      <td>1131173625258815488</td>\n",
       "      <td>@Pelusitaaaa1 Hoi!  Enkel KLM/Air France-vluch...</td>\n",
       "      <td>0.0000</td>\n",
       "      <td>0</td>\n",
       "    </tr>\n",
       "    <tr>\n",
       "      <th>84</th>\n",
       "      <td>1131174585892839424</td>\n",
       "      <td>RT @ameyaw112: Thank you @SingaporeAir for sho...</td>\n",
       "      <td>0.8316</td>\n",
       "      <td>1</td>\n",
       "    </tr>\n",
       "    <tr>\n",
       "      <th>37</th>\n",
       "      <td>1131173644271587328</td>\n",
       "      <td>Yes please @Ryanair @easyJet</td>\n",
       "      <td>0.6124</td>\n",
       "      <td>1</td>\n",
       "    </tr>\n",
       "    <tr>\n",
       "      <th>1</th>\n",
       "      <td>1131172864147808256</td>\n",
       "      <td>RT @bttr_as1: @goody_tracy Here’s a list of so...</td>\n",
       "      <td>0.3612</td>\n",
       "      <td>1</td>\n",
       "    </tr>\n",
       "    <tr>\n",
       "      <th>46</th>\n",
       "      <td>1131173789356711936</td>\n",
       "      <td>RT @EquityLPNP: Hi @Everymancinema. You've ref...</td>\n",
       "      <td>0.0516</td>\n",
       "      <td>1</td>\n",
       "    </tr>\n",
       "  </tbody>\n",
       "</table>\n",
       "</div>"
      ],
      "text/plain": [
       "                 id_str                                               text  \\\n",
       "75  1131174378903937024  @TommyPoulson @Eurostar @francegalop @paris_lo...   \n",
       "26  1131173456597405696  RT @Claire2day: @Ryanair @RyanairFlights shock...   \n",
       "0   1131172858951024640  La ruta de easyJet entre Londres y Menorca tra...   \n",
       "82  1131174581182423040  RT @ETNOWlive: Sources say @EtihadAirways, Hin...   \n",
       "5   1131173010235375616  EasyJet was on a slippery slope when it charge...   \n",
       "36  1131173625258815488  @Pelusitaaaa1 Hoi!  Enkel KLM/Air France-vluch...   \n",
       "84  1131174585892839424  RT @ameyaw112: Thank you @SingaporeAir for sho...   \n",
       "37  1131173644271587328                       Yes please @Ryanair @easyJet   \n",
       "1   1131172864147808256  RT @bttr_as1: @goody_tracy Here’s a list of so...   \n",
       "46  1131173789356711936  RT @EquityLPNP: Hi @Everymancinema. You've ref...   \n",
       "\n",
       "    compound  sentiment  \n",
       "75    0.7964          1  \n",
       "26   -0.5445         -1  \n",
       "0     0.0000          0  \n",
       "82    0.6705          1  \n",
       "5    -0.2023         -1  \n",
       "36    0.0000          0  \n",
       "84    0.8316          1  \n",
       "37    0.6124          1  \n",
       "1     0.3612          1  \n",
       "46    0.0516          1  "
      ]
     },
     "execution_count": 76,
     "metadata": {},
     "output_type": "execute_result"
    }
   ],
   "source": [
    "df.sample(10)"
   ]
  },
  {
   "cell_type": "code",
   "execution_count": 77,
   "metadata": {},
   "outputs": [
    {
     "data": {
      "text/plain": [
       " 1    42\n",
       " 0    40\n",
       "-1    18\n",
       "Name: sentiment, dtype: int64"
      ]
     },
     "execution_count": 77,
     "metadata": {},
     "output_type": "execute_result"
    }
   ],
   "source": [
    "df['sentiment'].value_counts()"
   ]
  },
  {
   "cell_type": "code",
   "execution_count": null,
   "metadata": {},
   "outputs": [],
   "source": []
  },
  {
   "cell_type": "code",
   "execution_count": 93,
   "metadata": {},
   "outputs": [],
   "source": [
    "df.to_csv('text+sent1.csv')"
   ]
  },
  {
   "cell_type": "code",
   "execution_count": 95,
   "metadata": {},
   "outputs": [],
   "source": [
    "df_1 = pd.read_csv('text+sent1.csv')"
   ]
  },
  {
   "cell_type": "code",
   "execution_count": 96,
   "metadata": {},
   "outputs": [
    {
     "data": {
      "text/html": [
       "<div>\n",
       "<style scoped>\n",
       "    .dataframe tbody tr th:only-of-type {\n",
       "        vertical-align: middle;\n",
       "    }\n",
       "\n",
       "    .dataframe tbody tr th {\n",
       "        vertical-align: top;\n",
       "    }\n",
       "\n",
       "    .dataframe thead th {\n",
       "        text-align: right;\n",
       "    }\n",
       "</style>\n",
       "<table border=\"1\" class=\"dataframe\">\n",
       "  <thead>\n",
       "    <tr style=\"text-align: right;\">\n",
       "      <th></th>\n",
       "      <th>Unnamed: 0</th>\n",
       "      <th>id_str</th>\n",
       "      <th>text</th>\n",
       "      <th>compound</th>\n",
       "      <th>sentiment</th>\n",
       "    </tr>\n",
       "  </thead>\n",
       "  <tbody>\n",
       "    <tr>\n",
       "      <th>0</th>\n",
       "      <td>0</td>\n",
       "      <td>1131172858951024640</td>\n",
       "      <td>La ruta de easyJet entre Londres y Menorca tra...</td>\n",
       "      <td>0.0000</td>\n",
       "      <td>0</td>\n",
       "    </tr>\n",
       "    <tr>\n",
       "      <th>1</th>\n",
       "      <td>1</td>\n",
       "      <td>1131172864147808256</td>\n",
       "      <td>RT @bttr_as1: @goody_tracy Here’s a list of so...</td>\n",
       "      <td>0.3612</td>\n",
       "      <td>1</td>\n",
       "    </tr>\n",
       "    <tr>\n",
       "      <th>2</th>\n",
       "      <td>2</td>\n",
       "      <td>1131172867985485824</td>\n",
       "      <td>@British_Airways</td>\n",
       "      <td>0.0000</td>\n",
       "      <td>0</td>\n",
       "    </tr>\n",
       "    <tr>\n",
       "      <th>3</th>\n",
       "      <td>3</td>\n",
       "      <td>1131172909463027712</td>\n",
       "      <td>RT @TheRaceRadio: Nice change by @AmericanAir....</td>\n",
       "      <td>0.3400</td>\n",
       "      <td>1</td>\n",
       "    </tr>\n",
       "    <tr>\n",
       "      <th>4</th>\n",
       "      <td>4</td>\n",
       "      <td>1131172975682605056</td>\n",
       "      <td>RT @sandeeprrao1991: BREAKING:-\\nKLM to fly 3x...</td>\n",
       "      <td>0.0000</td>\n",
       "      <td>0</td>\n",
       "    </tr>\n",
       "    <tr>\n",
       "      <th>...</th>\n",
       "      <td>...</td>\n",
       "      <td>...</td>\n",
       "      <td>...</td>\n",
       "      <td>...</td>\n",
       "      <td>...</td>\n",
       "    </tr>\n",
       "    <tr>\n",
       "      <th>95</th>\n",
       "      <td>95</td>\n",
       "      <td>1131174735813832704</td>\n",
       "      <td>Did you mean @jetairways ?</td>\n",
       "      <td>0.0000</td>\n",
       "      <td>0</td>\n",
       "    </tr>\n",
       "    <tr>\n",
       "      <th>96</th>\n",
       "      <td>96</td>\n",
       "      <td>1131174754784829440</td>\n",
       "      <td>@Jaxon914 @AmericanAir Contact the better busi...</td>\n",
       "      <td>0.8126</td>\n",
       "      <td>1</td>\n",
       "    </tr>\n",
       "    <tr>\n",
       "      <th>97</th>\n",
       "      <td>97</td>\n",
       "      <td>1131174768114323456</td>\n",
       "      <td>Can always count on @AmericanAir to help you m...</td>\n",
       "      <td>0.0516</td>\n",
       "      <td>1</td>\n",
       "    </tr>\n",
       "    <tr>\n",
       "      <th>98</th>\n",
       "      <td>98</td>\n",
       "      <td>1131174769318125568</td>\n",
       "      <td>On arrive fons’ comme Ja', tous high, plane co...</td>\n",
       "      <td>0.0000</td>\n",
       "      <td>0</td>\n",
       "    </tr>\n",
       "    <tr>\n",
       "      <th>99</th>\n",
       "      <td>99</td>\n",
       "      <td>1131174818970243072</td>\n",
       "      <td>RT @EquityLPNP: Hi @Everymancinema. You've ref...</td>\n",
       "      <td>0.0516</td>\n",
       "      <td>1</td>\n",
       "    </tr>\n",
       "  </tbody>\n",
       "</table>\n",
       "<p>100 rows × 5 columns</p>\n",
       "</div>"
      ],
      "text/plain": [
       "    Unnamed: 0               id_str  \\\n",
       "0            0  1131172858951024640   \n",
       "1            1  1131172864147808256   \n",
       "2            2  1131172867985485824   \n",
       "3            3  1131172909463027712   \n",
       "4            4  1131172975682605056   \n",
       "..         ...                  ...   \n",
       "95          95  1131174735813832704   \n",
       "96          96  1131174754784829440   \n",
       "97          97  1131174768114323456   \n",
       "98          98  1131174769318125568   \n",
       "99          99  1131174818970243072   \n",
       "\n",
       "                                                 text  compound  sentiment  \n",
       "0   La ruta de easyJet entre Londres y Menorca tra...    0.0000          0  \n",
       "1   RT @bttr_as1: @goody_tracy Here’s a list of so...    0.3612          1  \n",
       "2                                    @British_Airways    0.0000          0  \n",
       "3   RT @TheRaceRadio: Nice change by @AmericanAir....    0.3400          1  \n",
       "4   RT @sandeeprrao1991: BREAKING:-\\nKLM to fly 3x...    0.0000          0  \n",
       "..                                                ...       ...        ...  \n",
       "95                         Did you mean @jetairways ?    0.0000          0  \n",
       "96  @Jaxon914 @AmericanAir Contact the better busi...    0.8126          1  \n",
       "97  Can always count on @AmericanAir to help you m...    0.0516          1  \n",
       "98  On arrive fons’ comme Ja', tous high, plane co...    0.0000          0  \n",
       "99  RT @EquityLPNP: Hi @Everymancinema. You've ref...    0.0516          1  \n",
       "\n",
       "[100 rows x 5 columns]"
      ]
     },
     "execution_count": 96,
     "metadata": {},
     "output_type": "execute_result"
    }
   ],
   "source": [
    "df_1"
   ]
  },
  {
   "cell_type": "code",
   "execution_count": null,
   "metadata": {},
   "outputs": [],
   "source": []
  },
  {
   "cell_type": "code",
   "execution_count": null,
   "metadata": {},
   "outputs": [],
   "source": []
  },
  {
   "cell_type": "code",
   "execution_count": null,
   "metadata": {},
   "outputs": [],
   "source": []
  },
  {
   "cell_type": "code",
   "execution_count": null,
   "metadata": {},
   "outputs": [],
   "source": []
  }
 ],
 "metadata": {
  "kernelspec": {
   "display_name": "Python 3",
   "language": "python",
   "name": "python3"
  },
  "language_info": {
   "codemirror_mode": {
    "name": "ipython",
    "version": 3
   },
   "file_extension": ".py",
   "mimetype": "text/x-python",
   "name": "python",
   "nbconvert_exporter": "python",
   "pygments_lexer": "ipython3",
   "version": "3.7.5"
  }
 },
 "nbformat": 4,
 "nbformat_minor": 4
}
