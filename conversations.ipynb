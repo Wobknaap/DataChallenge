{
 "cells": [
  {
   "cell_type": "code",
   "execution_count": 1,
   "metadata": {
    "colab": {},
    "colab_type": "code",
    "id": "qKfO7rvxvAIZ"
   },
   "outputs": [],
   "source": [
    "import pandas as pd\n",
    "import numpy as np\n",
    "import math"
   ]
  },
  {
   "cell_type": "code",
   "execution_count": 2,
   "metadata": {},
   "outputs": [],
   "source": [
    "pd.options.display.float_format = '{:.0f}'.format"
   ]
  },
  {
   "cell_type": "markdown",
   "metadata": {},
   "source": [
    "<h2>Only for google colab:</h2>"
   ]
  },
  {
   "cell_type": "code",
   "execution_count": 3,
   "metadata": {
    "colab": {
     "base_uri": "https://localhost:8080/",
     "height": 128
    },
    "colab_type": "code",
    "executionInfo": {
     "elapsed": 21709,
     "status": "ok",
     "timestamp": 1588837251774,
     "user": {
      "displayName": "Rianne vd Leeuw",
      "photoUrl": "",
      "userId": "11464058957655713375"
     },
     "user_tz": -120
    },
    "id": "JKGmFfGy2RNi",
    "outputId": "5a9a9c88-d199-4e49-9046-ebda6ce181c3"
   },
   "outputs": [],
   "source": [
    "# from google.colab import drive\n",
    "# drive.mount('/content/gdrive/')\n",
    "\n",
    "# !ls '/content/gdrive/My Drive/Data challenge/code'\n",
    "\n",
    "# # import single json file as dataframe\n",
    "# df = pd.read_json('/content/gdrive/My Drive/Data challenge/code/airlines-1558527599826.json', orient = 'records', lines = True)"
   ]
  },
  {
   "cell_type": "code",
   "execution_count": 165,
   "metadata": {},
   "outputs": [
    {
     "name": "stderr",
     "output_type": "stream",
     "text": [
      "C:\\Users\\philipp\\Anaconda3\\lib\\site-packages\\IPython\\core\\interactiveshell.py:3020: DtypeWarning: Columns (1) have mixed types.Specify dtype option on import or set low_memory=False.\n",
      "  interactivity=interactivity, compiler=compiler, result=result)\n"
     ]
    }
   ],
   "source": [
    "# df = pd.read_json('airlines-1558527599826.json', orient = 'records', lines = True)\n",
    "df = pd.read_csv('Full_basic.csv', usecols=['id_str','created_at'])"
   ]
  },
  {
   "cell_type": "code",
   "execution_count": 166,
   "metadata": {
    "scrolled": true
   },
   "outputs": [],
   "source": [
    "not_number = df[df['id_str'].isna()]\n",
    "lst = not_number.index\n",
    "df.drop(lst, inplace = True)\n",
    "df['id_str']=df['id_str'].astype('int64')\n",
    "# df['id']=df['id'].astype('int64')\n",
    "df = df.rename({'id_str': 'id'}, axis=1)"
   ]
  },
  {
   "cell_type": "code",
   "execution_count": 167,
   "metadata": {},
   "outputs": [],
   "source": [
    "df_conv = pd.read_csv('conversation_full.csv')"
   ]
  },
  {
   "cell_type": "code",
   "execution_count": 168,
   "metadata": {},
   "outputs": [],
   "source": [
    "df['in_reply_to_status_id']=df_conv['in_reply_to_status_id']"
   ]
  },
  {
   "cell_type": "code",
   "execution_count": 171,
   "metadata": {},
   "outputs": [],
   "source": [
    "df=df.sort_values('created_at')"
   ]
  },
  {
   "cell_type": "code",
   "execution_count": 172,
   "metadata": {},
   "outputs": [],
   "source": [
    "# def myindex(lst, target):\n",
    "#     for index, item in enumerate(lst):\n",
    "#         if item == target:\n",
    "#             return [index]\n",
    "#         if isinstance(item, str): # or 'basestring' in 2.x\n",
    "#             return []\n",
    "#         try:\n",
    "#             path = myindex(item, target)\n",
    "#         except TypeError:\n",
    "#             pass\n",
    "#         else:\n",
    "#             if path:\n",
    "#                 return [index] + path\n",
    "#     return []"
   ]
  },
  {
   "cell_type": "code",
   "execution_count": 12,
   "metadata": {
    "colab": {
     "base_uri": "https://localhost:8080/",
     "height": 168
    },
    "colab_type": "code",
    "executionInfo": {
     "elapsed": 507,
     "status": "ok",
     "timestamp": 1588779803235,
     "user": {
      "displayName": "phhil",
      "photoUrl": "",
      "userId": "08514152688446212477"
     },
     "user_tz": -120
    },
    "id": "X3jc_iKvvTN2",
    "outputId": "553d2c1b-36af-410e-f436-472d445db649"
   },
   "outputs": [],
   "source": [
    "# contain=[]\n",
    "# index_length=0\n",
    "# for row in df.itertuples():\n",
    "    \n",
    "#     if math.isnan(getattr(row,'id')):\n",
    "#         print('id is nan')\n",
    "#         continue\n",
    "# #     print(int(getattr(row,'id')))\n",
    "# #     print(type(getattr(row,'in_reply_to_status_id')))\n",
    "#     if math.isnan(getattr(row,'in_reply_to_status_id')):\n",
    "#         conv_list.append([int(getattr(row,'id'))])\n",
    "#     else:\n",
    "#         index=myindex(conv_list,int(getattr(row,'in_reply_to_status_id')))\n",
    "#         if len(index)>index_length:\n",
    "#             index_length=len(index)\n",
    "#         if len(index)==0:\n",
    "# #             print('could not match in_reply_to_status_id',int(getattr(row,'in_reply_to_status_id')))\n",
    "#             continue\n",
    "#         if len(index)==1:\n",
    "#             if type(conv_list[index[0]]) is int:\n",
    "#                 conv_list[index[0]]=[conv_list[index[0]]]\n",
    "#             conv_list[index[0]].append(int(getattr(row,'id')))\n",
    "#             continue\n",
    "#         if len(index)==2:\n",
    "#             if type(conv_list[index[0]][index[1]]) is int:\n",
    "#                 conv_list[index[0]][index[1]]=[conv_list[index[0]][index[1]]]\n",
    "#             conv_list[index[0]][index[1]].append(int(getattr(row,'id')))\n",
    "#             continue\n",
    "#         if len(index)==3:\n",
    "#             if type(conv_list[index[0]][index[1]][index[2]]) is int:\n",
    "#                 conv_list[index[0]][index[1]][index[2]]=[conv_list[index[0]][index[1]][index[2]]]\n",
    "#             conv_list[index[0]][index[1]][index[2]].append(int(getattr(row,'id')))\n",
    "#             continue\n",
    "#         if len(index)==4:\n",
    "#             if type(conv_list[index[0]][index[1]][index[2]][index[3]]) is int:\n",
    "#                 conv_list[index[0]][index[1]][index[2]][index[3]]=[conv_list[index[0]][index[1]][index[2]][index[3]]]\n",
    "#             conv_list[index[0]][index[1]][index[2]][index[3]].append(int(getattr(row,'id')))\n",
    "#             continue\n",
    "#         if len(index)==5:\n",
    "#             if type(conv_list[index[0]][index[1]][index[2]][index[3]][index[4]]) is int:\n",
    "#                 conv_list[index[0]][index[1]][index[2]][index[3]][index[4]]=[conv_list[index[0]][index[1]][index[2]][index[3]][index[4]]]\n",
    "#             conv_list[index[0]][index[1]][index[2]][index[3]][index[4]].append(int(getattr(row,'id')))\n",
    "#             continue\n",
    "#         if len(index)==6:\n",
    "#             if type(conv_list[index[0]][index[1]][index[2]][index[3]][index[4]][index[5]]) is int:\n",
    "#                 conv_list[index[0]][index[1]][index[2]][index[3]][index[4]][index[5]]=[conv_list[index[0]][index[1]][index[2]][index[3]][index[4]][index[5]]]\n",
    "#             conv_list[index[0]][index[1]][index[2]][index[3]][index[4]][index[5]].append(int(getattr(row,'id')))\n",
    "#         if len(index)==7:\n",
    "#             if type(conv_list[index[0]][index[1]][index[2]][index[3]][index[4]][index[5]][index[6]]) is int:\n",
    "#                 conv_list[index[0]][index[1]][index[2]][index[3]][index[4]][index[5]][index[6]]=[conv_list[index[0]][index[1]][index[2]][index[3]][index[4]][index[5]][index[6]]]\n",
    "#             conv_list[index[0]][index[1]][index[2]][index[3]][index[4]][index[5]][index[6]].append(int(getattr(row,'id')))"
   ]
  },
  {
   "cell_type": "code",
   "execution_count": 173,
   "metadata": {},
   "outputs": [],
   "source": [
    "df.drop_duplicates(subset =\"id\", \n",
    "                     keep = 'first', inplace = True)"
   ]
  },
  {
   "cell_type": "code",
   "execution_count": 174,
   "metadata": {
    "scrolled": true
   },
   "outputs": [],
   "source": [
    "df=df.drop(df[df['id']==df['in_reply_to_status_id']].index)"
   ]
  },
  {
   "cell_type": "code",
   "execution_count": 191,
   "metadata": {},
   "outputs": [],
   "source": [
    "index=0\n",
    "def met1():\n",
    "    def lookup(ids):\n",
    "        ret_list=[]\n",
    "        df_np=df.loc[df['in_reply_to_status_id']==ids]['id'].values\n",
    "        \n",
    "        for row in range(0,len(df_np)):\n",
    "            global index\n",
    "            used[index]=df_np[row]\n",
    "            index+=1\n",
    "            buffer=df[df['id']==df_np[row]]\n",
    "            if len(buffer)==0:\n",
    "                ret_list.append(df_np[row])\n",
    "            else:\n",
    "                lookup_ret=lookup(buffer['id'].item())\n",
    "                if lookup_ret:\n",
    "                    ret_list.extend([df_np[row],lookup_ret])\n",
    "                else:\n",
    "                    ret_list.append(df_np[row])\n",
    "        if len(ret_list)==0:\n",
    "            return\n",
    "        return ret_list\n",
    "    used=np.zeros(len(df), dtype='int64')\n",
    "    with open('conversations_list.txt', 'w') as f:\n",
    "        id_np=df['id'].values\n",
    "        for row in range(0,len(id_np)):\n",
    "            if math.isnan(id_np[row]):continue\n",
    "            this_id=id_np[row]\n",
    "            if this_id in used: continue\n",
    "            bla=[this_id]\n",
    "            try:\n",
    "                lookup_ret=lookup(this_id)\n",
    "            except:\n",
    "                continue\n",
    "            if lookup_ret:\n",
    "                if len(lookup_ret)==1:\n",
    "                    bla.append(lookup_ret[0])\n",
    "                else:\n",
    "                    bla.extend(lookup_ret)\n",
    "                f.write(\"%s\\n\" % bla)"
   ]
  },
  {
   "cell_type": "code",
   "execution_count": 192,
   "metadata": {
    "scrolled": true
   },
   "outputs": [
    {
     "ename": "KeyboardInterrupt",
     "evalue": "",
     "output_type": "error",
     "traceback": [
      "\u001b[1;31m---------------------------------------------------------------------------\u001b[0m",
      "\u001b[1;31mKeyboardInterrupt\u001b[0m                         Traceback (most recent call last)",
      "\u001b[1;32m<timed eval>\u001b[0m in \u001b[0;36m<module>\u001b[1;34m\u001b[0m\n",
      "\u001b[1;32m<ipython-input-191-5aea2d457945>\u001b[0m in \u001b[0;36mmet2\u001b[1;34m()\u001b[0m\n\u001b[0;32m     28\u001b[0m             \u001b[0mthis_id\u001b[0m\u001b[1;33m=\u001b[0m\u001b[0mid_np\u001b[0m\u001b[1;33m[\u001b[0m\u001b[0mrow\u001b[0m\u001b[1;33m]\u001b[0m\u001b[1;33m\u001b[0m\u001b[1;33m\u001b[0m\u001b[0m\n\u001b[0;32m     29\u001b[0m             \u001b[1;32mif\u001b[0m \u001b[0mthis_id\u001b[0m \u001b[1;32min\u001b[0m \u001b[0mused\u001b[0m\u001b[1;33m:\u001b[0m \u001b[1;32mcontinue\u001b[0m\u001b[1;33m\u001b[0m\u001b[1;33m\u001b[0m\u001b[0m\n\u001b[1;32m---> 30\u001b[1;33m             \u001b[0mbla\u001b[0m\u001b[1;33m=\u001b[0m\u001b[1;33m[\u001b[0m\u001b[0mthis_id\u001b[0m\u001b[1;33m]\u001b[0m\u001b[1;33m\u001b[0m\u001b[1;33m\u001b[0m\u001b[0m\n\u001b[0m\u001b[0;32m     31\u001b[0m             \u001b[1;32mtry\u001b[0m\u001b[1;33m:\u001b[0m\u001b[1;33m\u001b[0m\u001b[1;33m\u001b[0m\u001b[0m\n\u001b[0;32m     32\u001b[0m                 \u001b[0mlookup_ret\u001b[0m\u001b[1;33m=\u001b[0m\u001b[0mlookup\u001b[0m\u001b[1;33m(\u001b[0m\u001b[0mthis_id\u001b[0m\u001b[1;33m)\u001b[0m\u001b[1;33m\u001b[0m\u001b[1;33m\u001b[0m\u001b[0m\n",
      "\u001b[1;31mKeyboardInterrupt\u001b[0m: "
     ]
    }
   ],
   "source": [
    "%%time\n",
    "met2()"
   ]
  }
 ],
 "metadata": {
  "colab": {
   "collapsed_sections": [],
   "name": "conversations.ipynb",
   "provenance": []
  },
  "kernelspec": {
   "display_name": "Python 3",
   "language": "python",
   "name": "python3"
  },
  "language_info": {
   "codemirror_mode": {
    "name": "ipython",
    "version": 3
   },
   "file_extension": ".py",
   "mimetype": "text/x-python",
   "name": "python",
   "nbconvert_exporter": "python",
   "pygments_lexer": "ipython3",
   "version": "3.7.1"
  }
 },
 "nbformat": 4,
 "nbformat_minor": 1
}
