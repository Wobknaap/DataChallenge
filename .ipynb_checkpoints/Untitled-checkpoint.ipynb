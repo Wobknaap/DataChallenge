{
 "cells": [
  {
   "cell_type": "code",
   "execution_count": 15,
   "metadata": {},
   "outputs": [
    {
     "name": "stdout",
     "output_type": "stream",
     "text": [
      "Python version is 3.7.5 (tags/v3.7.5:5c02a39a0b, Oct 15 2019, 00:11:34) [MSC v.1916 64 bit (AMD64)]\n",
      "Pandas version is 1.0.3\n",
      "C:/Users/20193815/Documents/Datasets/data.csv\n",
      "These columns are present in the file:\n",
      "_id                           object\n",
      "id_str                       float64\n",
      "text                          object\n",
      "in_reply_to_status_id_str    float64\n",
      "user.id_str                  float64\n",
      "entities.user_mentions        object\n",
      "lang                          object\n",
      "timestamp_ms                 float64\n",
      "dtype: object\n"
     ]
    },
    {
     "name": "stdin",
     "output_type": "stream",
     "text": [
      "Please specify your DataFrame name:  df\n"
     ]
    },
    {
     "name": "stdout",
     "output_type": "stream",
     "text": [
      "timestamp converted to datetime dtype\n",
      "Dtypes after transformation:\n",
      " id_str                                Int64\n",
      "text                                 object\n",
      "in_reply_to_status_id_str             Int64\n",
      "user.id_str                           Int64\n",
      "entities.user_mentions               object\n",
      "lang                                 object\n",
      "timestamp_ms                          Int64\n",
      "created_at                   datetime64[ns]\n",
      "dtype: object\n"
     ]
    }
   ],
   "source": [
    "%run import_file.ipynb"
   ]
  },
  {
   "cell_type": "code",
   "execution_count": 2,
   "metadata": {},
   "outputs": [
    {
     "data": {
      "text/html": [
       "<div>\n",
       "<style scoped>\n",
       "    .dataframe tbody tr th:only-of-type {\n",
       "        vertical-align: middle;\n",
       "    }\n",
       "\n",
       "    .dataframe tbody tr th {\n",
       "        vertical-align: top;\n",
       "    }\n",
       "\n",
       "    .dataframe thead th {\n",
       "        text-align: right;\n",
       "    }\n",
       "</style>\n",
       "<table border=\"1\" class=\"dataframe\">\n",
       "  <thead>\n",
       "    <tr style=\"text-align: right;\">\n",
       "      <th></th>\n",
       "      <th>Unnamed: 0</th>\n",
       "      <th>_id</th>\n",
       "      <th>created_at</th>\n",
       "      <th>id</th>\n",
       "      <th>id_str</th>\n",
       "      <th>text</th>\n",
       "      <th>user.id_str</th>\n",
       "      <th>lang</th>\n",
       "      <th>timestamp_ms</th>\n",
       "      <th>sentiment</th>\n",
       "    </tr>\n",
       "  </thead>\n",
       "  <tbody>\n",
       "    <tr>\n",
       "      <th>0</th>\n",
       "      <td>0</td>\n",
       "      <td>5ec66ff9f3c74bef68594542</td>\n",
       "      <td>Wed May 22 12:20:00 +0000 2019</td>\n",
       "      <td>1.13117e+18</td>\n",
       "      <td>1.131173e+18</td>\n",
       "      <td>La ruta de easyJet entre Londres y Menorca tra...</td>\n",
       "      <td>3.933741e+08</td>\n",
       "      <td>es</td>\n",
       "      <td>1.558528e+12</td>\n",
       "      <td>0</td>\n",
       "    </tr>\n",
       "    <tr>\n",
       "      <th>1</th>\n",
       "      <td>1</td>\n",
       "      <td>5ec66ff9f3c74bef68594543</td>\n",
       "      <td>Wed May 22 12:20:01 +0000 2019</td>\n",
       "      <td>1.13117e+18</td>\n",
       "      <td>1.131173e+18</td>\n",
       "      <td>RT @bttr_as1: @goody_tracy Here’s a list of so...</td>\n",
       "      <td>3.420691e+09</td>\n",
       "      <td>en</td>\n",
       "      <td>1.558528e+12</td>\n",
       "      <td>1</td>\n",
       "    </tr>\n",
       "    <tr>\n",
       "      <th>2</th>\n",
       "      <td>2</td>\n",
       "      <td>5ec66ff9f3c74bef68594544</td>\n",
       "      <td>Wed May 22 12:20:02 +0000 2019</td>\n",
       "      <td>1.13117e+18</td>\n",
       "      <td>1.131173e+18</td>\n",
       "      <td>@British_Airways</td>\n",
       "      <td>3.943766e+08</td>\n",
       "      <td>und</td>\n",
       "      <td>1.558528e+12</td>\n",
       "      <td>0</td>\n",
       "    </tr>\n",
       "    <tr>\n",
       "      <th>3</th>\n",
       "      <td>3</td>\n",
       "      <td>5ec66ff9f3c74bef68594545</td>\n",
       "      <td>Wed May 22 12:20:12 +0000 2019</td>\n",
       "      <td>1.13117e+18</td>\n",
       "      <td>1.131173e+18</td>\n",
       "      <td>RT @TheRaceRadio: Nice change by @AmericanAir....</td>\n",
       "      <td>3.648856e+07</td>\n",
       "      <td>en</td>\n",
       "      <td>1.558528e+12</td>\n",
       "      <td>1</td>\n",
       "    </tr>\n",
       "    <tr>\n",
       "      <th>4</th>\n",
       "      <td>4</td>\n",
       "      <td>5ec66ff9f3c74bef68594546</td>\n",
       "      <td>Wed May 22 12:20:28 +0000 2019</td>\n",
       "      <td>1.13117e+18</td>\n",
       "      <td>1.131173e+18</td>\n",
       "      <td>RT @sandeeprrao1991: BREAKING:-\\nKLM to fly 3x...</td>\n",
       "      <td>1.419335e+07</td>\n",
       "      <td>en</td>\n",
       "      <td>1.558528e+12</td>\n",
       "      <td>0</td>\n",
       "    </tr>\n",
       "  </tbody>\n",
       "</table>\n",
       "</div>"
      ],
      "text/plain": [
       "   Unnamed: 0                       _id                      created_at  \\\n",
       "0           0  5ec66ff9f3c74bef68594542  Wed May 22 12:20:00 +0000 2019   \n",
       "1           1  5ec66ff9f3c74bef68594543  Wed May 22 12:20:01 +0000 2019   \n",
       "2           2  5ec66ff9f3c74bef68594544  Wed May 22 12:20:02 +0000 2019   \n",
       "3           3  5ec66ff9f3c74bef68594545  Wed May 22 12:20:12 +0000 2019   \n",
       "4           4  5ec66ff9f3c74bef68594546  Wed May 22 12:20:28 +0000 2019   \n",
       "\n",
       "            id        id_str  \\\n",
       "0  1.13117e+18  1.131173e+18   \n",
       "1  1.13117e+18  1.131173e+18   \n",
       "2  1.13117e+18  1.131173e+18   \n",
       "3  1.13117e+18  1.131173e+18   \n",
       "4  1.13117e+18  1.131173e+18   \n",
       "\n",
       "                                                text   user.id_str lang  \\\n",
       "0  La ruta de easyJet entre Londres y Menorca tra...  3.933741e+08   es   \n",
       "1  RT @bttr_as1: @goody_tracy Here’s a list of so...  3.420691e+09   en   \n",
       "2                                   @British_Airways  3.943766e+08  und   \n",
       "3  RT @TheRaceRadio: Nice change by @AmericanAir....  3.648856e+07   en   \n",
       "4  RT @sandeeprrao1991: BREAKING:-\\nKLM to fly 3x...  1.419335e+07   en   \n",
       "\n",
       "   timestamp_ms  sentiment  \n",
       "0  1.558528e+12          0  \n",
       "1  1.558528e+12          1  \n",
       "2  1.558528e+12          0  \n",
       "3  1.558528e+12          1  \n",
       "4  1.558528e+12          0  "
      ]
     },
     "execution_count": 2,
     "metadata": {},
     "output_type": "execute_result"
    }
   ],
   "source": [
    "basic_with_sentiment.head()"
   ]
  },
  {
   "cell_type": "code",
   "execution_count": 4,
   "metadata": {},
   "outputs": [
    {
     "name": "stdout",
     "output_type": "stream",
     "text": [
      "Python version is 3.7.5 (tags/v3.7.5:5c02a39a0b, Oct 15 2019, 00:11:34) [MSC v.1916 64 bit (AMD64)]\n",
      "Pandas version is 1.0.3\n",
      "C:/Users/20193815/Documents/Data Challenge/conversation_full.csv\n",
      "_id                       object\n",
      "in_reply_to_status_id    float64\n",
      "dtype: object\n"
     ]
    },
    {
     "name": "stdin",
     "output_type": "stream",
     "text": [
      "Please specify your DataFrame name df_conversations\n"
     ]
    },
    {
     "name": "stdout",
     "output_type": "stream",
     "text": [
      "Dtypes after transformation:\n",
      " in_reply_to_status_id    Int64\n",
      "dtype: object\n"
     ]
    }
   ],
   "source": [
    "%run import_file.ipynb"
   ]
  },
  {
   "cell_type": "code",
   "execution_count": 5,
   "metadata": {},
   "outputs": [
    {
     "data": {
      "text/html": [
       "<div>\n",
       "<style scoped>\n",
       "    .dataframe tbody tr th:only-of-type {\n",
       "        vertical-align: middle;\n",
       "    }\n",
       "\n",
       "    .dataframe tbody tr th {\n",
       "        vertical-align: top;\n",
       "    }\n",
       "\n",
       "    .dataframe thead th {\n",
       "        text-align: right;\n",
       "    }\n",
       "</style>\n",
       "<table border=\"1\" class=\"dataframe\">\n",
       "  <thead>\n",
       "    <tr style=\"text-align: right;\">\n",
       "      <th></th>\n",
       "      <th>in_reply_to_status_id</th>\n",
       "    </tr>\n",
       "  </thead>\n",
       "  <tbody>\n",
       "    <tr>\n",
       "      <th>0</th>\n",
       "      <td>&lt;NA&gt;</td>\n",
       "    </tr>\n",
       "    <tr>\n",
       "      <th>1</th>\n",
       "      <td>&lt;NA&gt;</td>\n",
       "    </tr>\n",
       "    <tr>\n",
       "      <th>2</th>\n",
       "      <td>1131032916232826880</td>\n",
       "    </tr>\n",
       "    <tr>\n",
       "      <th>3</th>\n",
       "      <td>&lt;NA&gt;</td>\n",
       "    </tr>\n",
       "    <tr>\n",
       "      <th>4</th>\n",
       "      <td>&lt;NA&gt;</td>\n",
       "    </tr>\n",
       "    <tr>\n",
       "      <th>...</th>\n",
       "      <td>...</td>\n",
       "    </tr>\n",
       "    <tr>\n",
       "      <th>6454270</th>\n",
       "      <td>&lt;NA&gt;</td>\n",
       "    </tr>\n",
       "    <tr>\n",
       "      <th>6454271</th>\n",
       "      <td>&lt;NA&gt;</td>\n",
       "    </tr>\n",
       "    <tr>\n",
       "      <th>6454272</th>\n",
       "      <td>&lt;NA&gt;</td>\n",
       "    </tr>\n",
       "    <tr>\n",
       "      <th>6454273</th>\n",
       "      <td>&lt;NA&gt;</td>\n",
       "    </tr>\n",
       "    <tr>\n",
       "      <th>6454274</th>\n",
       "      <td>&lt;NA&gt;</td>\n",
       "    </tr>\n",
       "  </tbody>\n",
       "</table>\n",
       "<p>6454275 rows × 1 columns</p>\n",
       "</div>"
      ],
      "text/plain": [
       "         in_reply_to_status_id\n",
       "0                         <NA>\n",
       "1                         <NA>\n",
       "2          1131032916232826880\n",
       "3                         <NA>\n",
       "4                         <NA>\n",
       "...                        ...\n",
       "6454270                   <NA>\n",
       "6454271                   <NA>\n",
       "6454272                   <NA>\n",
       "6454273                   <NA>\n",
       "6454274                   <NA>\n",
       "\n",
       "[6454275 rows x 1 columns]"
      ]
     },
     "execution_count": 5,
     "metadata": {},
     "output_type": "execute_result"
    }
   ],
   "source": [
    "df_conversations"
   ]
  }
 ],
 "metadata": {
  "kernelspec": {
   "display_name": "Python 3",
   "language": "python",
   "name": "python3"
  },
  "language_info": {
   "codemirror_mode": {
    "name": "ipython",
    "version": 3
   },
   "file_extension": ".py",
   "mimetype": "text/x-python",
   "name": "python",
   "nbconvert_exporter": "python",
   "pygments_lexer": "ipython3",
   "version": "3.7.5"
  }
 },
 "nbformat": 4,
 "nbformat_minor": 4
}
