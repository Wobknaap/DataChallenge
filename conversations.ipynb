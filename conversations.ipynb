{
 "cells": [
  {
   "cell_type": "code",
   "execution_count": null,
   "metadata": {
    "colab": {},
    "colab_type": "code",
    "id": "qKfO7rvxvAIZ"
   },
   "outputs": [],
   "source": [
    "import pandas as pd\n",
    "import numpy as np\n",
    "import math"
   ]
  },
  {
   "cell_type": "code",
   "execution_count": 2,
   "metadata": {},
   "outputs": [],
   "source": [
    "pd.options.display.float_format = '{:.0f}'.format"
   ]
  },
  {
   "cell_type": "markdown",
   "metadata": {},
   "source": [
    "<h2>Only for google colab:</h2>"
   ]
  },
  {
   "cell_type": "code",
   "execution_count": 3,
   "metadata": {
    "colab": {
     "base_uri": "https://localhost:8080/",
     "height": 128
    },
    "colab_type": "code",
    "executionInfo": {
     "elapsed": 21709,
     "status": "ok",
     "timestamp": 1588837251774,
     "user": {
      "displayName": "Rianne vd Leeuw",
      "photoUrl": "",
      "userId": "11464058957655713375"
     },
     "user_tz": -120
    },
    "id": "JKGmFfGy2RNi",
    "outputId": "5a9a9c88-d199-4e49-9046-ebda6ce181c3"
   },
   "outputs": [],
   "source": [
    "# from google.colab import drive\n",
    "# drive.mount('/content/gdrive/')\n",
    "\n",
    "# !ls '/content/gdrive/My Drive/Data challenge/code'\n",
    "\n",
    "# # import single json file as dataframe\n",
    "# df = pd.read_json('/content/gdrive/My Drive/Data challenge/code/airlines-1558527599826.json', orient = 'records', lines = True)"
   ]
  },
  {
   "cell_type": "code",
   "execution_count": 36,
   "metadata": {},
   "outputs": [],
   "source": [
    "# df = pd.read_json('airlines-1558527599826.json', orient = 'records', lines = True)\n",
    "df = pd.read_csv('philipp.csv', usecols=['id_str','created_at','in_reply_to_status_id_str'])"
   ]
  },
  {
   "cell_type": "code",
   "execution_count": 38,
   "metadata": {},
   "outputs": [
    {
     "data": {
      "text/html": [
       "<div>\n",
       "<style scoped>\n",
       "    .dataframe tbody tr th:only-of-type {\n",
       "        vertical-align: middle;\n",
       "    }\n",
       "\n",
       "    .dataframe tbody tr th {\n",
       "        vertical-align: top;\n",
       "    }\n",
       "\n",
       "    .dataframe thead th {\n",
       "        text-align: right;\n",
       "    }\n",
       "</style>\n",
       "<table border=\"1\" class=\"dataframe\">\n",
       "  <thead>\n",
       "    <tr style=\"text-align: right;\">\n",
       "      <th></th>\n",
       "      <th>created_at</th>\n",
       "      <th>id_str</th>\n",
       "      <th>in_reply_to_status_id_str</th>\n",
       "    </tr>\n",
       "  </thead>\n",
       "  <tbody>\n",
       "    <tr>\n",
       "      <th>0</th>\n",
       "      <td>Wed May 22 12:20:00 +0000 2019</td>\n",
       "      <td>1131172858951024640</td>\n",
       "      <td>nan</td>\n",
       "    </tr>\n",
       "    <tr>\n",
       "      <th>1</th>\n",
       "      <td>Wed May 22 12:20:01 +0000 2019</td>\n",
       "      <td>1131172864147808256</td>\n",
       "      <td>nan</td>\n",
       "    </tr>\n",
       "    <tr>\n",
       "      <th>2</th>\n",
       "      <td>Wed May 22 12:20:02 +0000 2019</td>\n",
       "      <td>1131172867985485824</td>\n",
       "      <td>1131032916232826880</td>\n",
       "    </tr>\n",
       "    <tr>\n",
       "      <th>3</th>\n",
       "      <td>Wed May 22 12:20:12 +0000 2019</td>\n",
       "      <td>1131172909463027712</td>\n",
       "      <td>nan</td>\n",
       "    </tr>\n",
       "    <tr>\n",
       "      <th>4</th>\n",
       "      <td>Wed May 22 12:20:28 +0000 2019</td>\n",
       "      <td>1131172975682605056</td>\n",
       "      <td>nan</td>\n",
       "    </tr>\n",
       "    <tr>\n",
       "      <th>...</th>\n",
       "      <td>...</td>\n",
       "      <td>...</td>\n",
       "      <td>...</td>\n",
       "    </tr>\n",
       "    <tr>\n",
       "      <th>6454270</th>\n",
       "      <td>Mon Mar 30 18:43:14 +0000 2020</td>\n",
       "      <td>1244696703690772480</td>\n",
       "      <td>nan</td>\n",
       "    </tr>\n",
       "    <tr>\n",
       "      <th>6454271</th>\n",
       "      <td>Mon Mar 30 18:43:15 +0000 2020</td>\n",
       "      <td>1244696708983984128</td>\n",
       "      <td>nan</td>\n",
       "    </tr>\n",
       "    <tr>\n",
       "      <th>6454272</th>\n",
       "      <td>Mon Mar 30 18:43:15 +0000 2020</td>\n",
       "      <td>1244696710447800320</td>\n",
       "      <td>nan</td>\n",
       "    </tr>\n",
       "    <tr>\n",
       "      <th>6454273</th>\n",
       "      <td>Mon Mar 30 18:43:16 +0000 2020</td>\n",
       "      <td>1244696713350217728</td>\n",
       "      <td>nan</td>\n",
       "    </tr>\n",
       "    <tr>\n",
       "      <th>6454274</th>\n",
       "      <td>Mon Mar 30 18:43:16 +0000 2020</td>\n",
       "      <td>1244696713765564416</td>\n",
       "      <td>nan</td>\n",
       "    </tr>\n",
       "  </tbody>\n",
       "</table>\n",
       "<p>6454275 rows × 3 columns</p>\n",
       "</div>"
      ],
      "text/plain": [
       "                             created_at              id_str  \\\n",
       "0        Wed May 22 12:20:00 +0000 2019 1131172858951024640   \n",
       "1        Wed May 22 12:20:01 +0000 2019 1131172864147808256   \n",
       "2        Wed May 22 12:20:02 +0000 2019 1131172867985485824   \n",
       "3        Wed May 22 12:20:12 +0000 2019 1131172909463027712   \n",
       "4        Wed May 22 12:20:28 +0000 2019 1131172975682605056   \n",
       "...                                 ...                 ...   \n",
       "6454270  Mon Mar 30 18:43:14 +0000 2020 1244696703690772480   \n",
       "6454271  Mon Mar 30 18:43:15 +0000 2020 1244696708983984128   \n",
       "6454272  Mon Mar 30 18:43:15 +0000 2020 1244696710447800320   \n",
       "6454273  Mon Mar 30 18:43:16 +0000 2020 1244696713350217728   \n",
       "6454274  Mon Mar 30 18:43:16 +0000 2020 1244696713765564416   \n",
       "\n",
       "         in_reply_to_status_id_str  \n",
       "0                              nan  \n",
       "1                              nan  \n",
       "2              1131032916232826880  \n",
       "3                              nan  \n",
       "4                              nan  \n",
       "...                            ...  \n",
       "6454270                        nan  \n",
       "6454271                        nan  \n",
       "6454272                        nan  \n",
       "6454273                        nan  \n",
       "6454274                        nan  \n",
       "\n",
       "[6454275 rows x 3 columns]"
      ]
     },
     "execution_count": 38,
     "metadata": {},
     "output_type": "execute_result"
    }
   ],
   "source": [
    "df"
   ]
  },
  {
   "cell_type": "code",
   "execution_count": 52,
   "metadata": {},
   "outputs": [],
   "source": [
    "df.drop(df[df['id_str'].astype(str).str.len()<5].index, inplace = True)\n",
    "df['id_str']=df['id_str'].astype('int64')\n",
    "# df['id']=df['id'].astype('int64')\n",
    "df = df.rename({'id_str': 'id','in_reply_to_status_id_str':'in_reply_to_status_id'}, axis=1)"
   ]
  },
  {
   "cell_type": "code",
   "execution_count": 55,
   "metadata": {},
   "outputs": [],
   "source": [
    "df=df.sort_values('created_at')"
   ]
  },
  {
   "cell_type": "code",
   "execution_count": 56,
   "metadata": {},
   "outputs": [],
   "source": [
    "df.drop_duplicates(subset =\"id\", \n",
    "                     keep = 'first', inplace = True)"
   ]
  },
  {
   "cell_type": "code",
   "execution_count": 63,
   "metadata": {
    "scrolled": true
   },
   "outputs": [],
   "source": [
    "df.drop(df[df['id']==df['in_reply_to_status_id']].index,inplace= True)"
   ]
  },
  {
   "cell_type": "code",
   "execution_count": 64,
   "metadata": {},
   "outputs": [],
   "source": [
    "df_reply=df[~df['in_reply_to_status_id'].isnull()]\n",
    "index=0\n",
    "def met2():\n",
    "    def lookup(ids):\n",
    "        ret_list=[]\n",
    "        df_np=df_reply.loc[df_reply['in_reply_to_status_id']==ids]['id'].values\n",
    "        for row in range(0,len(df_np)):\n",
    "            global index\n",
    "            used[index]=df_np[row]\n",
    "            index+=1\n",
    "            buffer=df[df['id']==df_np[row]]\n",
    "            if len(buffer)==0:\n",
    "                ret_list.append(df_np[row])\n",
    "            else:\n",
    "                lookup_ret=lookup(buffer['id'].item())\n",
    "                if lookup_ret:\n",
    "                    ret_list.extend([df_np[row],lookup_ret])\n",
    "                else:\n",
    "                    ret_list.append(df_np[row])\n",
    "        if len(ret_list)==0:\n",
    "            return\n",
    "        return ret_list\n",
    "    used=np.zeros(len(df), dtype='int64')\n",
    "    with open('conversations_list.txt', 'w') as f:\n",
    "        id_np=np.intersect1d(df[df['in_reply_to_status_id'].isnull()]['id'], df[~df['in_reply_to_status_id'].isnull()]['in_reply_to_status_id'].astype('int64'))\n",
    "        for row in range(0,len(id_np)):\n",
    "            if math.isnan(id_np[row]):continue\n",
    "            this_id=id_np[row]\n",
    "            if this_id in used: continue\n",
    "            bla=[this_id]\n",
    "            try:\n",
    "                lookup_ret=lookup(this_id)\n",
    "            except:\n",
    "                continue\n",
    "            if lookup_ret:\n",
    "                if len(lookup_ret)==1:\n",
    "                    bla.append(lookup_ret[0])\n",
    "                else:\n",
    "                    bla.extend(lookup_ret)\n",
    "                f.write(\"%s\\n\" % bla)"
   ]
  },
  {
   "cell_type": "code",
   "execution_count": null,
   "metadata": {
    "scrolled": true
   },
   "outputs": [],
   "source": [
    "%%time\n",
    "met2()"
   ]
  },
  {
   "cell_type": "code",
   "execution_count": 24,
   "metadata": {},
   "outputs": [
    {
     "data": {
      "text/plain": [
       "array([1131173010508062720, 1131173313982734336, 1131173345918148608, ...,\n",
       "       1177008913675247616, 1177008933992402944, 1177009156261392384],\n",
       "      dtype=int64)"
      ]
     },
     "execution_count": 24,
     "metadata": {},
     "output_type": "execute_result"
    }
   ],
   "source": [
    "np.concatenate([np.intersect1d(df[df['in_reply_to_status_id'].isnull()]['id'], df[~df['in_reply_to_status_id'].isnull()]['in_reply_to_status_id'].astype('int64')),df[~df['in_reply_to_status_id'].isnull()]['id']])"
   ]
  },
  {
   "cell_type": "code",
   "execution_count": 26,
   "metadata": {},
   "outputs": [],
   "source": [
    "pd.DataFrame(np.concatenate([np.intersect1d(df[df['in_reply_to_status_id'].isnull()]['id'], df[~df['in_reply_to_status_id'].isnull()]['in_reply_to_status_id'].astype('int64')),df[~df['in_reply_to_status_id'].isnull()]['id']])).to_csv('tweets_in_conv.csv')"
   ]
  },
  {
   "cell_type": "code",
   "execution_count": null,
   "metadata": {},
   "outputs": [],
   "source": []
  },
  {
   "cell_type": "code",
   "execution_count": null,
   "metadata": {},
   "outputs": [],
   "source": []
  }
 ],
 "metadata": {
  "colab": {
   "collapsed_sections": [],
   "name": "conversations.ipynb",
   "provenance": []
  },
  "kernelspec": {
   "display_name": "Python 3",
   "language": "python",
   "name": "python3"
  },
  "language_info": {
   "codemirror_mode": {
    "name": "ipython",
    "version": 3
   },
   "file_extension": ".py",
   "mimetype": "text/x-python",
   "name": "python",
   "nbconvert_exporter": "python",
   "pygments_lexer": "ipython3",
   "version": "3.7.1"
  }
 },
 "nbformat": 4,
 "nbformat_minor": 1
}
