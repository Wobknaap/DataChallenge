{
 "cells": [
  {
   "cell_type": "code",
   "execution_count": 2,
   "metadata": {},
   "outputs": [],
   "source": [
    "pd.options.display.max_rows = 999"
   ]
  },
  {
   "cell_type": "code",
   "execution_count": 1,
   "metadata": {},
   "outputs": [],
   "source": [
    "import pandas as pd"
   ]
  },
  {
   "cell_type": "code",
   "execution_count": 31,
   "metadata": {},
   "outputs": [
    {
     "name": "stderr",
     "output_type": "stream",
     "text": [
      "c:\\users\\20193815\\appdata\\local\\programs\\python\\python37\\lib\\site-packages\\IPython\\core\\interactiveshell.py:3063: DtypeWarning: Columns (1,2,4,6) have mixed types.Specify dtype option on import or set low_memory=False.\n",
      "  interactivity=interactivity, compiler=compiler, result=result)\n"
     ]
    }
   ],
   "source": [
    "#path_to_csv=\"C:\\Users\\20193815\\Documents\\Data Challenge\\month_csv.csv\"\n",
    "df = pd.read_csv(r\"C:\\Users\\20193815\\Documents\\Data Challenge\\Full_basic.csv\", header = 0)"
   ]
  },
  {
   "cell_type": "code",
   "execution_count": 32,
   "metadata": {},
   "outputs": [
    {
     "data": {
      "text/plain": [
       "_id             5ec66ff9f3c74bef68595cbb\n",
       "created_at                           NaN\n",
       "id                                   NaN\n",
       "id_str                               NaN\n",
       "text                                 NaN\n",
       "user.id_str                          NaN\n",
       "lang                                 NaN\n",
       "timestamp_ms                         NaN\n",
       "Name: 6009, dtype: object"
      ]
     },
     "execution_count": 32,
     "metadata": {},
     "output_type": "execute_result"
    }
   ],
   "source": [
    "df.iloc[6009]"
   ]
  },
  {
   "cell_type": "code",
   "execution_count": 33,
   "metadata": {},
   "outputs": [
    {
     "data": {
      "text/plain": [
       "(7527686, 8)"
      ]
     },
     "execution_count": 33,
     "metadata": {},
     "output_type": "execute_result"
    }
   ],
   "source": [
    "df.shape"
   ]
  },
  {
   "cell_type": "code",
   "execution_count": 34,
   "metadata": {},
   "outputs": [
    {
     "data": {
      "text/plain": [
       "_id              object\n",
       "created_at       object\n",
       "id               object\n",
       "id_str          float64\n",
       "text             object\n",
       "user.id_str     float64\n",
       "lang             object\n",
       "timestamp_ms    float64\n",
       "dtype: object"
      ]
     },
     "execution_count": 34,
     "metadata": {},
     "output_type": "execute_result"
    }
   ],
   "source": [
    "df.dtypes"
   ]
  },
  {
   "cell_type": "code",
   "execution_count": 35,
   "metadata": {},
   "outputs": [],
   "source": [
    "not_number = df[df['id'].isna()]"
   ]
  },
  {
   "cell_type": "code",
   "execution_count": 36,
   "metadata": {},
   "outputs": [
    {
     "data": {
      "text/plain": [
       "<PandasArray>\n",
       "[   6009,    8216,   16647,   18854,   33691,   39884,   42017,   43715,\n",
       "   49880,   51891,\n",
       " ...\n",
       " 7453012, 7464490, 7467687, 7474223, 7477281, 7484824, 7487222, 7504282,\n",
       " 7516499, 7525773]\n",
       "Length: 657678, dtype: int64"
      ]
     },
     "execution_count": 36,
     "metadata": {},
     "output_type": "execute_result"
    }
   ],
   "source": [
    "lst = not_number.index.array\n",
    "lst\n"
   ]
  },
  {
   "cell_type": "code",
   "execution_count": 37,
   "metadata": {},
   "outputs": [],
   "source": [
    "df.drop(lst, inplace = True)"
   ]
  },
  {
   "cell_type": "code",
   "execution_count": 38,
   "metadata": {},
   "outputs": [
    {
     "data": {
      "text/plain": [
       "0          1131172858951024640\n",
       "1          1131172864147808256\n",
       "2          1131172867985485824\n",
       "3          1131172909463027712\n",
       "4          1131172975682605056\n",
       "                  ...         \n",
       "7527681    1244696703690772480\n",
       "7527682    1244696708983984128\n",
       "7527683    1244696710447800320\n",
       "7527684    1244696713350217728\n",
       "7527685    1244696713765564416\n",
       "Name: id_str, Length: 6870008, dtype: int64"
      ]
     },
     "execution_count": 38,
     "metadata": {},
     "output_type": "execute_result"
    }
   ],
   "source": [
    "df['id_str'].astype('int64')"
   ]
  }
 ],
 "metadata": {
  "kernelspec": {
   "display_name": "Python 3",
   "language": "python",
   "name": "python3"
  },
  "language_info": {
   "codemirror_mode": {
    "name": "ipython",
    "version": 3
   },
   "file_extension": ".py",
   "mimetype": "text/x-python",
   "name": "python",
   "nbconvert_exporter": "python",
   "pygments_lexer": "ipython3",
   "version": "3.7.5"
  }
 },
 "nbformat": 4,
 "nbformat_minor": 4
}
