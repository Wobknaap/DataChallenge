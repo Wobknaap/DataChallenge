{
 "cells": [
  {
   "cell_type": "code",
   "execution_count": 1,
   "metadata": {
    "colab": {},
    "colab_type": "code",
    "id": "jibBruCWVinj"
   },
   "outputs": [],
   "source": [
    "import json \n",
    "import os "
   ]
  },
  {
   "cell_type": "code",
   "execution_count": 2,
   "metadata": {
    "colab": {},
    "colab_type": "code",
    "id": "CDPY7z8dVins"
   },
   "outputs": [],
   "source": [
    "bad_keys_id = ['id' , 'in_reply_to_status_id','in_reply_to_status_id',       \n",
    "               'in_reply_to_user_id' ,'contributors', 'geo' ]                           # 'source'\n",
    "\n",
    "bad_keys_user = ['id','contributors_enabled','default_profile' , 'default_profile_image' , 'lang'\n",
    "                     ,'following','notifications', 'is_translator', 'translator_type', 'utc_offset']        # https://developer.twitter.com/en/docs/tweets/data-dictionary/overview/user-object\n",
    "                                                                                                             # deprecated items are removed \n",
    "\n",
    "bad_keys_user1 = ['profile_background_color',\n",
    " 'profile_background_image_url',\n",
    " 'profile_background_image_url_https',\n",
    " 'profile_background_tile',\n",
    " 'profile_link_color',\n",
    " 'profile_sidebar_border_color',\n",
    " 'profile_sidebar_fill_color',\n",
    " 'profile_text_color',                       # all the unwanted features\n",
    " 'profile_use_background_image',\n",
    " 'profile_image_url',\n",
    " 'profile_image_url_https',\n",
    " 'profile_banner_url',\n",
    " 'default_profile_image']\n",
    "\n",
    "\n",
    "def delete_columns(dic : dict  ) -> dict :\n",
    "    \"\"\"function that takes in a dict and deletes the bad columns from the json file.\n",
    "    \"\"\"\n",
    "    \n",
    "    \n",
    "    for key in bad_keys_user :        # accessing and deleting the unwanted rows\n",
    "        try :\n",
    "            del dic['user'][key]\n",
    "        except : \n",
    "            pass\n",
    "        \n",
    "    for key in bad_keys_user1 :\n",
    "        try :\n",
    "            del dic['user'][key]\n",
    "        except : \n",
    "            pass\n",
    " \n",
    "       \n",
    "    \n",
    "    try :                                                # deletes the id from the mentioned accounts\n",
    "        for x in dic['entities']['user_mentions'] :\n",
    "         \n",
    "            del (x['id'])\n",
    "    except:\n",
    "        pass \n",
    "    \n",
    "    \n",
    "    for key in bad_keys_id :\n",
    "        try: \n",
    "            del (dic[key])\n",
    "        except : \n",
    "            pass\n",
    "\n",
    "    \n",
    "    try :                             # removes all media information \n",
    "        del (dic ['entities']['media'])      # if there is a image in the tweet, it will get deleted\n",
    "    except :                               # workaround for errors (?)\n",
    "        pass\n",
    "    \n",
    "    try :                                     \n",
    "        del (dic['extended_entities'])            #  contain a copy of the image so this is deleted aswell         \n",
    "    except :                                # workaround for errors (?)\n",
    "        pass\n",
    "    "
   ]
  },
  {
   "cell_type": "code",
   "execution_count": 8,
   "metadata": {
    "colab": {},
    "colab_type": "code",
    "id": "5iLwztkJVinz",
    "outputId": "32e3a181-2025-49da-9ddb-f44056e0001b"
   },
   "outputs": [
    {
     "ename": "SyntaxError",
     "evalue": "unexpected EOF while parsing (<ipython-input-8-233270ebd797>, line 6)",
     "output_type": "error",
     "traceback": [
      "\u001b[1;36m  File \u001b[1;32m\"<ipython-input-8-233270ebd797>\"\u001b[1;36m, line \u001b[1;32m6\u001b[0m\n\u001b[1;33m    json_list.append(name          # getting a list from the file names to loop over in the next cell\u001b[0m\n\u001b[1;37m                                                                                                     ^\u001b[0m\n\u001b[1;31mSyntaxError\u001b[0m\u001b[1;31m:\u001b[0m unexpected EOF while parsing\n"
     ]
    }
   ],
   "source": [
    "json_list = []\n",
    "\n",
    "for root, dirs, files in os.walk('C:/Users/20193815/Documents/Data Challenge/Test'):\n",
    "    for name in files:\n",
    "        if name.endswith((\".json\")):\n",
    "            json_list.append(name)          # getting a list from the file names to loop over in the next cell\n",
    "print()"
   ]
  },
  {
   "cell_type": "code",
   "execution_count": null,
   "metadata": {
    "colab": {},
    "colab_type": "code",
    "id": "KNYIsUYdVin9"
   },
   "outputs": [],
   "source": [
    "it = 1 \n",
    "for json_file in json_list :\n",
    "    tweets = []\n",
    "    try : \n",
    "        for line in open('C:/Users/20193623/Desktop/DBL Data Challange/JSON file 1/{}'.format(json_file), 'r'):\n",
    "            try :\n",
    "                tweets.append(json.loads(line))\n",
    "            except : \n",
    "                pass\n",
    "    \n",
    "        tweets_copy = tweets.copy() # copy for testing \n",
    "        \n",
    "    \n",
    "    \n",
    "        for dic in tweets_copy  :\n",
    "            delete_columns(dic)\n",
    "            try : \n",
    "                delete_columns(dic['retweeted_status'])\n",
    "            except : \n",
    "                pass\n",
    "            try :\n",
    "                delete_columns(dic['retweeted_status']['extended_tweet'])\n",
    "            except:\n",
    "                pass\n",
    "        \n",
    "            try : \n",
    "                delete_columns(dic['entities']['user_mentions'])                  # more deleting unwanted columns\n",
    "        \n",
    "            except : \n",
    "                pass\n",
    "            try : \n",
    "                delete_columns(dic['extended_tweet']['entities']['user_mentions'])\n",
    "            \n",
    "            except : \n",
    "                pass\n",
    "        out_file = open(\"C:/Users/20193623/Desktop/DBL Data Challange/cleaned_tweets/tweets_cleaned{}.json\".format(it), \"w\")\n",
    "        json.dump(tweets_copy, out_file)   # dumps the cleaned data into the opened json\n",
    "        out_file.close()  # closes the json \n",
    "        it +=1   # iteration for the file name (1st file is names tweets_cleaned_1 etc.))\n",
    "    \n",
    "    except : \n",
    "        pass"
   ]
  }
 ],
 "metadata": {
  "colab": {
   "name": "JSON_cleaning-Automated.ipynb",
   "provenance": []
  },
  "kernelspec": {
   "display_name": "Python 3",
   "language": "python",
   "name": "python3"
  },
  "language_info": {
   "codemirror_mode": {
    "name": "ipython",
    "version": 3
   },
   "file_extension": ".py",
   "mimetype": "text/x-python",
   "name": "python",
   "nbconvert_exporter": "python",
   "pygments_lexer": "ipython3",
   "version": "3.7.5"
  }
 },
 "nbformat": 4,
 "nbformat_minor": 4
}
