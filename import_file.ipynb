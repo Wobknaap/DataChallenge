{
 "cells": [
  {
   "cell_type": "markdown",
   "metadata": {},
   "source": [
    "# Notebook for importing personal csv"
   ]
  },
  {
   "cell_type": "markdown",
   "metadata": {},
   "source": [
    "### Importing libraries"
   ]
  },
  {
   "cell_type": "code",
   "execution_count": 3,
   "metadata": {},
   "outputs": [],
   "source": [
    "import pandas as pd\n",
    "import numpy as np\n",
    "import sys\n",
    "from datetime import datetime"
   ]
  },
  {
   "cell_type": "markdown",
   "metadata": {},
   "source": [
    "### Check version of Pandas and version of Python\n",
    "\n",
    "These should be 1.0.3 for Pandas and I am using 3.7.5 for Python because of SKlearn compatibilities. However, 3.8 should also work."
   ]
  },
  {
   "cell_type": "code",
   "execution_count": 4,
   "metadata": {},
   "outputs": [
    {
     "name": "stdout",
     "output_type": "stream",
     "text": [
      "Python version is 3.7.5 (tags/v3.7.5:5c02a39a0b, Oct 15 2019, 00:11:34) [MSC v.1916 64 bit (AMD64)]\n",
      "Pandas version is 1.0.3\n"
     ]
    }
   ],
   "source": [
    "print('Python version is', sys.version)\n",
    "print('Pandas version is', pd.__version__)"
   ]
  },
  {
   "cell_type": "markdown",
   "metadata": {},
   "source": [
    "### Importing the CSV\n",
    "\n",
    "Please define your path in the variable."
   ]
  },
  {
   "cell_type": "code",
   "execution_count": 6,
   "metadata": {},
   "outputs": [],
   "source": [
    "path = r'C:\\Users\\20193815\\Documents\\Data Challenge\\mentions.csv' \n",
    "#path = r'C:\\Users\\20193635\\Documents\\Data Science Year 1\\Q4\\Data Challenge\\Fulls csv\\Full_basic.csv' "
   ]
  },
  {
   "cell_type": "code",
   "execution_count": 7,
   "metadata": {},
   "outputs": [
    {
     "name": "stdout",
     "output_type": "stream",
     "text": [
      "_id                        object\n",
      "id_str                    float64\n",
      "entities.user_mentions     object\n",
      "dtype: object\n"
     ]
    },
    {
     "data": {
      "text/html": [
       "<div>\n",
       "<style scoped>\n",
       "    .dataframe tbody tr th:only-of-type {\n",
       "        vertical-align: middle;\n",
       "    }\n",
       "\n",
       "    .dataframe tbody tr th {\n",
       "        vertical-align: top;\n",
       "    }\n",
       "\n",
       "    .dataframe thead th {\n",
       "        text-align: right;\n",
       "    }\n",
       "</style>\n",
       "<table border=\"1\" class=\"dataframe\">\n",
       "  <thead>\n",
       "    <tr style=\"text-align: right;\">\n",
       "      <th></th>\n",
       "      <th>_id</th>\n",
       "      <th>id_str</th>\n",
       "      <th>entities.user_mentions</th>\n",
       "    </tr>\n",
       "  </thead>\n",
       "  <tbody>\n",
       "    <tr>\n",
       "      <th>0</th>\n",
       "      <td>5ec66ff9f3c74bef68594542</td>\n",
       "      <td>1.131173e+18</td>\n",
       "      <td>[]</td>\n",
       "    </tr>\n",
       "    <tr>\n",
       "      <th>1</th>\n",
       "      <td>5ec66ff9f3c74bef68594543</td>\n",
       "      <td>1.131173e+18</td>\n",
       "      <td>[{\"screen_name\":\"bttr_as1\",\"name\":\"AGirlHasNoP...</td>\n",
       "    </tr>\n",
       "    <tr>\n",
       "      <th>2</th>\n",
       "      <td>5ec66ff9f3c74bef68594544</td>\n",
       "      <td>1.131173e+18</td>\n",
       "      <td>[{\"screen_name\":\"British_Airways\",\"name\":\"Brit...</td>\n",
       "    </tr>\n",
       "    <tr>\n",
       "      <th>3</th>\n",
       "      <td>5ec66ff9f3c74bef68594545</td>\n",
       "      <td>1.131173e+18</td>\n",
       "      <td>[{\"screen_name\":\"TheRaceRadio\",\"name\":\"Race Ra...</td>\n",
       "    </tr>\n",
       "    <tr>\n",
       "      <th>4</th>\n",
       "      <td>5ec66ff9f3c74bef68594546</td>\n",
       "      <td>1.131173e+18</td>\n",
       "      <td>[{\"screen_name\":\"sandeeprrao1991\",\"name\":\"VOBL...</td>\n",
       "    </tr>\n",
       "  </tbody>\n",
       "</table>\n",
       "</div>"
      ],
      "text/plain": [
       "                        _id        id_str  \\\n",
       "0  5ec66ff9f3c74bef68594542  1.131173e+18   \n",
       "1  5ec66ff9f3c74bef68594543  1.131173e+18   \n",
       "2  5ec66ff9f3c74bef68594544  1.131173e+18   \n",
       "3  5ec66ff9f3c74bef68594545  1.131173e+18   \n",
       "4  5ec66ff9f3c74bef68594546  1.131173e+18   \n",
       "\n",
       "                              entities.user_mentions  \n",
       "0                                                 []  \n",
       "1  [{\"screen_name\":\"bttr_as1\",\"name\":\"AGirlHasNoP...  \n",
       "2  [{\"screen_name\":\"British_Airways\",\"name\":\"Brit...  \n",
       "3  [{\"screen_name\":\"TheRaceRadio\",\"name\":\"Race Ra...  \n",
       "4  [{\"screen_name\":\"sandeeprrao1991\",\"name\":\"VOBL...  "
      ]
     },
     "execution_count": 7,
     "metadata": {},
     "output_type": "execute_result"
    }
   ],
   "source": [
    "df = pd.read_csv(path)\n",
    "print(df.dtypes)\n",
    "df.head()"
   ]
  },
  {
   "cell_type": "markdown",
   "metadata": {},
   "source": [
    "### Cleaning up the df\n",
    "\n",
    "First we remove the _id column if present, then all the missing values. Afterwards we convert columns that are present to the correct dtype."
   ]
  },
  {
   "cell_type": "code",
   "execution_count": 8,
   "metadata": {},
   "outputs": [
    {
     "name": "stdout",
     "output_type": "stream",
     "text": [
      "Dtypes after transformation:\n",
      " id_str                     Int64\n",
      "entities.user_mentions    object\n",
      "dtype: object\n"
     ]
    },
    {
     "data": {
      "text/html": [
       "<div>\n",
       "<style scoped>\n",
       "    .dataframe tbody tr th:only-of-type {\n",
       "        vertical-align: middle;\n",
       "    }\n",
       "\n",
       "    .dataframe tbody tr th {\n",
       "        vertical-align: top;\n",
       "    }\n",
       "\n",
       "    .dataframe thead th {\n",
       "        text-align: right;\n",
       "    }\n",
       "</style>\n",
       "<table border=\"1\" class=\"dataframe\">\n",
       "  <thead>\n",
       "    <tr style=\"text-align: right;\">\n",
       "      <th></th>\n",
       "      <th>id_str</th>\n",
       "      <th>entities.user_mentions</th>\n",
       "    </tr>\n",
       "  </thead>\n",
       "  <tbody>\n",
       "    <tr>\n",
       "      <th>0</th>\n",
       "      <td>1131172858951024640</td>\n",
       "      <td>[]</td>\n",
       "    </tr>\n",
       "    <tr>\n",
       "      <th>1</th>\n",
       "      <td>1131172864147808256</td>\n",
       "      <td>[{\"screen_name\":\"bttr_as1\",\"name\":\"AGirlHasNoP...</td>\n",
       "    </tr>\n",
       "    <tr>\n",
       "      <th>2</th>\n",
       "      <td>1131172867985485824</td>\n",
       "      <td>[{\"screen_name\":\"British_Airways\",\"name\":\"Brit...</td>\n",
       "    </tr>\n",
       "    <tr>\n",
       "      <th>3</th>\n",
       "      <td>1131172909463027712</td>\n",
       "      <td>[{\"screen_name\":\"TheRaceRadio\",\"name\":\"Race Ra...</td>\n",
       "    </tr>\n",
       "    <tr>\n",
       "      <th>4</th>\n",
       "      <td>1131172975682605056</td>\n",
       "      <td>[{\"screen_name\":\"sandeeprrao1991\",\"name\":\"VOBL...</td>\n",
       "    </tr>\n",
       "  </tbody>\n",
       "</table>\n",
       "</div>"
      ],
      "text/plain": [
       "                id_str                             entities.user_mentions\n",
       "0  1131172858951024640                                                 []\n",
       "1  1131172864147808256  [{\"screen_name\":\"bttr_as1\",\"name\":\"AGirlHasNoP...\n",
       "2  1131172867985485824  [{\"screen_name\":\"British_Airways\",\"name\":\"Brit...\n",
       "3  1131172909463027712  [{\"screen_name\":\"TheRaceRadio\",\"name\":\"Race Ra...\n",
       "4  1131172975682605056  [{\"screen_name\":\"sandeeprrao1991\",\"name\":\"VOBL..."
      ]
     },
     "execution_count": 8,
     "metadata": {},
     "output_type": "execute_result"
    }
   ],
   "source": [
    "def cleanup(df):\n",
    "    \"\"\"Removes unnecessary columns and converts to the correct dtype\"\"\"\n",
    "    try:\n",
    "        df.drop('_id', axis = 1, inplace = True)\n",
    "    except:\n",
    "        print('_id not found')\n",
    "    \n",
    "    #Remove rows where id has a missing value\n",
    "    not_number = df[df['id_str'].isna()]\n",
    "    lst = not_number.index.array\n",
    "    df.drop(lst, inplace = True)\n",
    "    col_names = list(df.columns)\n",
    "    \n",
    "    string = ['text', 'lang', 'in_reply_to_status_id_str', ''] # Not all columnsnames have to be present in the used data set\n",
    "    integer = ['id_str','user.id_str', 'in_reply_to_status_id']\n",
    "    \n",
    "    \n",
    "    for col in col_names:\n",
    "        if col == 'created_at':\n",
    "            df[col] = df[col].astype(str)\n",
    "            print('created_at converted to string, use timestamp for datetime dtype')\n",
    "        if col == 'timestamp_ms':\n",
    "            df[col] = pd.to_datetime(df[col], unit = 'ms')\n",
    "            print('timestamp converted to datetime dtype')\n",
    "        if col == 'id':\n",
    "            print('Skip id, use id_str instead')\n",
    "        if col in integer:\n",
    "            df[col] = df[col].astype(pd.Int64Dtype())\n",
    "        if col in string:\n",
    "            df[col] = df[col].astype(str)\n",
    "\n",
    "    return df\n",
    "\n",
    "df = cleanup(df)\n",
    "\n",
    "print('Dtypes after transformation:\\n',df.dtypes)\n",
    "df.head()\n",
    "\n",
    "\n"
   ]
  },
  {
   "cell_type": "markdown",
   "metadata": {},
   "source": [
    "While string columns show up as having an object dtype, this is not actually the case. When retrieving a value from the column and checking the dtype it is a string. There might be some values in those columns that cause this issue."
   ]
  }
 ],
 "metadata": {
  "kernelspec": {
   "display_name": "Python 3",
   "language": "python",
   "name": "python3"
  },
  "language_info": {
   "codemirror_mode": {
    "name": "ipython",
    "version": 3
   },
   "file_extension": ".py",
   "mimetype": "text/x-python",
   "name": "python",
   "nbconvert_exporter": "python",
   "pygments_lexer": "ipython3",
   "version": "3.7.5"
  }
 },
 "nbformat": 4,
 "nbformat_minor": 4
}
