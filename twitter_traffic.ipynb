{
 "cells": [
  {
   "cell_type": "code",
   "execution_count": 1,
   "metadata": {},
   "outputs": [],
   "source": [
    "import pandas as pd\n",
    "import numpy as np\n",
    "import matplotlib as mpl"
   ]
  },
  {
   "cell_type": "code",
   "execution_count": 2,
   "metadata": {},
   "outputs": [],
   "source": [
    "# df = pd.read_csv('Full_basic.csv',index_col=['id'], usecols=['created_at','id','text','user.id_str','lang','timestamp_ms'])\n",
    "\n",
    "df = pd.read_json('airlines-1558527599826.json', orient = 'records', lines = True)"
   ]
  },
  {
   "cell_type": "code",
   "execution_count": 3,
   "metadata": {
    "scrolled": true
   },
   "outputs": [],
   "source": [
    "# date_parser = pd.to_datetime\n",
    "# df = pd.read_csv('Full_basic.csv',usecols=['created_at','lang'],\n",
    "#                  parse_dates=['created_at'],date_parser=date_parser,error_bad_lines=False)"
   ]
  },
  {
   "cell_type": "code",
   "execution_count": 4,
   "metadata": {},
   "outputs": [],
   "source": [
    "df['created_at']=df['created_at'].astype(str)"
   ]
  },
  {
   "cell_type": "code",
   "execution_count": 5,
   "metadata": {
    "scrolled": true
   },
   "outputs": [],
   "source": [
    "df['created_at'] = pd.to_datetime(df['created_at'])"
   ]
  },
  {
   "cell_type": "code",
   "execution_count": 6,
   "metadata": {},
   "outputs": [
    {
     "data": {
      "text/plain": [
       "count                         14387\n",
       "unique                        13057\n",
       "top       2019-05-22 19:56:06+00:00\n",
       "freq                             11\n",
       "first     2019-05-22 12:20:00+00:00\n",
       "last      2019-05-23 11:42:44+00:00\n",
       "Name: created_at, dtype: object"
      ]
     },
     "execution_count": 6,
     "metadata": {},
     "output_type": "execute_result"
    }
   ],
   "source": [
    "df['created_at'].describe()"
   ]
  },
  {
   "cell_type": "markdown",
   "metadata": {},
   "source": [
    "<h2>Distribution of calendar days:"
   ]
  },
  {
   "cell_type": "code",
   "execution_count": 7,
   "metadata": {
    "scrolled": false
   },
   "outputs": [
    {
     "data": {
      "text/plain": [
       "<matplotlib.axes._subplots.AxesSubplot at 0x2b7458d7518>"
      ]
     },
     "execution_count": 7,
     "metadata": {},
     "output_type": "execute_result"
    }
   ],
   "source": [
    "df['created_at'].dt.date.hist()"
   ]
  },
  {
   "cell_type": "markdown",
   "metadata": {},
   "source": [
    "<h2>Distribution of week days:"
   ]
  },
  {
   "cell_type": "code",
   "execution_count": 8,
   "metadata": {},
   "outputs": [
    {
     "data": {
      "text/plain": [
       "<matplotlib.axes._subplots.AxesSubplot at 0x2b745bda3c8>"
      ]
     },
     "execution_count": 8,
     "metadata": {},
     "output_type": "execute_result"
    },
    {
     "data": {
      "image/png": "[encoded data removed]",
      "text/plain": [
       "<Figure size 432x288 with 1 Axes>"
      ]
     },
     "metadata": {
      "needs_background": "light"
     },
     "output_type": "display_data"
    }
   ],
   "source": [
    "df['created_at'].dt.weekday.hist(bins=7)"
   ]
  },
  {
   "cell_type": "markdown",
   "metadata": {},
   "source": [
    "<h2>Distribution of hours of day:"
   ]
  },
  {
   "cell_type": "code",
   "execution_count": 9,
   "metadata": {},
   "outputs": [
    {
     "data": {
      "text/plain": [
       "<matplotlib.axes._subplots.AxesSubplot at 0x2b745e44128>"
      ]
     },
     "execution_count": 9,
     "metadata": {},
     "output_type": "execute_result"
    },
    {
     "data": {
      "image/png": "[encoded data removed]",
      "text/plain": [
       "<Figure size 720x576 with 1 Axes>"
      ]
     },
     "metadata": {
      "needs_background": "light"
     },
     "output_type": "display_data"
    }
   ],
   "source": [
    "df['created_at'].dt.hour.groupby(df['created_at'].dt.hour).count().plot(kind='bar',figsize=(10,8))"
   ]
  },
  {
   "cell_type": "markdown",
   "metadata": {},
   "source": [
    "<h2>Distribution per language:"
   ]
  },
  {
   "cell_type": "code",
   "execution_count": 10,
   "metadata": {},
   "outputs": [
    {
     "data": {
      "text/plain": [
       "<matplotlib.axes._subplots.AxesSubplot at 0x2b746224550>"
      ]
     },
     "execution_count": 10,
     "metadata": {},
     "output_type": "execute_result"
    },
    {
     "data": {
      "image/png": "[encoded data removed]",
      "text/plain": [
       "<Figure size 1080x360 with 1 Axes>"
      ]
     },
     "metadata": {
      "needs_background": "light"
     },
     "output_type": "display_data"
    }
   ],
   "source": [
    "df['lang'].groupby(by=df['lang']).count().sort_values(ascending =False).plot(kind='bar',figsize=(15,5),grid=True)"
   ]
  },
  {
   "cell_type": "markdown",
   "metadata": {},
   "source": [
    "<h2>Distribution of tweets per conversation:"
   ]
  },
  {
   "cell_type": "code",
   "execution_count": null,
   "metadata": {},
   "outputs": [],
   "source": []
  },
  {
   "cell_type": "markdown",
   "metadata": {},
   "source": [
    "<h2>Distribution of tweets per user:"
   ]
  },
  {
   "cell_type": "code",
   "execution_count": 11,
   "metadata": {
    "collapsed": true
   },
   "outputs": [
    {
     "data": {
      "text/html": [
       "<div>\n",
       "<style scoped>\n",
       "    .dataframe tbody tr th:only-of-type {\n",
       "        vertical-align: middle;\n",
       "    }\n",
       "\n",
       "    .dataframe tbody tr th {\n",
       "        vertical-align: top;\n",
       "    }\n",
       "\n",
       "    .dataframe thead th {\n",
       "        text-align: right;\n",
       "    }\n",
       "</style>\n",
       "<table border=\"1\" class=\"dataframe\">\n",
       "  <thead>\n",
       "    <tr style=\"text-align: right;\">\n",
       "      <th></th>\n",
       "      <th>created_at</th>\n",
       "      <th>id</th>\n",
       "      <th>id_str</th>\n",
       "      <th>text</th>\n",
       "      <th>display_text_range</th>\n",
       "      <th>source</th>\n",
       "      <th>truncated</th>\n",
       "      <th>in_reply_to_status_id</th>\n",
       "      <th>in_reply_to_status_id_str</th>\n",
       "      <th>in_reply_to_user_id</th>\n",
       "      <th>...</th>\n",
       "      <th>filter_level</th>\n",
       "      <th>lang</th>\n",
       "      <th>timestamp_ms</th>\n",
       "      <th>retweeted_status</th>\n",
       "      <th>extended_tweet</th>\n",
       "      <th>quoted_status_id</th>\n",
       "      <th>quoted_status_id_str</th>\n",
       "      <th>quoted_status</th>\n",
       "      <th>quoted_status_permalink</th>\n",
       "      <th>delete</th>\n",
       "    </tr>\n",
       "  </thead>\n",
       "  <tbody>\n",
       "    <tr>\n",
       "      <th>0</th>\n",
       "      <td>2019-05-22 12:20:00+00:00</td>\n",
       "      <td>1.131173e+18</td>\n",
       "      <td>1.131173e+18</td>\n",
       "      <td>La ruta de easyJet entre Londres y Menorca tra...</td>\n",
       "      <td>[0, 113]</td>\n",
       "      <td>&lt;a href=\"https://about.twitter.com/products/tw...</td>\n",
       "      <td>0.0</td>\n",
       "      <td>NaN</td>\n",
       "      <td>NaN</td>\n",
       "      <td>NaN</td>\n",
       "      <td>...</td>\n",
       "      <td>low</td>\n",
       "      <td>es</td>\n",
       "      <td>2019-05-22 12:20:00.406</td>\n",
       "      <td>NaN</td>\n",
       "      <td>NaN</td>\n",
       "      <td>NaN</td>\n",
       "      <td>NaN</td>\n",
       "      <td>NaN</td>\n",
       "      <td>NaN</td>\n",
       "      <td>NaN</td>\n",
       "    </tr>\n",
       "    <tr>\n",
       "      <th>1</th>\n",
       "      <td>2019-05-22 12:20:01+00:00</td>\n",
       "      <td>1.131173e+18</td>\n",
       "      <td>1.131173e+18</td>\n",
       "      <td>RT @bttr_as1: @goody_tracy Here’s a list of so...</td>\n",
       "      <td>NaN</td>\n",
       "      <td>&lt;a href=\"http://twitter.com/download/iphone\" r...</td>\n",
       "      <td>0.0</td>\n",
       "      <td>NaN</td>\n",
       "      <td>NaN</td>\n",
       "      <td>NaN</td>\n",
       "      <td>...</td>\n",
       "      <td>low</td>\n",
       "      <td>en</td>\n",
       "      <td>2019-05-22 12:20:01.645</td>\n",
       "      <td>{'created_at': 'Tue May 21 19:43:11 +0000 2019...</td>\n",
       "      <td>NaN</td>\n",
       "      <td>NaN</td>\n",
       "      <td>NaN</td>\n",
       "      <td>NaN</td>\n",
       "      <td>NaN</td>\n",
       "      <td>NaN</td>\n",
       "    </tr>\n",
       "    <tr>\n",
       "      <th>2</th>\n",
       "      <td>2019-05-22 12:20:02+00:00</td>\n",
       "      <td>1.131173e+18</td>\n",
       "      <td>1.131173e+18</td>\n",
       "      <td>@British_Airways</td>\n",
       "      <td>NaN</td>\n",
       "      <td>&lt;a href=\"http://twitter.com/download/android\" ...</td>\n",
       "      <td>0.0</td>\n",
       "      <td>1.131033e+18</td>\n",
       "      <td>1.131033e+18</td>\n",
       "      <td>3.943766e+08</td>\n",
       "      <td>...</td>\n",
       "      <td>low</td>\n",
       "      <td>und</td>\n",
       "      <td>2019-05-22 12:20:02.560</td>\n",
       "      <td>NaN</td>\n",
       "      <td>NaN</td>\n",
       "      <td>NaN</td>\n",
       "      <td>NaN</td>\n",
       "      <td>NaN</td>\n",
       "      <td>NaN</td>\n",
       "      <td>NaN</td>\n",
       "    </tr>\n",
       "    <tr>\n",
       "      <th>3</th>\n",
       "      <td>2019-05-22 12:20:12+00:00</td>\n",
       "      <td>1.131173e+18</td>\n",
       "      <td>1.131173e+18</td>\n",
       "      <td>RT @TheRaceRadio: Nice change by @AmericanAir....</td>\n",
       "      <td>NaN</td>\n",
       "      <td>&lt;a href=\"http://twitter.com/download/android\" ...</td>\n",
       "      <td>0.0</td>\n",
       "      <td>NaN</td>\n",
       "      <td>NaN</td>\n",
       "      <td>NaN</td>\n",
       "      <td>...</td>\n",
       "      <td>low</td>\n",
       "      <td>en</td>\n",
       "      <td>2019-05-22 12:20:12.449</td>\n",
       "      <td>{'created_at': 'Wed May 22 02:53:26 +0000 2019...</td>\n",
       "      <td>NaN</td>\n",
       "      <td>NaN</td>\n",
       "      <td>NaN</td>\n",
       "      <td>NaN</td>\n",
       "      <td>NaN</td>\n",
       "      <td>NaN</td>\n",
       "    </tr>\n",
       "    <tr>\n",
       "      <th>4</th>\n",
       "      <td>2019-05-22 12:20:28+00:00</td>\n",
       "      <td>1.131173e+18</td>\n",
       "      <td>1.131173e+18</td>\n",
       "      <td>RT @sandeeprrao1991: BREAKING:-\\nKLM to fly 3x...</td>\n",
       "      <td>NaN</td>\n",
       "      <td>&lt;a href=\"https://mobile.twitter.com\" rel=\"nofo...</td>\n",
       "      <td>0.0</td>\n",
       "      <td>NaN</td>\n",
       "      <td>NaN</td>\n",
       "      <td>NaN</td>\n",
       "      <td>...</td>\n",
       "      <td>low</td>\n",
       "      <td>en</td>\n",
       "      <td>2019-05-22 12:20:28.237</td>\n",
       "      <td>{'created_at': 'Wed May 22 12:10:24 +0000 2019...</td>\n",
       "      <td>NaN</td>\n",
       "      <td>NaN</td>\n",
       "      <td>NaN</td>\n",
       "      <td>NaN</td>\n",
       "      <td>NaN</td>\n",
       "      <td>NaN</td>\n",
       "    </tr>\n",
       "    <tr>\n",
       "      <th>...</th>\n",
       "      <td>...</td>\n",
       "      <td>...</td>\n",
       "      <td>...</td>\n",
       "      <td>...</td>\n",
       "      <td>...</td>\n",
       "      <td>...</td>\n",
       "      <td>...</td>\n",
       "      <td>...</td>\n",
       "      <td>...</td>\n",
       "      <td>...</td>\n",
       "      <td>...</td>\n",
       "      <td>...</td>\n",
       "      <td>...</td>\n",
       "      <td>...</td>\n",
       "      <td>...</td>\n",
       "      <td>...</td>\n",
       "      <td>...</td>\n",
       "      <td>...</td>\n",
       "      <td>...</td>\n",
       "      <td>...</td>\n",
       "      <td>...</td>\n",
       "    </tr>\n",
       "    <tr>\n",
       "      <th>14384</th>\n",
       "      <td>2019-05-23 11:42:26+00:00</td>\n",
       "      <td>1.131526e+18</td>\n",
       "      <td>1.131526e+18</td>\n",
       "      <td>@yvettetravel were you invited to attend this?</td>\n",
       "      <td>NaN</td>\n",
       "      <td>&lt;a href=\"http://twitter.com/download/iphone\" r...</td>\n",
       "      <td>0.0</td>\n",
       "      <td>NaN</td>\n",
       "      <td>NaN</td>\n",
       "      <td>3.046262e+08</td>\n",
       "      <td>...</td>\n",
       "      <td>low</td>\n",
       "      <td>en</td>\n",
       "      <td>2019-05-23 11:42:26.066</td>\n",
       "      <td>NaN</td>\n",
       "      <td>NaN</td>\n",
       "      <td>1.131507e+18</td>\n",
       "      <td>1.131507e+18</td>\n",
       "      <td>{'created_at': 'Thu May 23 10:28:34 +0000 2019...</td>\n",
       "      <td>{'url': 'https://t.co/iLnuh7ejub', 'expanded':...</td>\n",
       "      <td>NaN</td>\n",
       "    </tr>\n",
       "    <tr>\n",
       "      <th>14385</th>\n",
       "      <td>2019-05-23 11:42:27+00:00</td>\n",
       "      <td>1.131526e+18</td>\n",
       "      <td>1.131526e+18</td>\n",
       "      <td>RT @RoyalFamily: The Queen sees how the @Briti...</td>\n",
       "      <td>NaN</td>\n",
       "      <td>&lt;a href=\"https://mobile.twitter.com\" rel=\"nofo...</td>\n",
       "      <td>0.0</td>\n",
       "      <td>NaN</td>\n",
       "      <td>NaN</td>\n",
       "      <td>NaN</td>\n",
       "      <td>...</td>\n",
       "      <td>low</td>\n",
       "      <td>en</td>\n",
       "      <td>2019-05-23 11:42:27.109</td>\n",
       "      <td>{'created_at': 'Thu May 23 11:13:08 +0000 2019...</td>\n",
       "      <td>NaN</td>\n",
       "      <td>NaN</td>\n",
       "      <td>NaN</td>\n",
       "      <td>NaN</td>\n",
       "      <td>NaN</td>\n",
       "      <td>NaN</td>\n",
       "    </tr>\n",
       "    <tr>\n",
       "      <th>14386</th>\n",
       "      <td>2019-05-23 11:42:27+00:00</td>\n",
       "      <td>1.131526e+18</td>\n",
       "      <td>1.131526e+18</td>\n",
       "      <td>@RoyalSpectator @British_Airways She looks AMA...</td>\n",
       "      <td>[33, 60]</td>\n",
       "      <td>&lt;a href=\"http://twitter.com\" rel=\"nofollow\"&gt;Tw...</td>\n",
       "      <td>0.0</td>\n",
       "      <td>1.131512e+18</td>\n",
       "      <td>1.131512e+18</td>\n",
       "      <td>1.590887e+09</td>\n",
       "      <td>...</td>\n",
       "      <td>low</td>\n",
       "      <td>en</td>\n",
       "      <td>2019-05-23 11:42:27.469</td>\n",
       "      <td>NaN</td>\n",
       "      <td>NaN</td>\n",
       "      <td>NaN</td>\n",
       "      <td>NaN</td>\n",
       "      <td>NaN</td>\n",
       "      <td>NaN</td>\n",
       "      <td>NaN</td>\n",
       "    </tr>\n",
       "    <tr>\n",
       "      <th>14387</th>\n",
       "      <td>2019-05-23 11:42:35+00:00</td>\n",
       "      <td>1.131526e+18</td>\n",
       "      <td>1.131526e+18</td>\n",
       "      <td>@maj_fox @British_Airways Should happen more o...</td>\n",
       "      <td>[26, 94]</td>\n",
       "      <td>&lt;a href=\"http://twitter.com/download/android\" ...</td>\n",
       "      <td>0.0</td>\n",
       "      <td>1.131484e+18</td>\n",
       "      <td>1.131484e+18</td>\n",
       "      <td>1.085556e+18</td>\n",
       "      <td>...</td>\n",
       "      <td>low</td>\n",
       "      <td>en</td>\n",
       "      <td>2019-05-23 11:42:35.858</td>\n",
       "      <td>NaN</td>\n",
       "      <td>NaN</td>\n",
       "      <td>NaN</td>\n",
       "      <td>NaN</td>\n",
       "      <td>NaN</td>\n",
       "      <td>NaN</td>\n",
       "      <td>NaN</td>\n",
       "    </tr>\n",
       "    <tr>\n",
       "      <th>14388</th>\n",
       "      <td>2019-05-23 11:42:44+00:00</td>\n",
       "      <td>1.131526e+18</td>\n",
       "      <td>1.131526e+18</td>\n",
       "      <td>@British_Airways delayed 5hrs on flight BA0103...</td>\n",
       "      <td>NaN</td>\n",
       "      <td>&lt;a href=\"http://twitter.com/download/iphone\" r...</td>\n",
       "      <td>1.0</td>\n",
       "      <td>NaN</td>\n",
       "      <td>NaN</td>\n",
       "      <td>1.833219e+07</td>\n",
       "      <td>...</td>\n",
       "      <td>low</td>\n",
       "      <td>en</td>\n",
       "      <td>2019-05-23 11:42:44.440</td>\n",
       "      <td>NaN</td>\n",
       "      <td>{'full_text': '@British_Airways delayed 5hrs o...</td>\n",
       "      <td>NaN</td>\n",
       "      <td>NaN</td>\n",
       "      <td>NaN</td>\n",
       "      <td>NaN</td>\n",
       "      <td>NaN</td>\n",
       "    </tr>\n",
       "  </tbody>\n",
       "</table>\n",
       "<p>14389 rows × 37 columns</p>\n",
       "</div>"
      ],
      "text/plain": [
       "                     created_at            id        id_str  \\\n",
       "0     2019-05-22 12:20:00+00:00  1.131173e+18  1.131173e+18   \n",
       "1     2019-05-22 12:20:01+00:00  1.131173e+18  1.131173e+18   \n",
       "2     2019-05-22 12:20:02+00:00  1.131173e+18  1.131173e+18   \n",
       "3     2019-05-22 12:20:12+00:00  1.131173e+18  1.131173e+18   \n",
       "4     2019-05-22 12:20:28+00:00  1.131173e+18  1.131173e+18   \n",
       "...                         ...           ...           ...   \n",
       "14384 2019-05-23 11:42:26+00:00  1.131526e+18  1.131526e+18   \n",
       "14385 2019-05-23 11:42:27+00:00  1.131526e+18  1.131526e+18   \n",
       "14386 2019-05-23 11:42:27+00:00  1.131526e+18  1.131526e+18   \n",
       "14387 2019-05-23 11:42:35+00:00  1.131526e+18  1.131526e+18   \n",
       "14388 2019-05-23 11:42:44+00:00  1.131526e+18  1.131526e+18   \n",
       "\n",
       "                                                    text display_text_range  \\\n",
       "0      La ruta de easyJet entre Londres y Menorca tra...           [0, 113]   \n",
       "1      RT @bttr_as1: @goody_tracy Here’s a list of so...                NaN   \n",
       "2                                       @British_Airways                NaN   \n",
       "3      RT @TheRaceRadio: Nice change by @AmericanAir....                NaN   \n",
       "4      RT @sandeeprrao1991: BREAKING:-\\nKLM to fly 3x...                NaN   \n",
       "...                                                  ...                ...   \n",
       "14384     @yvettetravel were you invited to attend this?                NaN   \n",
       "14385  RT @RoyalFamily: The Queen sees how the @Briti...                NaN   \n",
       "14386  @RoyalSpectator @British_Airways She looks AMA...           [33, 60]   \n",
       "14387  @maj_fox @British_Airways Should happen more o...           [26, 94]   \n",
       "14388  @British_Airways delayed 5hrs on flight BA0103...                NaN   \n",
       "\n",
       "                                                  source  truncated  \\\n",
       "0      <a href=\"https://about.twitter.com/products/tw...        0.0   \n",
       "1      <a href=\"http://twitter.com/download/iphone\" r...        0.0   \n",
       "2      <a href=\"http://twitter.com/download/android\" ...        0.0   \n",
       "3      <a href=\"http://twitter.com/download/android\" ...        0.0   \n",
       "4      <a href=\"https://mobile.twitter.com\" rel=\"nofo...        0.0   \n",
       "...                                                  ...        ...   \n",
       "14384  <a href=\"http://twitter.com/download/iphone\" r...        0.0   \n",
       "14385  <a href=\"https://mobile.twitter.com\" rel=\"nofo...        0.0   \n",
       "14386  <a href=\"http://twitter.com\" rel=\"nofollow\">Tw...        0.0   \n",
       "14387  <a href=\"http://twitter.com/download/android\" ...        0.0   \n",
       "14388  <a href=\"http://twitter.com/download/iphone\" r...        1.0   \n",
       "\n",
       "       in_reply_to_status_id  in_reply_to_status_id_str  in_reply_to_user_id  \\\n",
       "0                        NaN                        NaN                  NaN   \n",
       "1                        NaN                        NaN                  NaN   \n",
       "2               1.131033e+18               1.131033e+18         3.943766e+08   \n",
       "3                        NaN                        NaN                  NaN   \n",
       "4                        NaN                        NaN                  NaN   \n",
       "...                      ...                        ...                  ...   \n",
       "14384                    NaN                        NaN         3.046262e+08   \n",
       "14385                    NaN                        NaN                  NaN   \n",
       "14386           1.131512e+18               1.131512e+18         1.590887e+09   \n",
       "14387           1.131484e+18               1.131484e+18         1.085556e+18   \n",
       "14388                    NaN                        NaN         1.833219e+07   \n",
       "\n",
       "       ...  filter_level lang            timestamp_ms  \\\n",
       "0      ...           low   es 2019-05-22 12:20:00.406   \n",
       "1      ...           low   en 2019-05-22 12:20:01.645   \n",
       "2      ...           low  und 2019-05-22 12:20:02.560   \n",
       "3      ...           low   en 2019-05-22 12:20:12.449   \n",
       "4      ...           low   en 2019-05-22 12:20:28.237   \n",
       "...    ...           ...  ...                     ...   \n",
       "14384  ...           low   en 2019-05-23 11:42:26.066   \n",
       "14385  ...           low   en 2019-05-23 11:42:27.109   \n",
       "14386  ...           low   en 2019-05-23 11:42:27.469   \n",
       "14387  ...           low   en 2019-05-23 11:42:35.858   \n",
       "14388  ...           low   en 2019-05-23 11:42:44.440   \n",
       "\n",
       "                                        retweeted_status  \\\n",
       "0                                                    NaN   \n",
       "1      {'created_at': 'Tue May 21 19:43:11 +0000 2019...   \n",
       "2                                                    NaN   \n",
       "3      {'created_at': 'Wed May 22 02:53:26 +0000 2019...   \n",
       "4      {'created_at': 'Wed May 22 12:10:24 +0000 2019...   \n",
       "...                                                  ...   \n",
       "14384                                                NaN   \n",
       "14385  {'created_at': 'Thu May 23 11:13:08 +0000 2019...   \n",
       "14386                                                NaN   \n",
       "14387                                                NaN   \n",
       "14388                                                NaN   \n",
       "\n",
       "                                          extended_tweet quoted_status_id  \\\n",
       "0                                                    NaN              NaN   \n",
       "1                                                    NaN              NaN   \n",
       "2                                                    NaN              NaN   \n",
       "3                                                    NaN              NaN   \n",
       "4                                                    NaN              NaN   \n",
       "...                                                  ...              ...   \n",
       "14384                                                NaN     1.131507e+18   \n",
       "14385                                                NaN              NaN   \n",
       "14386                                                NaN              NaN   \n",
       "14387                                                NaN              NaN   \n",
       "14388  {'full_text': '@British_Airways delayed 5hrs o...              NaN   \n",
       "\n",
       "       quoted_status_id_str  \\\n",
       "0                       NaN   \n",
       "1                       NaN   \n",
       "2                       NaN   \n",
       "3                       NaN   \n",
       "4                       NaN   \n",
       "...                     ...   \n",
       "14384          1.131507e+18   \n",
       "14385                   NaN   \n",
       "14386                   NaN   \n",
       "14387                   NaN   \n",
       "14388                   NaN   \n",
       "\n",
       "                                           quoted_status  \\\n",
       "0                                                    NaN   \n",
       "1                                                    NaN   \n",
       "2                                                    NaN   \n",
       "3                                                    NaN   \n",
       "4                                                    NaN   \n",
       "...                                                  ...   \n",
       "14384  {'created_at': 'Thu May 23 10:28:34 +0000 2019...   \n",
       "14385                                                NaN   \n",
       "14386                                                NaN   \n",
       "14387                                                NaN   \n",
       "14388                                                NaN   \n",
       "\n",
       "                                 quoted_status_permalink  delete  \n",
       "0                                                    NaN     NaN  \n",
       "1                                                    NaN     NaN  \n",
       "2                                                    NaN     NaN  \n",
       "3                                                    NaN     NaN  \n",
       "4                                                    NaN     NaN  \n",
       "...                                                  ...     ...  \n",
       "14384  {'url': 'https://t.co/iLnuh7ejub', 'expanded':...     NaN  \n",
       "14385                                                NaN     NaN  \n",
       "14386                                                NaN     NaN  \n",
       "14387                                                NaN     NaN  \n",
       "14388                                                NaN     NaN  \n",
       "\n",
       "[14389 rows x 37 columns]"
      ]
     },
     "execution_count": 11,
     "metadata": {},
     "output_type": "execute_result"
    }
   ],
   "source": [
    "df"
   ]
  },
  {
   "cell_type": "code",
   "execution_count": 25,
   "metadata": {},
   "outputs": [],
   "source": []
  },
  {
   "cell_type": "code",
   "execution_count": 26,
   "metadata": {},
   "outputs": [
    {
     "name": "stdout",
     "output_type": "stream",
     "text": [
      "Wall time: 16.9 s\n"
     ]
    }
   ],
   "source": [
    "%%time\n",
    "met2()"
   ]
  },
  {
   "cell_type": "code",
   "execution_count": null,
   "metadata": {},
   "outputs": [],
   "source": []
  }
 ],
 "metadata": {
  "kernelspec": {
   "display_name": "Python 3",
   "language": "python",
   "name": "python3"
  },
  "language_info": {
   "codemirror_mode": {
    "name": "ipython",
    "version": 3
   },
   "file_extension": ".py",
   "mimetype": "text/x-python",
   "name": "python",
   "nbconvert_exporter": "python",
   "pygments_lexer": "ipython3",
   "version": "3.7.1"
  }
 },
 "nbformat": 4,
 "nbformat_minor": 2
}
